{
 "cells": [
  {
   "cell_type": "code",
   "execution_count": 1,
   "metadata": {},
   "outputs": [],
   "source": [
    "import pandas as pd\n",
    "import numpy as np\n",
    "import matplotlib.pyplot as plt\n",
    "import seaborn as sns"
   ]
  },
  {
   "cell_type": "code",
   "execution_count": 10,
   "metadata": {},
   "outputs": [],
   "source": [
    "visit1 = pd.read_csv('clean_tables/1_separate_visits/df_v1')\n",
    "visit2 = pd.read_csv('clean_tables/1_separate_visits/df_v2')\n",
    "visit3 = pd.read_csv('clean_tables/1_separate_visits/df_v3')"
   ]
  },
  {
   "cell_type": "code",
   "execution_count": 5,
   "metadata": {},
   "outputs": [
    {
     "data": {
      "text/html": [
       "<div>\n",
       "<style scoped>\n",
       "    .dataframe tbody tr th:only-of-type {\n",
       "        vertical-align: middle;\n",
       "    }\n",
       "\n",
       "    .dataframe tbody tr th {\n",
       "        vertical-align: top;\n",
       "    }\n",
       "\n",
       "    .dataframe thead th {\n",
       "        text-align: right;\n",
       "    }\n",
       "</style>\n",
       "<table border=\"1\" class=\"dataframe\">\n",
       "  <thead>\n",
       "    <tr style=\"text-align: right;\">\n",
       "      <th></th>\n",
       "      <th>sex</th>\n",
       "      <th>age_years</th>\n",
       "      <th>years_education</th>\n",
       "      <th>APOE4</th>\n",
       "      <th>apoe_result</th>\n",
       "      <th>family_dementia_history</th>\n",
       "      <th>ptau_result</th>\n",
       "      <th>ttau_result</th>\n",
       "      <th>abeta42_result</th>\n",
       "      <th>AMYL</th>\n",
       "      <th>...</th>\n",
       "      <th>Depression</th>\n",
       "      <th>cdr_global</th>\n",
       "      <th>DX</th>\n",
       "      <th>cdr_sob</th>\n",
       "      <th>LHVL</th>\n",
       "      <th>LHVR</th>\n",
       "      <th>LHV</th>\n",
       "      <th>LWMV</th>\n",
       "      <th>VASCULAR</th>\n",
       "      <th>DXCHANGE</th>\n",
       "    </tr>\n",
       "  </thead>\n",
       "  <tbody>\n",
       "    <tr>\n",
       "      <th>0</th>\n",
       "      <td>f</td>\n",
       "      <td>51</td>\n",
       "      <td>11</td>\n",
       "      <td>0.0</td>\n",
       "      <td>e3/e3</td>\n",
       "      <td>Yes</td>\n",
       "      <td>16.3</td>\n",
       "      <td>331.0</td>\n",
       "      <td>1363.0</td>\n",
       "      <td>0.0</td>\n",
       "      <td>...</td>\n",
       "      <td>False</td>\n",
       "      <td>2.0</td>\n",
       "      <td>Dem</td>\n",
       "      <td>16.5</td>\n",
       "      <td>-1.701</td>\n",
       "      <td>-0.521</td>\n",
       "      <td>-2.221</td>\n",
       "      <td>-0.723</td>\n",
       "      <td>0.0</td>\n",
       "      <td>Stable: Dementia</td>\n",
       "    </tr>\n",
       "    <tr>\n",
       "      <th>1</th>\n",
       "      <td>m</td>\n",
       "      <td>76</td>\n",
       "      <td>10</td>\n",
       "      <td>2.0</td>\n",
       "      <td>e4/e4</td>\n",
       "      <td>Yes</td>\n",
       "      <td>22.9</td>\n",
       "      <td>223.0</td>\n",
       "      <td>1700.0</td>\n",
       "      <td>0.0</td>\n",
       "      <td>...</td>\n",
       "      <td>True</td>\n",
       "      <td>0.5</td>\n",
       "      <td>MCI</td>\n",
       "      <td>1.5</td>\n",
       "      <td>0.254</td>\n",
       "      <td>0.025</td>\n",
       "      <td>0.279</td>\n",
       "      <td>0.000</td>\n",
       "      <td>1.0</td>\n",
       "      <td>Reversion: MCI to NC</td>\n",
       "    </tr>\n",
       "    <tr>\n",
       "      <th>2</th>\n",
       "      <td>f</td>\n",
       "      <td>61</td>\n",
       "      <td>14</td>\n",
       "      <td>0.0</td>\n",
       "      <td>e3/e3</td>\n",
       "      <td>Yes</td>\n",
       "      <td>19.8</td>\n",
       "      <td>202.0</td>\n",
       "      <td>1406.0</td>\n",
       "      <td>0.0</td>\n",
       "      <td>...</td>\n",
       "      <td>True</td>\n",
       "      <td>1.0</td>\n",
       "      <td>Dem</td>\n",
       "      <td>5.5</td>\n",
       "      <td>-0.642</td>\n",
       "      <td>-0.657</td>\n",
       "      <td>-1.299</td>\n",
       "      <td>0.210</td>\n",
       "      <td>1.0</td>\n",
       "      <td>Stable: Dementia</td>\n",
       "    </tr>\n",
       "    <tr>\n",
       "      <th>3</th>\n",
       "      <td>f</td>\n",
       "      <td>53</td>\n",
       "      <td>10</td>\n",
       "      <td>1.0</td>\n",
       "      <td>e2/e4</td>\n",
       "      <td>Yes</td>\n",
       "      <td>22.1</td>\n",
       "      <td>80.0</td>\n",
       "      <td>1150.0</td>\n",
       "      <td>0.0</td>\n",
       "      <td>...</td>\n",
       "      <td>True</td>\n",
       "      <td>NaN</td>\n",
       "      <td>NaN</td>\n",
       "      <td>NaN</td>\n",
       "      <td>-2.135</td>\n",
       "      <td>0.950</td>\n",
       "      <td>-1.185</td>\n",
       "      <td>1.042</td>\n",
       "      <td>1.0</td>\n",
       "      <td>NaN</td>\n",
       "    </tr>\n",
       "    <tr>\n",
       "      <th>4</th>\n",
       "      <td>f</td>\n",
       "      <td>77</td>\n",
       "      <td>20</td>\n",
       "      <td>1.0</td>\n",
       "      <td>e3/e4</td>\n",
       "      <td>Yes</td>\n",
       "      <td>NaN</td>\n",
       "      <td>NaN</td>\n",
       "      <td>NaN</td>\n",
       "      <td>NaN</td>\n",
       "      <td>...</td>\n",
       "      <td>True</td>\n",
       "      <td>2.0</td>\n",
       "      <td>Dem</td>\n",
       "      <td>5.5</td>\n",
       "      <td>0.095</td>\n",
       "      <td>-1.189</td>\n",
       "      <td>-1.094</td>\n",
       "      <td>-0.567</td>\n",
       "      <td>0.0</td>\n",
       "      <td>Stable: Dementia</td>\n",
       "    </tr>\n",
       "    <tr>\n",
       "      <th>...</th>\n",
       "      <td>...</td>\n",
       "      <td>...</td>\n",
       "      <td>...</td>\n",
       "      <td>...</td>\n",
       "      <td>...</td>\n",
       "      <td>...</td>\n",
       "      <td>...</td>\n",
       "      <td>...</td>\n",
       "      <td>...</td>\n",
       "      <td>...</td>\n",
       "      <td>...</td>\n",
       "      <td>...</td>\n",
       "      <td>...</td>\n",
       "      <td>...</td>\n",
       "      <td>...</td>\n",
       "      <td>...</td>\n",
       "      <td>...</td>\n",
       "      <td>...</td>\n",
       "      <td>...</td>\n",
       "      <td>...</td>\n",
       "      <td>...</td>\n",
       "    </tr>\n",
       "    <tr>\n",
       "      <th>995</th>\n",
       "      <td>m</td>\n",
       "      <td>89</td>\n",
       "      <td>12</td>\n",
       "      <td>NaN</td>\n",
       "      <td>NaN</td>\n",
       "      <td>Yes</td>\n",
       "      <td>37.9</td>\n",
       "      <td>268.0</td>\n",
       "      <td>1009.0</td>\n",
       "      <td>0.0</td>\n",
       "      <td>...</td>\n",
       "      <td>True</td>\n",
       "      <td>0.5</td>\n",
       "      <td>MCI</td>\n",
       "      <td>0.5</td>\n",
       "      <td>-0.740</td>\n",
       "      <td>-2.162</td>\n",
       "      <td>-2.901</td>\n",
       "      <td>-1.727</td>\n",
       "      <td>0.0</td>\n",
       "      <td>NaN</td>\n",
       "    </tr>\n",
       "    <tr>\n",
       "      <th>996</th>\n",
       "      <td>m</td>\n",
       "      <td>81</td>\n",
       "      <td>13</td>\n",
       "      <td>1.0</td>\n",
       "      <td>e3/e4</td>\n",
       "      <td>Yes</td>\n",
       "      <td>21.7</td>\n",
       "      <td>382.0</td>\n",
       "      <td>1700.0</td>\n",
       "      <td>0.0</td>\n",
       "      <td>...</td>\n",
       "      <td>True</td>\n",
       "      <td>1.0</td>\n",
       "      <td>Dem</td>\n",
       "      <td>11.5</td>\n",
       "      <td>0.338</td>\n",
       "      <td>1.311</td>\n",
       "      <td>1.649</td>\n",
       "      <td>-1.433</td>\n",
       "      <td>0.0</td>\n",
       "      <td>Reversion: Dementia to MCI</td>\n",
       "    </tr>\n",
       "    <tr>\n",
       "      <th>997</th>\n",
       "      <td>m</td>\n",
       "      <td>66</td>\n",
       "      <td>20</td>\n",
       "      <td>1.0</td>\n",
       "      <td>e3/e4</td>\n",
       "      <td>Yes</td>\n",
       "      <td>NaN</td>\n",
       "      <td>NaN</td>\n",
       "      <td>NaN</td>\n",
       "      <td>NaN</td>\n",
       "      <td>...</td>\n",
       "      <td>True</td>\n",
       "      <td>0.5</td>\n",
       "      <td>MCI</td>\n",
       "      <td>2.5</td>\n",
       "      <td>1.944</td>\n",
       "      <td>-0.770</td>\n",
       "      <td>1.173</td>\n",
       "      <td>-0.353</td>\n",
       "      <td>0.0</td>\n",
       "      <td>Conversion: MCI to Dementia</td>\n",
       "    </tr>\n",
       "    <tr>\n",
       "      <th>998</th>\n",
       "      <td>m</td>\n",
       "      <td>70</td>\n",
       "      <td>16</td>\n",
       "      <td>1.0</td>\n",
       "      <td>e3/e4</td>\n",
       "      <td>Yes</td>\n",
       "      <td>26.3</td>\n",
       "      <td>301.0</td>\n",
       "      <td>755.0</td>\n",
       "      <td>0.0</td>\n",
       "      <td>...</td>\n",
       "      <td>True</td>\n",
       "      <td>1.0</td>\n",
       "      <td>Dem</td>\n",
       "      <td>16.5</td>\n",
       "      <td>0.464</td>\n",
       "      <td>-0.094</td>\n",
       "      <td>0.370</td>\n",
       "      <td>1.524</td>\n",
       "      <td>1.0</td>\n",
       "      <td>Reversion: Dementia to NC</td>\n",
       "    </tr>\n",
       "    <tr>\n",
       "      <th>999</th>\n",
       "      <td>un</td>\n",
       "      <td>57</td>\n",
       "      <td>14</td>\n",
       "      <td>2.0</td>\n",
       "      <td>e4/e4</td>\n",
       "      <td>No</td>\n",
       "      <td>18.5</td>\n",
       "      <td>234.0</td>\n",
       "      <td>994.0</td>\n",
       "      <td>0.0</td>\n",
       "      <td>...</td>\n",
       "      <td>True</td>\n",
       "      <td>0.5</td>\n",
       "      <td>MCI</td>\n",
       "      <td>2.5</td>\n",
       "      <td>0.761</td>\n",
       "      <td>-2.687</td>\n",
       "      <td>-1.925</td>\n",
       "      <td>1.280</td>\n",
       "      <td>1.0</td>\n",
       "      <td>Reversion: MCI to NC</td>\n",
       "    </tr>\n",
       "  </tbody>\n",
       "</table>\n",
       "<p>1000 rows × 27 columns</p>\n",
       "</div>"
      ],
      "text/plain": [
       "    sex  age_years  years_education  APOE4 apoe_result  \\\n",
       "0     f         51               11    0.0       e3/e3   \n",
       "1     m         76               10    2.0       e4/e4   \n",
       "2     f         61               14    0.0       e3/e3   \n",
       "3     f         53               10    1.0       e2/e4   \n",
       "4     f         77               20    1.0       e3/e4   \n",
       "..   ..        ...              ...    ...         ...   \n",
       "995   m         89               12    NaN         NaN   \n",
       "996   m         81               13    1.0       e3/e4   \n",
       "997   m         66               20    1.0       e3/e4   \n",
       "998   m         70               16    1.0       e3/e4   \n",
       "999  un         57               14    2.0       e4/e4   \n",
       "\n",
       "    family_dementia_history  ptau_result  ttau_result  abeta42_result  AMYL  \\\n",
       "0                       Yes         16.3        331.0          1363.0   0.0   \n",
       "1                       Yes         22.9        223.0          1700.0   0.0   \n",
       "2                       Yes         19.8        202.0          1406.0   0.0   \n",
       "3                       Yes         22.1         80.0          1150.0   0.0   \n",
       "4                       Yes          NaN          NaN             NaN   NaN   \n",
       "..                      ...          ...          ...             ...   ...   \n",
       "995                     Yes         37.9        268.0          1009.0   0.0   \n",
       "996                     Yes         21.7        382.0          1700.0   0.0   \n",
       "997                     Yes          NaN          NaN             NaN   NaN   \n",
       "998                     Yes         26.3        301.0           755.0   0.0   \n",
       "999                      No         18.5        234.0           994.0   0.0   \n",
       "\n",
       "     ...  Depression  cdr_global   DX  cdr_sob   LHVL   LHVR    LHV   LWMV  \\\n",
       "0    ...       False         2.0  Dem     16.5 -1.701 -0.521 -2.221 -0.723   \n",
       "1    ...        True         0.5  MCI      1.5  0.254  0.025  0.279  0.000   \n",
       "2    ...        True         1.0  Dem      5.5 -0.642 -0.657 -1.299  0.210   \n",
       "3    ...        True         NaN  NaN      NaN -2.135  0.950 -1.185  1.042   \n",
       "4    ...        True         2.0  Dem      5.5  0.095 -1.189 -1.094 -0.567   \n",
       "..   ...         ...         ...  ...      ...    ...    ...    ...    ...   \n",
       "995  ...        True         0.5  MCI      0.5 -0.740 -2.162 -2.901 -1.727   \n",
       "996  ...        True         1.0  Dem     11.5  0.338  1.311  1.649 -1.433   \n",
       "997  ...        True         0.5  MCI      2.5  1.944 -0.770  1.173 -0.353   \n",
       "998  ...        True         1.0  Dem     16.5  0.464 -0.094  0.370  1.524   \n",
       "999  ...        True         0.5  MCI      2.5  0.761 -2.687 -1.925  1.280   \n",
       "\n",
       "     VASCULAR                     DXCHANGE  \n",
       "0         0.0             Stable: Dementia  \n",
       "1         1.0         Reversion: MCI to NC  \n",
       "2         1.0             Stable: Dementia  \n",
       "3         1.0                          NaN  \n",
       "4         0.0             Stable: Dementia  \n",
       "..        ...                          ...  \n",
       "995       0.0                          NaN  \n",
       "996       0.0   Reversion: Dementia to MCI  \n",
       "997       0.0  Conversion: MCI to Dementia  \n",
       "998       1.0    Reversion: Dementia to NC  \n",
       "999       1.0         Reversion: MCI to NC  \n",
       "\n",
       "[1000 rows x 27 columns]"
      ]
     },
     "execution_count": 5,
     "metadata": {},
     "output_type": "execute_result"
    }
   ],
   "source": [
    "visit1"
   ]
  },
  {
   "attachments": {},
   "cell_type": "markdown",
   "metadata": {},
   "source": [
    "## REMOVE NaN values"
   ]
  },
  {
   "cell_type": "code",
   "execution_count": 6,
   "metadata": {},
   "outputs": [
    {
     "data": {
      "text/plain": [
       "sex                          0\n",
       "age_years                    0\n",
       "years_education              0\n",
       "APOE4                      103\n",
       "apoe_result                103\n",
       "family_dementia_history      0\n",
       "ptau_result                100\n",
       "ttau_result                100\n",
       "abeta42_result             100\n",
       "AMYL                       100\n",
       "TAUO                       100\n",
       "NEUROD                     100\n",
       "ATN                        100\n",
       "MONTHS                      98\n",
       "mmse_total                  98\n",
       "np_date                     98\n",
       "gds_total                   97\n",
       "Depression                   0\n",
       "cdr_global                  95\n",
       "DX                          95\n",
       "cdr_sob                     95\n",
       "LHVL                         0\n",
       "LHVR                         0\n",
       "LHV                          0\n",
       "LWMV                         0\n",
       "VASCULAR                     0\n",
       "DXCHANGE                   190\n",
       "dtype: int64"
      ]
     },
     "execution_count": 6,
     "metadata": {},
     "output_type": "execute_result"
    }
   ],
   "source": [
    "# count NaN values\n",
    "visit1.isnull().sum()"
   ]
  },
  {
   "attachments": {},
   "cell_type": "markdown",
   "metadata": {},
   "source": [
    "maybe its the same patients that have ptau, ttau, abeta, AMYL, TAUO, NEUROD, ATN missing! Let's check that!"
   ]
  },
  {
   "cell_type": "code",
   "execution_count": 7,
   "metadata": {},
   "outputs": [],
   "source": [
    "# drop lines with many NaN values\n",
    "visit1_some_columns = visit1[[\"abeta42_result\",\"ptau_result\", \"ttau_result\", \"ATN\", \"AMYL\", \"NEUROD\"]]\n",
    "indices_na = visit1_some_columns[visit1_some_columns.isna().all(axis=1)].index"
   ]
  },
  {
   "cell_type": "code",
   "execution_count": 9,
   "metadata": {},
   "outputs": [
    {
     "data": {
      "text/plain": [
       "100"
      ]
     },
     "execution_count": 9,
     "metadata": {},
     "output_type": "execute_result"
    }
   ],
   "source": [
    "len(indices_na)"
   ]
  },
  {
   "attachments": {},
   "cell_type": "markdown",
   "metadata": {},
   "source": [
    "Indeed it's the same patients that have these NaN values. Let's remove them!"
   ]
  },
  {
   "cell_type": "code",
   "execution_count": 13,
   "metadata": {},
   "outputs": [],
   "source": [
    "# make sure we just remove the indices once\n",
    "assert visit1.shape[0] == 1000\n",
    "df_v1 = visit1.drop(indices_na, inplace=False)\n",
    "df_v2 = visit2.drop(indices_na, inplace=False)\n",
    "df_v3 = visit3.drop(indices_na, inplace=False)"
   ]
  },
  {
   "cell_type": "code",
   "execution_count": 14,
   "metadata": {},
   "outputs": [],
   "source": [
    "# store the new patients\n",
    "# df_v1.to_csv('clean_tables/1_separate_visits/df_v1_no_na', index=False)\n",
    "# df_v2.to_csv('clean_tables/1_separate_visits/df_v2_no_na', index=False)\n",
    "# df_v3.to_csv('clean_tables/1_separate_visits/df_v3_no_na', index=False)"
   ]
  },
  {
   "attachments": {},
   "cell_type": "markdown",
   "metadata": {},
   "source": [
    "## Let's check the new datasets"
   ]
  },
  {
   "cell_type": "code",
   "execution_count": 17,
   "metadata": {},
   "outputs": [],
   "source": [
    "df_v1 = pd.read_csv('clean_tables/1_separate_visits/df_v1_no_na')\n",
    "df_v2 = pd.read_csv('clean_tables/1_separate_visits/df_v2_no_na')\n",
    "df_v3 = pd.read_csv('clean_tables/1_separate_visits/df_v3_no_na')"
   ]
  },
  {
   "attachments": {},
   "cell_type": "markdown",
   "metadata": {},
   "source": [
    "Let's look at the evolution in time of the data we have from the three visits"
   ]
  },
  {
   "cell_type": "code",
   "execution_count": 19,
   "metadata": {},
   "outputs": [
    {
     "data": {
      "text/plain": [
       "Index(['sex', 'age_years', 'years_education', 'APOE4', 'apoe_result',\n",
       "       'family_dementia_history', 'MONTHS', 'mmse_total', 'np_date',\n",
       "       'gds_total', 'Depression', 'cdr_global', 'DX', 'cdr_sob'],\n",
       "      dtype='object')"
      ]
     },
     "execution_count": 19,
     "metadata": {},
     "output_type": "execute_result"
    }
   ],
   "source": [
    "common_columns = df_v1.columns.intersection(df_v2.columns).intersection(df_v3.columns)\n",
    "common_columns"
   ]
  },
  {
   "attachments": {},
   "cell_type": "markdown",
   "metadata": {},
   "source": [
    "let's look at the ages difference"
   ]
  },
  {
   "cell_type": "code",
   "execution_count": 21,
   "metadata": {},
   "outputs": [],
   "source": [
    "df_ages = pd.DataFrame({'age_v1': df_v1['age_years'], 'age_v2': df_v2['age_years'], 'age_v3': df_v3['age_years']})"
   ]
  },
  {
   "cell_type": "code",
   "execution_count": 23,
   "metadata": {},
   "outputs": [
    {
     "data": {
      "text/html": [
       "<div>\n",
       "<style scoped>\n",
       "    .dataframe tbody tr th:only-of-type {\n",
       "        vertical-align: middle;\n",
       "    }\n",
       "\n",
       "    .dataframe tbody tr th {\n",
       "        vertical-align: top;\n",
       "    }\n",
       "\n",
       "    .dataframe thead th {\n",
       "        text-align: right;\n",
       "    }\n",
       "</style>\n",
       "<table border=\"1\" class=\"dataframe\">\n",
       "  <thead>\n",
       "    <tr style=\"text-align: right;\">\n",
       "      <th></th>\n",
       "      <th>age_v1</th>\n",
       "      <th>age_v2</th>\n",
       "      <th>age_v3</th>\n",
       "    </tr>\n",
       "  </thead>\n",
       "  <tbody>\n",
       "    <tr>\n",
       "      <th>0</th>\n",
       "      <td>51</td>\n",
       "      <td>52</td>\n",
       "      <td>55</td>\n",
       "    </tr>\n",
       "    <tr>\n",
       "      <th>1</th>\n",
       "      <td>76</td>\n",
       "      <td>76</td>\n",
       "      <td>80</td>\n",
       "    </tr>\n",
       "    <tr>\n",
       "      <th>2</th>\n",
       "      <td>61</td>\n",
       "      <td>62</td>\n",
       "      <td>61</td>\n",
       "    </tr>\n",
       "    <tr>\n",
       "      <th>3</th>\n",
       "      <td>53</td>\n",
       "      <td>54</td>\n",
       "      <td>56</td>\n",
       "    </tr>\n",
       "    <tr>\n",
       "      <th>4</th>\n",
       "      <td>56</td>\n",
       "      <td>57</td>\n",
       "      <td>60</td>\n",
       "    </tr>\n",
       "  </tbody>\n",
       "</table>\n",
       "</div>"
      ],
      "text/plain": [
       "   age_v1  age_v2  age_v3\n",
       "0      51      52      55\n",
       "1      76      76      80\n",
       "2      61      62      61\n",
       "3      53      54      56\n",
       "4      56      57      60"
      ]
     },
     "execution_count": 23,
     "metadata": {},
     "output_type": "execute_result"
    }
   ],
   "source": [
    "df_ages.head()"
   ]
  },
  {
   "cell_type": "code",
   "execution_count": 31,
   "metadata": {},
   "outputs": [
    {
     "data": {
      "image/png": "[encoded data removed]",
      "text/plain": [
       "<Figure size 1000x600 with 1 Axes>"
      ]
     },
     "metadata": {},
     "output_type": "display_data"
    }
   ],
   "source": [
    "# plot as dots the ages of the patients for visit 1\n",
    "# plot a graph x: the 3 visits, y: the age, for each patient (scatter plot)\n",
    "# Plotting\n",
    "df_ages_transposed = df_ages.transpose()\n",
    "plt.figure(figsize=(10, 6))\n",
    "\n",
    "# Plot each patient's age across visits with lines\n",
    "for patient in df_ages_transposed.columns:\n",
    "    plt.plot(df_ages_transposed.index, df_ages_transposed[patient], marker='o', label=patient)\n",
    "\n",
    "plt.xlabel('Visits')\n",
    "plt.ylabel('Age')\n",
    "plt.title('Age Across Visits for Patients')\n",
    "plt.grid(True)\n",
    "\n",
    "plt.show()"
   ]
  },
  {
   "attachments": {},
   "cell_type": "markdown",
   "metadata": {},
   "source": [
    "## months"
   ]
  },
  {
   "cell_type": "code",
   "execution_count": 33,
   "metadata": {},
   "outputs": [],
   "source": [
    "df_months = pd.DataFrame({'months_v1': df_v1['MONTHS'], 'months_v2': df_v2['MONTHS'], 'months_v3': df_v3['MONTHS']})"
   ]
  },
  {
   "cell_type": "code",
   "execution_count": 34,
   "metadata": {},
   "outputs": [
    {
     "data": {
      "text/html": [
       "<div>\n",
       "<style scoped>\n",
       "    .dataframe tbody tr th:only-of-type {\n",
       "        vertical-align: middle;\n",
       "    }\n",
       "\n",
       "    .dataframe tbody tr th {\n",
       "        vertical-align: top;\n",
       "    }\n",
       "\n",
       "    .dataframe thead th {\n",
       "        text-align: right;\n",
       "    }\n",
       "</style>\n",
       "<table border=\"1\" class=\"dataframe\">\n",
       "  <thead>\n",
       "    <tr style=\"text-align: right;\">\n",
       "      <th></th>\n",
       "      <th>months_v1</th>\n",
       "      <th>months_v2</th>\n",
       "      <th>months_v3</th>\n",
       "    </tr>\n",
       "  </thead>\n",
       "  <tbody>\n",
       "    <tr>\n",
       "      <th>0</th>\n",
       "      <td>0.0</td>\n",
       "      <td>13.0</td>\n",
       "      <td>53.0</td>\n",
       "    </tr>\n",
       "    <tr>\n",
       "      <th>1</th>\n",
       "      <td>0.0</td>\n",
       "      <td>4.0</td>\n",
       "      <td>44.0</td>\n",
       "    </tr>\n",
       "    <tr>\n",
       "      <th>2</th>\n",
       "      <td>0.0</td>\n",
       "      <td>17.0</td>\n",
       "      <td>NaN</td>\n",
       "    </tr>\n",
       "    <tr>\n",
       "      <th>3</th>\n",
       "      <td>0.0</td>\n",
       "      <td>16.0</td>\n",
       "      <td>34.0</td>\n",
       "    </tr>\n",
       "    <tr>\n",
       "      <th>4</th>\n",
       "      <td>0.0</td>\n",
       "      <td>14.0</td>\n",
       "      <td>51.0</td>\n",
       "    </tr>\n",
       "  </tbody>\n",
       "</table>\n",
       "</div>"
      ],
      "text/plain": [
       "   months_v1  months_v2  months_v3\n",
       "0        0.0       13.0       53.0\n",
       "1        0.0        4.0       44.0\n",
       "2        0.0       17.0        NaN\n",
       "3        0.0       16.0       34.0\n",
       "4        0.0       14.0       51.0"
      ]
     },
     "execution_count": 34,
     "metadata": {},
     "output_type": "execute_result"
    }
   ],
   "source": [
    "df_months.head()"
   ]
  },
  {
   "cell_type": "code",
   "execution_count": 36,
   "metadata": {},
   "outputs": [
    {
     "data": {
      "text/html": [
       "<div>\n",
       "<style scoped>\n",
       "    .dataframe tbody tr th:only-of-type {\n",
       "        vertical-align: middle;\n",
       "    }\n",
       "\n",
       "    .dataframe tbody tr th {\n",
       "        vertical-align: top;\n",
       "    }\n",
       "\n",
       "    .dataframe thead th {\n",
       "        text-align: right;\n",
       "    }\n",
       "</style>\n",
       "<table border=\"1\" class=\"dataframe\">\n",
       "  <thead>\n",
       "    <tr style=\"text-align: right;\">\n",
       "      <th></th>\n",
       "      <th>months_v1</th>\n",
       "      <th>months_v2</th>\n",
       "      <th>months_v3</th>\n",
       "    </tr>\n",
       "  </thead>\n",
       "  <tbody>\n",
       "    <tr>\n",
       "      <th>count</th>\n",
       "      <td>818.0</td>\n",
       "      <td>739.000000</td>\n",
       "      <td>746.000000</td>\n",
       "    </tr>\n",
       "    <tr>\n",
       "      <th>mean</th>\n",
       "      <td>0.0</td>\n",
       "      <td>17.424899</td>\n",
       "      <td>52.072386</td>\n",
       "    </tr>\n",
       "    <tr>\n",
       "      <th>std</th>\n",
       "      <td>0.0</td>\n",
       "      <td>7.470319</td>\n",
       "      <td>13.145346</td>\n",
       "    </tr>\n",
       "    <tr>\n",
       "      <th>min</th>\n",
       "      <td>0.0</td>\n",
       "      <td>0.000000</td>\n",
       "      <td>25.000000</td>\n",
       "    </tr>\n",
       "    <tr>\n",
       "      <th>25%</th>\n",
       "      <td>0.0</td>\n",
       "      <td>12.000000</td>\n",
       "      <td>41.000000</td>\n",
       "    </tr>\n",
       "    <tr>\n",
       "      <th>50%</th>\n",
       "      <td>0.0</td>\n",
       "      <td>17.000000</td>\n",
       "      <td>52.000000</td>\n",
       "    </tr>\n",
       "    <tr>\n",
       "      <th>75%</th>\n",
       "      <td>0.0</td>\n",
       "      <td>24.000000</td>\n",
       "      <td>63.000000</td>\n",
       "    </tr>\n",
       "    <tr>\n",
       "      <th>max</th>\n",
       "      <td>0.0</td>\n",
       "      <td>35.000000</td>\n",
       "      <td>79.000000</td>\n",
       "    </tr>\n",
       "  </tbody>\n",
       "</table>\n",
       "</div>"
      ],
      "text/plain": [
       "       months_v1   months_v2   months_v3\n",
       "count      818.0  739.000000  746.000000\n",
       "mean         0.0   17.424899   52.072386\n",
       "std          0.0    7.470319   13.145346\n",
       "min          0.0    0.000000   25.000000\n",
       "25%          0.0   12.000000   41.000000\n",
       "50%          0.0   17.000000   52.000000\n",
       "75%          0.0   24.000000   63.000000\n",
       "max          0.0   35.000000   79.000000"
      ]
     },
     "execution_count": 36,
     "metadata": {},
     "output_type": "execute_result"
    }
   ],
   "source": [
    "df_months.describe()"
   ]
  },
  {
   "attachments": {},
   "cell_type": "markdown",
   "metadata": {},
   "source": [
    "Between the visits the average time was 17 months and 52 months"
   ]
  },
  {
   "cell_type": "code",
   "execution_count": 42,
   "metadata": {},
   "outputs": [
    {
     "name": "stdout",
     "output_type": "stream",
     "text": [
      "second visit was on average 17.42489851150203 months after the first visit\n",
      "third visit was on average 52.07238605898123 months after the second visit\n"
     ]
    }
   ],
   "source": [
    "print(f\"second visit was on average {df_months['months_v2'].mean()} months after the first visit\")\n",
    "print(f\"third visit was on average {df_months['months_v3'].mean()} months after the second visit\")"
   ]
  },
  {
   "attachments": {},
   "cell_type": "markdown",
   "metadata": {},
   "source": [
    "## DX evolution"
   ]
  },
  {
   "cell_type": "code",
   "execution_count": 43,
   "metadata": {},
   "outputs": [],
   "source": [
    "# dx during visit\n",
    "df_dx = pd.DataFrame({'dx_v1': df_v1['DX'], 'dx_v2': df_v2['DX'], 'dx_v3': df_v3['DX'], 'dx_change': df_v1['DXCHANGE']})"
   ]
  },
  {
   "cell_type": "code",
   "execution_count": 44,
   "metadata": {},
   "outputs": [
    {
     "data": {
      "text/html": [
       "<div>\n",
       "<style scoped>\n",
       "    .dataframe tbody tr th:only-of-type {\n",
       "        vertical-align: middle;\n",
       "    }\n",
       "\n",
       "    .dataframe tbody tr th {\n",
       "        vertical-align: top;\n",
       "    }\n",
       "\n",
       "    .dataframe thead th {\n",
       "        text-align: right;\n",
       "    }\n",
       "</style>\n",
       "<table border=\"1\" class=\"dataframe\">\n",
       "  <thead>\n",
       "    <tr style=\"text-align: right;\">\n",
       "      <th></th>\n",
       "      <th>dx_v1</th>\n",
       "      <th>dx_v2</th>\n",
       "      <th>dx_v3</th>\n",
       "      <th>dx_change</th>\n",
       "    </tr>\n",
       "  </thead>\n",
       "  <tbody>\n",
       "    <tr>\n",
       "      <th>0</th>\n",
       "      <td>Dem</td>\n",
       "      <td>Dem</td>\n",
       "      <td>Dem</td>\n",
       "      <td>Stable: Dementia</td>\n",
       "    </tr>\n",
       "    <tr>\n",
       "      <th>1</th>\n",
       "      <td>MCI</td>\n",
       "      <td>Dem</td>\n",
       "      <td>NC</td>\n",
       "      <td>Reversion: MCI to NC</td>\n",
       "    </tr>\n",
       "    <tr>\n",
       "      <th>2</th>\n",
       "      <td>Dem</td>\n",
       "      <td>NC</td>\n",
       "      <td>Dem</td>\n",
       "      <td>Stable: Dementia</td>\n",
       "    </tr>\n",
       "    <tr>\n",
       "      <th>3</th>\n",
       "      <td>NaN</td>\n",
       "      <td>NaN</td>\n",
       "      <td>Dem</td>\n",
       "      <td>NaN</td>\n",
       "    </tr>\n",
       "    <tr>\n",
       "      <th>4</th>\n",
       "      <td>Dem</td>\n",
       "      <td>NC</td>\n",
       "      <td>Dem</td>\n",
       "      <td>Stable: Dementia</td>\n",
       "    </tr>\n",
       "    <tr>\n",
       "      <th>...</th>\n",
       "      <td>...</td>\n",
       "      <td>...</td>\n",
       "      <td>...</td>\n",
       "      <td>...</td>\n",
       "    </tr>\n",
       "    <tr>\n",
       "      <th>895</th>\n",
       "      <td>NC</td>\n",
       "      <td>MCI</td>\n",
       "      <td>Dem</td>\n",
       "      <td>Conversion: NC to Dementia</td>\n",
       "    </tr>\n",
       "    <tr>\n",
       "      <th>896</th>\n",
       "      <td>MCI</td>\n",
       "      <td>Dem</td>\n",
       "      <td>NaN</td>\n",
       "      <td>NaN</td>\n",
       "    </tr>\n",
       "    <tr>\n",
       "      <th>897</th>\n",
       "      <td>Dem</td>\n",
       "      <td>MCI</td>\n",
       "      <td>MCI</td>\n",
       "      <td>Reversion: Dementia to MCI</td>\n",
       "    </tr>\n",
       "    <tr>\n",
       "      <th>898</th>\n",
       "      <td>Dem</td>\n",
       "      <td>Dem</td>\n",
       "      <td>NC</td>\n",
       "      <td>Reversion: Dementia to NC</td>\n",
       "    </tr>\n",
       "    <tr>\n",
       "      <th>899</th>\n",
       "      <td>MCI</td>\n",
       "      <td>Dem</td>\n",
       "      <td>NC</td>\n",
       "      <td>Reversion: MCI to NC</td>\n",
       "    </tr>\n",
       "  </tbody>\n",
       "</table>\n",
       "<p>900 rows × 4 columns</p>\n",
       "</div>"
      ],
      "text/plain": [
       "    dx_v1 dx_v2 dx_v3                   dx_change\n",
       "0     Dem   Dem   Dem            Stable: Dementia\n",
       "1     MCI   Dem    NC        Reversion: MCI to NC\n",
       "2     Dem    NC   Dem            Stable: Dementia\n",
       "3     NaN   NaN   Dem                         NaN\n",
       "4     Dem    NC   Dem            Stable: Dementia\n",
       "..    ...   ...   ...                         ...\n",
       "895    NC   MCI   Dem  Conversion: NC to Dementia\n",
       "896   MCI   Dem   NaN                         NaN\n",
       "897   Dem   MCI   MCI  Reversion: Dementia to MCI\n",
       "898   Dem   Dem    NC   Reversion: Dementia to NC\n",
       "899   MCI   Dem    NC        Reversion: MCI to NC\n",
       "\n",
       "[900 rows x 4 columns]"
      ]
     },
     "execution_count": 44,
     "metadata": {},
     "output_type": "execute_result"
    }
   ],
   "source": [
    "df_dx"
   ]
  },
  {
   "cell_type": "code",
   "execution_count": 45,
   "metadata": {},
   "outputs": [
    {
     "data": {
      "text/plain": [
       "dx_change\n",
       "Stable: Dementia               258\n",
       "Conversion: MCI to Dementia    107\n",
       "Reversion: Dementia to MCI      96\n",
       "Reversion: Dementia to NC       83\n",
       "Conversion: NC to Dementia      76\n",
       "Stable: MCI                     32\n",
       "Reversion: MCI to NC            29\n",
       "Stable: NC                      27\n",
       "Conversion: NC to MCI           20\n",
       "Name: count, dtype: int64"
      ]
     },
     "execution_count": 45,
     "metadata": {},
     "output_type": "execute_result"
    }
   ],
   "source": [
    "df_dx['dx_change'].value_counts()"
   ]
  },
  {
   "attachments": {},
   "cell_type": "markdown",
   "metadata": {},
   "source": [
    "# tem alzheimer"
   ]
  },
  {
   "cell_type": "code",
   "execution_count": 58,
   "metadata": {},
   "outputs": [],
   "source": [
    "# ela considera AD como A+T+N+ e Dem\n",
    "df_alzheimer = pd.DataFrame({'df_dx': df_v3['DX'], 'df_ATN': df_v1['ATN']})"
   ]
  },
  {
   "cell_type": "code",
   "execution_count": 55,
   "metadata": {},
   "outputs": [
    {
     "data": {
      "text/html": [
       "<div>\n",
       "<style scoped>\n",
       "    .dataframe tbody tr th:only-of-type {\n",
       "        vertical-align: middle;\n",
       "    }\n",
       "\n",
       "    .dataframe tbody tr th {\n",
       "        vertical-align: top;\n",
       "    }\n",
       "\n",
       "    .dataframe thead th {\n",
       "        text-align: right;\n",
       "    }\n",
       "</style>\n",
       "<table border=\"1\" class=\"dataframe\">\n",
       "  <thead>\n",
       "    <tr style=\"text-align: right;\">\n",
       "      <th></th>\n",
       "      <th>df_dx</th>\n",
       "      <th>df_ATN</th>\n",
       "      <th>alzheimer</th>\n",
       "    </tr>\n",
       "  </thead>\n",
       "  <tbody>\n",
       "    <tr>\n",
       "      <th>0</th>\n",
       "      <td>Dem</td>\n",
       "      <td>A-T-N+</td>\n",
       "      <td>0</td>\n",
       "    </tr>\n",
       "    <tr>\n",
       "      <th>1</th>\n",
       "      <td>MCI</td>\n",
       "      <td>A-T-N-</td>\n",
       "      <td>0</td>\n",
       "    </tr>\n",
       "    <tr>\n",
       "      <th>2</th>\n",
       "      <td>Dem</td>\n",
       "      <td>A-T-N-</td>\n",
       "      <td>0</td>\n",
       "    </tr>\n",
       "    <tr>\n",
       "      <th>3</th>\n",
       "      <td>NaN</td>\n",
       "      <td>A-T-N-</td>\n",
       "      <td>0</td>\n",
       "    </tr>\n",
       "    <tr>\n",
       "      <th>4</th>\n",
       "      <td>Dem</td>\n",
       "      <td>A-T-N-</td>\n",
       "      <td>0</td>\n",
       "    </tr>\n",
       "  </tbody>\n",
       "</table>\n",
       "</div>"
      ],
      "text/plain": [
       "  df_dx  df_ATN  alzheimer\n",
       "0   Dem  A-T-N+          0\n",
       "1   MCI  A-T-N-          0\n",
       "2   Dem  A-T-N-          0\n",
       "3   NaN  A-T-N-          0\n",
       "4   Dem  A-T-N-          0"
      ]
     },
     "execution_count": 55,
     "metadata": {},
     "output_type": "execute_result"
    }
   ],
   "source": [
    "df_alzheimer.head()"
   ]
  },
  {
   "cell_type": "code",
   "execution_count": 59,
   "metadata": {},
   "outputs": [
    {
     "data": {
      "text/plain": [
       "df_ATN\n",
       "A-T-N-    562\n",
       "A-T-N+    240\n",
       "A+T-N-     61\n",
       "A-T+N-     25\n",
       "A-T+N+     10\n",
       "A+T+N+      1\n",
       "A+T+N-      1\n",
       "Name: count, dtype: int64"
      ]
     },
     "execution_count": 59,
     "metadata": {},
     "output_type": "execute_result"
    }
   ],
   "source": [
    "df_alzheimer['df_ATN'].value_counts()"
   ]
  },
  {
   "cell_type": "code",
   "execution_count": 48,
   "metadata": {},
   "outputs": [],
   "source": [
    "df_alzheimer[\"alzheimer\"] = df_alzheimer[\"df_dx\"].apply(lambda x: 1 if x == \"Dem\" else 0) & df_alzheimer[\"df_ATN\"].apply(lambda x: 1 if x == \"A+T+N+\" else 0)"
   ]
  },
  {
   "cell_type": "code",
   "execution_count": 54,
   "metadata": {},
   "outputs": [
    {
     "data": {
      "text/plain": [
       "alzheimer\n",
       "0    900\n",
       "Name: count, dtype: int64"
      ]
     },
     "execution_count": 54,
     "metadata": {},
     "output_type": "execute_result"
    }
   ],
   "source": [
    "df_alzheimer['alzheimer'].value_counts()"
   ]
  },
  {
   "cell_type": "code",
   "execution_count": 65,
   "metadata": {},
   "outputs": [
    {
     "data": {
      "text/plain": [
       "Index(['sex', 'age_years', 'years_education', 'APOE4', 'apoe_result',\n",
       "       'family_dementia_history', 'ptau_result', 'ttau_result',\n",
       "       'abeta42_result', 'AMYL', 'TAUO', 'NEUROD', 'ATN', 'MONTHS',\n",
       "       'mmse_total', 'np_date', 'gds_total', 'Depression', 'cdr_global', 'DX',\n",
       "       'cdr_sob', 'LHVL', 'LHVR', 'LHV', 'LWMV', 'VASCULAR', 'DXCHANGE'],\n",
       "      dtype='object')"
      ]
     },
     "execution_count": 65,
     "metadata": {},
     "output_type": "execute_result"
    }
   ],
   "source": [
    "df_v1.columns"
   ]
  },
  {
   "cell_type": "code",
   "execution_count": null,
   "metadata": {},
   "outputs": [],
   "source": [
    "# dictionary converting the values of DXCHANGE to the corresponding bool\n",
    "dxchange_dict = {\"Conversion: MCI to Dementia\": 1,\"Reversion: Dementia to MCI\": 0,\n",
    "\"Reversion: Dementia to NC \": 0, \"Conversion: NC to Dementia \": 1, \"Stable: MCI\"\n",
    "\"Reversion: MCI to NC\"            29\n",
    "\"Stable: NC\"                      27\n",
    "\"Conversion: NC to MCI\"           20"
   ]
  },
  {
   "cell_type": "code",
   "execution_count": null,
   "metadata": {},
   "outputs": [],
   "source": [
    "df_v1['conversion'] = df_v1['DXCHANGE']"
   ]
  },
  {
   "cell_type": "code",
   "execution_count": 71,
   "metadata": {},
   "outputs": [
    {
     "data": {
      "text/plain": [
       "sex                          0\n",
       "age_years                    0\n",
       "years_education              0\n",
       "APOE4                       94\n",
       "apoe_result                 94\n",
       "family_dementia_history      0\n",
       "MONTHS                     154\n",
       "mmse_total                  85\n",
       "np_date                     85\n",
       "gds_total                   72\n",
       "Depression                   0\n",
       "cdr_global                  94\n",
       "DX                          94\n",
       "cdr_sob                     94\n",
       "dtype: int64"
      ]
     },
     "execution_count": 71,
     "metadata": {},
     "output_type": "execute_result"
    }
   ],
   "source": [
    "df_v3.isnull().sum()"
   ]
  },
  {
   "cell_type": "code",
   "execution_count": 72,
   "metadata": {},
   "outputs": [
    {
     "data": {
      "text/plain": [
       "Index(['sex', 'age_years', 'years_education', 'APOE4', 'apoe_result',\n",
       "       'family_dementia_history', 'ptau_result', 'ttau_result',\n",
       "       'abeta42_result', 'AMYL', 'TAUO', 'NEUROD', 'ATN', 'MONTHS',\n",
       "       'mmse_total', 'np_date', 'gds_total', 'Depression', 'cdr_global', 'DX',\n",
       "       'cdr_sob', 'LHVL', 'LHVR', 'LHV', 'LWMV', 'VASCULAR', 'DXCHANGE'],\n",
       "      dtype='object')"
      ]
     },
     "execution_count": 72,
     "metadata": {},
     "output_type": "execute_result"
    }
   ],
   "source": [
    "df_v1.columns"
   ]
  },
  {
   "attachments": {},
   "cell_type": "markdown",
   "metadata": {},
   "source": [
    "- columns to use:\n",
    "- - age\n",
    "- - gds total em vez de depression\n",
    "- - APOE4 em vez de apoe_result\n",
    "- - abeta42, ptau, ttau em vez de AMYL, TAUO, neurod\n",
    "- - LWMV em vez de VASCULAR\n",
    "- - \n",
    "- columns not to use:"
   ]
  },
  {
   "cell_type": "code",
   "execution_count": 76,
   "metadata": {},
   "outputs": [
    {
     "data": {
      "text/html": [
       "<div>\n",
       "<style scoped>\n",
       "    .dataframe tbody tr th:only-of-type {\n",
       "        vertical-align: middle;\n",
       "    }\n",
       "\n",
       "    .dataframe tbody tr th {\n",
       "        vertical-align: top;\n",
       "    }\n",
       "\n",
       "    .dataframe thead th {\n",
       "        text-align: right;\n",
       "    }\n",
       "</style>\n",
       "<table border=\"1\" class=\"dataframe\">\n",
       "  <thead>\n",
       "    <tr style=\"text-align: right;\">\n",
       "      <th></th>\n",
       "      <th>LHVL</th>\n",
       "      <th>LHVR</th>\n",
       "      <th>LHV</th>\n",
       "      <th>LWMV</th>\n",
       "    </tr>\n",
       "  </thead>\n",
       "  <tbody>\n",
       "    <tr>\n",
       "      <th>0</th>\n",
       "      <td>-1.701</td>\n",
       "      <td>-0.521</td>\n",
       "      <td>-2.221</td>\n",
       "      <td>-0.723</td>\n",
       "    </tr>\n",
       "    <tr>\n",
       "      <th>1</th>\n",
       "      <td>0.254</td>\n",
       "      <td>0.025</td>\n",
       "      <td>0.279</td>\n",
       "      <td>0.000</td>\n",
       "    </tr>\n",
       "    <tr>\n",
       "      <th>2</th>\n",
       "      <td>-0.642</td>\n",
       "      <td>-0.657</td>\n",
       "      <td>-1.299</td>\n",
       "      <td>0.210</td>\n",
       "    </tr>\n",
       "    <tr>\n",
       "      <th>3</th>\n",
       "      <td>-2.135</td>\n",
       "      <td>0.950</td>\n",
       "      <td>-1.185</td>\n",
       "      <td>1.042</td>\n",
       "    </tr>\n",
       "    <tr>\n",
       "      <th>4</th>\n",
       "      <td>-0.909</td>\n",
       "      <td>-0.139</td>\n",
       "      <td>-1.048</td>\n",
       "      <td>-0.827</td>\n",
       "    </tr>\n",
       "    <tr>\n",
       "      <th>...</th>\n",
       "      <td>...</td>\n",
       "      <td>...</td>\n",
       "      <td>...</td>\n",
       "      <td>...</td>\n",
       "    </tr>\n",
       "    <tr>\n",
       "      <th>895</th>\n",
       "      <td>0.416</td>\n",
       "      <td>-1.619</td>\n",
       "      <td>-1.203</td>\n",
       "      <td>-1.037</td>\n",
       "    </tr>\n",
       "    <tr>\n",
       "      <th>896</th>\n",
       "      <td>-0.740</td>\n",
       "      <td>-2.162</td>\n",
       "      <td>-2.901</td>\n",
       "      <td>-1.727</td>\n",
       "    </tr>\n",
       "    <tr>\n",
       "      <th>897</th>\n",
       "      <td>0.338</td>\n",
       "      <td>1.311</td>\n",
       "      <td>1.649</td>\n",
       "      <td>-1.433</td>\n",
       "    </tr>\n",
       "    <tr>\n",
       "      <th>898</th>\n",
       "      <td>0.464</td>\n",
       "      <td>-0.094</td>\n",
       "      <td>0.370</td>\n",
       "      <td>1.524</td>\n",
       "    </tr>\n",
       "    <tr>\n",
       "      <th>899</th>\n",
       "      <td>0.761</td>\n",
       "      <td>-2.687</td>\n",
       "      <td>-1.925</td>\n",
       "      <td>1.280</td>\n",
       "    </tr>\n",
       "  </tbody>\n",
       "</table>\n",
       "<p>900 rows × 4 columns</p>\n",
       "</div>"
      ],
      "text/plain": [
       "      LHVL   LHVR    LHV   LWMV\n",
       "0   -1.701 -0.521 -2.221 -0.723\n",
       "1    0.254  0.025  0.279  0.000\n",
       "2   -0.642 -0.657 -1.299  0.210\n",
       "3   -2.135  0.950 -1.185  1.042\n",
       "4   -0.909 -0.139 -1.048 -0.827\n",
       "..     ...    ...    ...    ...\n",
       "895  0.416 -1.619 -1.203 -1.037\n",
       "896 -0.740 -2.162 -2.901 -1.727\n",
       "897  0.338  1.311  1.649 -1.433\n",
       "898  0.464 -0.094  0.370  1.524\n",
       "899  0.761 -2.687 -1.925  1.280\n",
       "\n",
       "[900 rows x 4 columns]"
      ]
     },
     "execution_count": 76,
     "metadata": {},
     "output_type": "execute_result"
    }
   ],
   "source": [
    "df_v1[['LHVL', 'LHVR', 'LHV', 'LWMV']]"
   ]
  },
  {
   "cell_type": "code",
   "execution_count": 83,
   "metadata": {},
   "outputs": [
    {
     "data": {
      "text/plain": [
       "Index(['sex', 'age_years', 'years_education', 'APOE4', 'apoe_result',\n",
       "       'family_dementia_history', 'ptau_result', 'ttau_result',\n",
       "       'abeta42_result', 'AMYL', 'TAUO', 'NEUROD', 'ATN', 'MONTHS',\n",
       "       'mmse_total', 'np_date', 'gds_total', 'Depression', 'cdr_global', 'DX',\n",
       "       'cdr_sob', 'LHVL', 'LHVR', 'LHV', 'LWMV', 'VASCULAR', 'DXCHANGE'],\n",
       "      dtype='object')"
      ]
     },
     "execution_count": 83,
     "metadata": {},
     "output_type": "execute_result"
    }
   ],
   "source": [
    "df_v1.columns"
   ]
  },
  {
   "cell_type": "code",
   "execution_count": null,
   "metadata": {},
   "outputs": [
    {
     "data": {
      "text/html": [
       "<div>\n",
       "<style scoped>\n",
       "    .dataframe tbody tr th:only-of-type {\n",
       "        vertical-align: middle;\n",
       "    }\n",
       "\n",
       "    .dataframe tbody tr th {\n",
       "        vertical-align: top;\n",
       "    }\n",
       "\n",
       "    .dataframe thead th {\n",
       "        text-align: right;\n",
       "    }\n",
       "</style>\n",
       "<table border=\"1\" class=\"dataframe\">\n",
       "  <thead>\n",
       "    <tr style=\"text-align: right;\">\n",
       "      <th></th>\n",
       "      <th>gds_total</th>\n",
       "      <th>Depression</th>\n",
       "    </tr>\n",
       "  </thead>\n",
       "  <tbody>\n",
       "    <tr>\n",
       "      <th>0</th>\n",
       "      <td>9.0</td>\n",
       "      <td>False</td>\n",
       "    </tr>\n",
       "    <tr>\n",
       "      <th>1</th>\n",
       "      <td>14.0</td>\n",
       "      <td>True</td>\n",
       "    </tr>\n",
       "    <tr>\n",
       "      <th>2</th>\n",
       "      <td>NaN</td>\n",
       "      <td>True</td>\n",
       "    </tr>\n",
       "    <tr>\n",
       "      <th>3</th>\n",
       "      <td>14.0</td>\n",
       "      <td>True</td>\n",
       "    </tr>\n",
       "    <tr>\n",
       "      <th>4</th>\n",
       "      <td>14.0</td>\n",
       "      <td>True</td>\n",
       "    </tr>\n",
       "    <tr>\n",
       "      <th>...</th>\n",
       "      <td>...</td>\n",
       "      <td>...</td>\n",
       "    </tr>\n",
       "    <tr>\n",
       "      <th>895</th>\n",
       "      <td>16.0</td>\n",
       "      <td>True</td>\n",
       "    </tr>\n",
       "    <tr>\n",
       "      <th>896</th>\n",
       "      <td>12.0</td>\n",
       "      <td>True</td>\n",
       "    </tr>\n",
       "    <tr>\n",
       "      <th>897</th>\n",
       "      <td>22.0</td>\n",
       "      <td>True</td>\n",
       "    </tr>\n",
       "    <tr>\n",
       "      <th>898</th>\n",
       "      <td>20.0</td>\n",
       "      <td>True</td>\n",
       "    </tr>\n",
       "    <tr>\n",
       "      <th>899</th>\n",
       "      <td>12.0</td>\n",
       "      <td>True</td>\n",
       "    </tr>\n",
       "  </tbody>\n",
       "</table>\n",
       "<p>900 rows × 2 columns</p>\n",
       "</div>"
      ],
      "text/plain": [
       "     gds_total  Depression\n",
       "0          9.0       False\n",
       "1         14.0        True\n",
       "2          NaN        True\n",
       "3         14.0        True\n",
       "4         14.0        True\n",
       "..         ...         ...\n",
       "895       16.0        True\n",
       "896       12.0        True\n",
       "897       22.0        True\n",
       "898       20.0        True\n",
       "899       12.0        True\n",
       "\n",
       "[900 rows x 2 columns]"
      ]
     },
     "metadata": {},
     "output_type": "display_data"
    }
   ],
   "source": [
    "df_v1[['gds_total', 'Depression']]"
   ]
  },
  {
   "cell_type": "code",
   "execution_count": 78,
   "metadata": {},
   "outputs": [],
   "source": [
    "df_continuous_dx = df_v1[['sex', 'age_years', 'years_education', 'APOE4', 'family_dementia_history', 'ptau_result', 'ttau_result', 'abeta42_result','mmse_total','gds_total','cdr_sob','LHVL', 'LHVR', 'LHV', 'LWMV','DX']]"
   ]
  },
  {
   "cell_type": "code",
   "execution_count": null,
   "metadata": {},
   "outputs": [],
   "source": [
    "df_continuous_AMYL = df_v1[['sex', 'age_years', 'years_education', 'APOE4', 'family_dementia_history', 'ptau_result', 'ttau_result','mmse_total','gds_total','DX','cdr_sob','LHVL', 'LHVR', 'LHV', 'LWMV', 'AMYL']]"
   ]
  },
  {
   "cell_type": "code",
   "execution_count": 79,
   "metadata": {},
   "outputs": [],
   "source": [
    "df_categorical_dx = df_v1[['sex', 'age_years', 'years_education', 'APOE4',\n",
    "       'family_dementia_history', 'AMYL', 'TAUO', 'NEUROD',\n",
    "       'mmse_total', 'Depression','cdr_sob', 'LHVL', 'LHVR', 'LHV', 'VASCULAR','DX']]"
   ]
  },
  {
   "cell_type": "code",
   "execution_count": null,
   "metadata": {},
   "outputs": [],
   "source": [
    "df_categorical_AMYL = df_v1[['sex', 'age_years', 'years_education', 'APOE4',\n",
    "       'family_dementia_history', 'TAUO', 'NEUROD',\n",
    "       'mmse_total', 'Depression','cdr_sob', 'DX', 'LHVL', 'LHVR', 'LHV', 'VASCULAR','AMYL']]"
   ]
  },
  {
   "cell_type": "code",
   "execution_count": null,
   "metadata": {},
   "outputs": [],
   "source": []
  },
  {
   "cell_type": "code",
   "execution_count": 81,
   "metadata": {},
   "outputs": [
    {
     "data": {
      "text/plain": [
       "sex                         0\n",
       "age_years                   0\n",
       "years_education             0\n",
       "APOE4                      94\n",
       "family_dementia_history     0\n",
       "ptau_result                 0\n",
       "ttau_result                 0\n",
       "abeta42_result              0\n",
       "mmse_total                 82\n",
       "gds_total                  87\n",
       "cdr_sob                    87\n",
       "LHVL                        0\n",
       "LHVR                        0\n",
       "LHV                         0\n",
       "LWMV                        0\n",
       "DX                         87\n",
       "dtype: int64"
      ]
     },
     "execution_count": 81,
     "metadata": {},
     "output_type": "execute_result"
    }
   ],
   "source": [
    "continuous_data.isnull().sum()  "
   ]
  },
  {
   "cell_type": "code",
   "execution_count": 84,
   "metadata": {},
   "outputs": [
    {
     "data": {
      "text/html": [
       "<div>\n",
       "<style scoped>\n",
       "    .dataframe tbody tr th:only-of-type {\n",
       "        vertical-align: middle;\n",
       "    }\n",
       "\n",
       "    .dataframe tbody tr th {\n",
       "        vertical-align: top;\n",
       "    }\n",
       "\n",
       "    .dataframe thead th {\n",
       "        text-align: right;\n",
       "    }\n",
       "</style>\n",
       "<table border=\"1\" class=\"dataframe\">\n",
       "  <thead>\n",
       "    <tr style=\"text-align: right;\">\n",
       "      <th></th>\n",
       "      <th>APOE4</th>\n",
       "      <th>apoe_result</th>\n",
       "    </tr>\n",
       "  </thead>\n",
       "  <tbody>\n",
       "    <tr>\n",
       "      <th>0</th>\n",
       "      <td>0.0</td>\n",
       "      <td>e3/e3</td>\n",
       "    </tr>\n",
       "    <tr>\n",
       "      <th>1</th>\n",
       "      <td>2.0</td>\n",
       "      <td>e4/e4</td>\n",
       "    </tr>\n",
       "    <tr>\n",
       "      <th>2</th>\n",
       "      <td>0.0</td>\n",
       "      <td>e3/e3</td>\n",
       "    </tr>\n",
       "    <tr>\n",
       "      <th>3</th>\n",
       "      <td>1.0</td>\n",
       "      <td>e2/e4</td>\n",
       "    </tr>\n",
       "    <tr>\n",
       "      <th>4</th>\n",
       "      <td>2.0</td>\n",
       "      <td>e4/e4</td>\n",
       "    </tr>\n",
       "    <tr>\n",
       "      <th>...</th>\n",
       "      <td>...</td>\n",
       "      <td>...</td>\n",
       "    </tr>\n",
       "    <tr>\n",
       "      <th>895</th>\n",
       "      <td>NaN</td>\n",
       "      <td>NaN</td>\n",
       "    </tr>\n",
       "    <tr>\n",
       "      <th>896</th>\n",
       "      <td>NaN</td>\n",
       "      <td>NaN</td>\n",
       "    </tr>\n",
       "    <tr>\n",
       "      <th>897</th>\n",
       "      <td>1.0</td>\n",
       "      <td>e3/e4</td>\n",
       "    </tr>\n",
       "    <tr>\n",
       "      <th>898</th>\n",
       "      <td>1.0</td>\n",
       "      <td>e3/e4</td>\n",
       "    </tr>\n",
       "    <tr>\n",
       "      <th>899</th>\n",
       "      <td>2.0</td>\n",
       "      <td>e4/e4</td>\n",
       "    </tr>\n",
       "  </tbody>\n",
       "</table>\n",
       "<p>900 rows × 2 columns</p>\n",
       "</div>"
      ],
      "text/plain": [
       "     APOE4 apoe_result\n",
       "0      0.0       e3/e3\n",
       "1      2.0       e4/e4\n",
       "2      0.0       e3/e3\n",
       "3      1.0       e2/e4\n",
       "4      2.0       e4/e4\n",
       "..     ...         ...\n",
       "895    NaN         NaN\n",
       "896    NaN         NaN\n",
       "897    1.0       e3/e4\n",
       "898    1.0       e3/e4\n",
       "899    2.0       e4/e4\n",
       "\n",
       "[900 rows x 2 columns]"
      ]
     },
     "execution_count": 84,
     "metadata": {},
     "output_type": "execute_result"
    }
   ],
   "source": [
    "df_v1[['APOE4', 'apoe_result']]"
   ]
  },
  {
   "cell_type": "code",
   "execution_count": 87,
   "metadata": {},
   "outputs": [],
   "source": [
    "df_dx = pd.DataFrame({'dx_v1': df_v1['DX'], 'dx_v2': df_v2['DX'], 'dx_v3': df_v3['DX'], 'dx_change': df_v1['DXCHANGE']})"
   ]
  },
  {
   "cell_type": "code",
   "execution_count": 89,
   "metadata": {},
   "outputs": [
    {
     "data": {
      "text/html": [
       "<div>\n",
       "<style scoped>\n",
       "    .dataframe tbody tr th:only-of-type {\n",
       "        vertical-align: middle;\n",
       "    }\n",
       "\n",
       "    .dataframe tbody tr th {\n",
       "        vertical-align: top;\n",
       "    }\n",
       "\n",
       "    .dataframe thead th {\n",
       "        text-align: right;\n",
       "    }\n",
       "</style>\n",
       "<table border=\"1\" class=\"dataframe\">\n",
       "  <thead>\n",
       "    <tr style=\"text-align: right;\">\n",
       "      <th></th>\n",
       "      <th>dx_v1</th>\n",
       "      <th>dx_v2</th>\n",
       "      <th>dx_v3</th>\n",
       "      <th>dx_change</th>\n",
       "    </tr>\n",
       "  </thead>\n",
       "  <tbody>\n",
       "    <tr>\n",
       "      <th>0</th>\n",
       "      <td>Dem</td>\n",
       "      <td>Dem</td>\n",
       "      <td>Dem</td>\n",
       "      <td>Stable: Dementia</td>\n",
       "    </tr>\n",
       "    <tr>\n",
       "      <th>1</th>\n",
       "      <td>MCI</td>\n",
       "      <td>Dem</td>\n",
       "      <td>NC</td>\n",
       "      <td>Reversion: MCI to NC</td>\n",
       "    </tr>\n",
       "    <tr>\n",
       "      <th>2</th>\n",
       "      <td>Dem</td>\n",
       "      <td>NC</td>\n",
       "      <td>Dem</td>\n",
       "      <td>Stable: Dementia</td>\n",
       "    </tr>\n",
       "    <tr>\n",
       "      <th>3</th>\n",
       "      <td>NaN</td>\n",
       "      <td>NaN</td>\n",
       "      <td>Dem</td>\n",
       "      <td>NaN</td>\n",
       "    </tr>\n",
       "    <tr>\n",
       "      <th>4</th>\n",
       "      <td>Dem</td>\n",
       "      <td>NC</td>\n",
       "      <td>Dem</td>\n",
       "      <td>Stable: Dementia</td>\n",
       "    </tr>\n",
       "    <tr>\n",
       "      <th>5</th>\n",
       "      <td>MCI</td>\n",
       "      <td>MCI</td>\n",
       "      <td>Dem</td>\n",
       "      <td>Conversion: MCI to Dementia</td>\n",
       "    </tr>\n",
       "    <tr>\n",
       "      <th>6</th>\n",
       "      <td>NaN</td>\n",
       "      <td>Dem</td>\n",
       "      <td>NC</td>\n",
       "      <td>NaN</td>\n",
       "    </tr>\n",
       "    <tr>\n",
       "      <th>7</th>\n",
       "      <td>MCI</td>\n",
       "      <td>MCI</td>\n",
       "      <td>Dem</td>\n",
       "      <td>Conversion: MCI to Dementia</td>\n",
       "    </tr>\n",
       "    <tr>\n",
       "      <th>8</th>\n",
       "      <td>Dem</td>\n",
       "      <td>MCI</td>\n",
       "      <td>MCI</td>\n",
       "      <td>Reversion: Dementia to MCI</td>\n",
       "    </tr>\n",
       "    <tr>\n",
       "      <th>9</th>\n",
       "      <td>NaN</td>\n",
       "      <td>NC</td>\n",
       "      <td>Dem</td>\n",
       "      <td>NaN</td>\n",
       "    </tr>\n",
       "    <tr>\n",
       "      <th>10</th>\n",
       "      <td>Dem</td>\n",
       "      <td>Dem</td>\n",
       "      <td>NC</td>\n",
       "      <td>Reversion: Dementia to NC</td>\n",
       "    </tr>\n",
       "    <tr>\n",
       "      <th>11</th>\n",
       "      <td>Dem</td>\n",
       "      <td>Dem</td>\n",
       "      <td>MCI</td>\n",
       "      <td>Reversion: Dementia to MCI</td>\n",
       "    </tr>\n",
       "    <tr>\n",
       "      <th>12</th>\n",
       "      <td>MCI</td>\n",
       "      <td>MCI</td>\n",
       "      <td>NC</td>\n",
       "      <td>Reversion: MCI to NC</td>\n",
       "    </tr>\n",
       "    <tr>\n",
       "      <th>13</th>\n",
       "      <td>Dem</td>\n",
       "      <td>Dem</td>\n",
       "      <td>NC</td>\n",
       "      <td>Reversion: Dementia to NC</td>\n",
       "    </tr>\n",
       "    <tr>\n",
       "      <th>14</th>\n",
       "      <td>MCI</td>\n",
       "      <td>Dem</td>\n",
       "      <td>Dem</td>\n",
       "      <td>Conversion: MCI to Dementia</td>\n",
       "    </tr>\n",
       "    <tr>\n",
       "      <th>15</th>\n",
       "      <td>Dem</td>\n",
       "      <td>NaN</td>\n",
       "      <td>Dem</td>\n",
       "      <td>Stable: Dementia</td>\n",
       "    </tr>\n",
       "    <tr>\n",
       "      <th>16</th>\n",
       "      <td>Dem</td>\n",
       "      <td>Dem</td>\n",
       "      <td>NC</td>\n",
       "      <td>Reversion: Dementia to NC</td>\n",
       "    </tr>\n",
       "    <tr>\n",
       "      <th>17</th>\n",
       "      <td>MCI</td>\n",
       "      <td>MCI</td>\n",
       "      <td>Dem</td>\n",
       "      <td>Conversion: MCI to Dementia</td>\n",
       "    </tr>\n",
       "    <tr>\n",
       "      <th>18</th>\n",
       "      <td>Dem</td>\n",
       "      <td>MCI</td>\n",
       "      <td>Dem</td>\n",
       "      <td>Stable: Dementia</td>\n",
       "    </tr>\n",
       "    <tr>\n",
       "      <th>19</th>\n",
       "      <td>NaN</td>\n",
       "      <td>NC</td>\n",
       "      <td>NC</td>\n",
       "      <td>NaN</td>\n",
       "    </tr>\n",
       "  </tbody>\n",
       "</table>\n",
       "</div>"
      ],
      "text/plain": [
       "   dx_v1 dx_v2 dx_v3                    dx_change\n",
       "0    Dem   Dem   Dem             Stable: Dementia\n",
       "1    MCI   Dem    NC         Reversion: MCI to NC\n",
       "2    Dem    NC   Dem             Stable: Dementia\n",
       "3    NaN   NaN   Dem                          NaN\n",
       "4    Dem    NC   Dem             Stable: Dementia\n",
       "5    MCI   MCI   Dem  Conversion: MCI to Dementia\n",
       "6    NaN   Dem    NC                          NaN\n",
       "7    MCI   MCI   Dem  Conversion: MCI to Dementia\n",
       "8    Dem   MCI   MCI   Reversion: Dementia to MCI\n",
       "9    NaN    NC   Dem                          NaN\n",
       "10   Dem   Dem    NC    Reversion: Dementia to NC\n",
       "11   Dem   Dem   MCI   Reversion: Dementia to MCI\n",
       "12   MCI   MCI    NC         Reversion: MCI to NC\n",
       "13   Dem   Dem    NC    Reversion: Dementia to NC\n",
       "14   MCI   Dem   Dem  Conversion: MCI to Dementia\n",
       "15   Dem   NaN   Dem             Stable: Dementia\n",
       "16   Dem   Dem    NC    Reversion: Dementia to NC\n",
       "17   MCI   MCI   Dem  Conversion: MCI to Dementia\n",
       "18   Dem   MCI   Dem             Stable: Dementia\n",
       "19   NaN    NC    NC                          NaN"
      ]
     },
     "execution_count": 89,
     "metadata": {},
     "output_type": "execute_result"
    }
   ],
   "source": [
    "df_dx.head(20)"
   ]
  },
  {
   "cell_type": "code",
   "execution_count": 90,
   "metadata": {},
   "outputs": [],
   "source": [
    "df_dx['change'] = ((df_dx['dx_v1'] == \"NC\") | (df_dx['dx_v1'] == \"MCI\")) & (df_dx['dx_v3'] == \"Dem\") "
   ]
  },
  {
   "cell_type": "code",
   "execution_count": 106,
   "metadata": {},
   "outputs": [],
   "source": [
    "# create a column of NaN values\n",
    "df_dx['mydxchange'] = np.nan"
   ]
  },
  {
   "cell_type": "code",
   "execution_count": 109,
   "metadata": {},
   "outputs": [
    {
     "name": "stdout",
     "output_type": "stream",
     "text": [
      "50  caso 1\n",
      "62  caso 1\n",
      "65  caso 1\n",
      "130  caso 1\n",
      "202  caso 2\n",
      "320  caso 1\n",
      "391  caso 1\n",
      "409  caso 1\n",
      "418  caso 1\n",
      "432  caso 1\n",
      "547  caso 2\n",
      "571  caso 1\n",
      "638  caso 2\n",
      "690  caso 2\n",
      "696  caso 1\n",
      "705  caso 2\n",
      "724  caso 2\n",
      "766  caso 1\n",
      "890  caso 2\n",
      "896  caso 2\n"
     ]
    },
    {
     "name": "stderr",
     "output_type": "stream",
     "text": [
      "C:\\Users\\anaso\\AppData\\Local\\Temp\\ipykernel_27736\\100389971.py:6: SettingWithCopyWarning: \n",
      "A value is trying to be set on a copy of a slice from a DataFrame\n",
      "\n",
      "See the caveats in the documentation: https://pandas.pydata.org/pandas-docs/stable/user_guide/indexing.html#returning-a-view-versus-a-copy\n",
      "  df_dx.iloc[i]['mydxchange'] = True\n",
      "C:\\Users\\anaso\\AppData\\Local\\Temp\\ipykernel_27736\\100389971.py:11: SettingWithCopyWarning: \n",
      "A value is trying to be set on a copy of a slice from a DataFrame\n",
      "\n",
      "See the caveats in the documentation: https://pandas.pydata.org/pandas-docs/stable/user_guide/indexing.html#returning-a-view-versus-a-copy\n",
      "  df_dx.iloc[i]['mydxchange'] = True\n"
     ]
    },
    {
     "data": {
      "text/plain": [
       "[50,\n",
       " 62,\n",
       " 65,\n",
       " 130,\n",
       " 202,\n",
       " 320,\n",
       " 391,\n",
       " 409,\n",
       " 418,\n",
       " 432,\n",
       " 547,\n",
       " 571,\n",
       " 638,\n",
       " 690,\n",
       " 696,\n",
       " 705,\n",
       " 724,\n",
       " 766,\n",
       " 890,\n",
       " 896]"
      ]
     },
     "execution_count": 109,
     "metadata": {},
     "output_type": "execute_result"
    }
   ],
   "source": [
    "right_indices = []\n",
    "for i in indices_na:\n",
    "    df_dx.iloc[i]\n",
    "    if df_dx.iloc[i]['dx_v1'] is np.nan:\n",
    "        if (df_dx.iloc[i]['dx_v3'] == \"Dem\") & (df_dx.iloc[i]['dx_v2'] == \"MCI\"):\n",
    "            df_dx.iloc[i]['mydxchange'] = True\n",
    "            print(i,\" caso 1\")\n",
    "            right_indices.append(i)\n",
    "    elif df_dx.iloc[i]['dx_v3'] is np.nan:\n",
    "        if (df_dx.iloc[i]['dx_v1'] == \"MCI\") & (df_dx.iloc[i]['dx_v2'] == \"Dem\"):\n",
    "            df_dx.iloc[i]['mydxchange'] = True\n",
    "            print(i,\" caso 2\")\n",
    "            right_indices.append(i)\n",
    "right_indices"
   ]
  },
  {
   "cell_type": "code",
   "execution_count": 110,
   "metadata": {},
   "outputs": [],
   "source": [
    "# True if indix is in indices_right\n",
    "df_dx['mydxchange'] = df_dx.index.isin(right_indices)"
   ]
  },
  {
   "cell_type": "code",
   "execution_count": 112,
   "metadata": {},
   "outputs": [
    {
     "data": {
      "text/plain": [
       "0      False\n",
       "1      False\n",
       "2      False\n",
       "3      False\n",
       "4      False\n",
       "       ...  \n",
       "895    False\n",
       "896     True\n",
       "897    False\n",
       "898    False\n",
       "899    False\n",
       "Name: mydxchange, Length: 900, dtype: bool"
      ]
     },
     "execution_count": 112,
     "metadata": {},
     "output_type": "execute_result"
    }
   ],
   "source": [
    "df_dx['mydxchange']"
   ]
  },
  {
   "cell_type": "code",
   "execution_count": 115,
   "metadata": {},
   "outputs": [],
   "source": [
    "df_dx['mydxchange'] = df_dx['mydxchange'].astype(bool)"
   ]
  },
  {
   "cell_type": "code",
   "execution_count": 118,
   "metadata": {},
   "outputs": [],
   "source": [
    "df_dx['dx_change_final'] = df_dx['change'] | df_dx['mydxchange']"
   ]
  },
  {
   "cell_type": "code",
   "execution_count": 120,
   "metadata": {},
   "outputs": [
    {
     "data": {
      "text/plain": [
       "dx_change_final\n",
       "False    697\n",
       "True     203\n",
       "Name: count, dtype: int64"
      ]
     },
     "execution_count": 120,
     "metadata": {},
     "output_type": "execute_result"
    }
   ],
   "source": [
    "df_dx['dx_change_final'].value_counts()"
   ]
  },
  {
   "cell_type": "code",
   "execution_count": 102,
   "metadata": {},
   "outputs": [
    {
     "data": {
      "text/plain": [
       "True"
      ]
     },
     "execution_count": 102,
     "metadata": {},
     "output_type": "execute_result"
    }
   ],
   "source": [
    "df_dx.iloc[3]['dx_v1'] is np.nan"
   ]
  },
  {
   "cell_type": "code",
   "execution_count": 108,
   "metadata": {},
   "outputs": [
    {
     "data": {
      "text/html": [
       "<div>\n",
       "<style scoped>\n",
       "    .dataframe tbody tr th:only-of-type {\n",
       "        vertical-align: middle;\n",
       "    }\n",
       "\n",
       "    .dataframe tbody tr th {\n",
       "        vertical-align: top;\n",
       "    }\n",
       "\n",
       "    .dataframe thead th {\n",
       "        text-align: right;\n",
       "    }\n",
       "</style>\n",
       "<table border=\"1\" class=\"dataframe\">\n",
       "  <thead>\n",
       "    <tr style=\"text-align: right;\">\n",
       "      <th></th>\n",
       "      <th>dx_v1</th>\n",
       "      <th>dx_v2</th>\n",
       "      <th>dx_v3</th>\n",
       "      <th>dx_change</th>\n",
       "      <th>change</th>\n",
       "      <th>mydxchange</th>\n",
       "    </tr>\n",
       "  </thead>\n",
       "  <tbody>\n",
       "    <tr>\n",
       "      <th>3</th>\n",
       "      <td>NaN</td>\n",
       "      <td>NaN</td>\n",
       "      <td>Dem</td>\n",
       "      <td>NaN</td>\n",
       "      <td>False</td>\n",
       "      <td>NaN</td>\n",
       "    </tr>\n",
       "    <tr>\n",
       "      <th>6</th>\n",
       "      <td>NaN</td>\n",
       "      <td>Dem</td>\n",
       "      <td>NC</td>\n",
       "      <td>NaN</td>\n",
       "      <td>False</td>\n",
       "      <td>NaN</td>\n",
       "    </tr>\n",
       "    <tr>\n",
       "      <th>9</th>\n",
       "      <td>NaN</td>\n",
       "      <td>NC</td>\n",
       "      <td>Dem</td>\n",
       "      <td>NaN</td>\n",
       "      <td>False</td>\n",
       "      <td>NaN</td>\n",
       "    </tr>\n",
       "    <tr>\n",
       "      <th>19</th>\n",
       "      <td>NaN</td>\n",
       "      <td>NC</td>\n",
       "      <td>NC</td>\n",
       "      <td>NaN</td>\n",
       "      <td>False</td>\n",
       "      <td>NaN</td>\n",
       "    </tr>\n",
       "    <tr>\n",
       "      <th>30</th>\n",
       "      <td>NaN</td>\n",
       "      <td>Dem</td>\n",
       "      <td>Dem</td>\n",
       "      <td>NaN</td>\n",
       "      <td>False</td>\n",
       "      <td>NaN</td>\n",
       "    </tr>\n",
       "    <tr>\n",
       "      <th>...</th>\n",
       "      <td>...</td>\n",
       "      <td>...</td>\n",
       "      <td>...</td>\n",
       "      <td>...</td>\n",
       "      <td>...</td>\n",
       "      <td>...</td>\n",
       "    </tr>\n",
       "    <tr>\n",
       "      <th>866</th>\n",
       "      <td>Dem</td>\n",
       "      <td>Dem</td>\n",
       "      <td>NaN</td>\n",
       "      <td>NaN</td>\n",
       "      <td>False</td>\n",
       "      <td>NaN</td>\n",
       "    </tr>\n",
       "    <tr>\n",
       "      <th>883</th>\n",
       "      <td>NaN</td>\n",
       "      <td>Dem</td>\n",
       "      <td>Dem</td>\n",
       "      <td>NaN</td>\n",
       "      <td>False</td>\n",
       "      <td>NaN</td>\n",
       "    </tr>\n",
       "    <tr>\n",
       "      <th>888</th>\n",
       "      <td>Dem</td>\n",
       "      <td>Dem</td>\n",
       "      <td>NaN</td>\n",
       "      <td>NaN</td>\n",
       "      <td>False</td>\n",
       "      <td>NaN</td>\n",
       "    </tr>\n",
       "    <tr>\n",
       "      <th>890</th>\n",
       "      <td>MCI</td>\n",
       "      <td>Dem</td>\n",
       "      <td>NaN</td>\n",
       "      <td>NaN</td>\n",
       "      <td>False</td>\n",
       "      <td>NaN</td>\n",
       "    </tr>\n",
       "    <tr>\n",
       "      <th>896</th>\n",
       "      <td>MCI</td>\n",
       "      <td>Dem</td>\n",
       "      <td>NaN</td>\n",
       "      <td>NaN</td>\n",
       "      <td>False</td>\n",
       "      <td>NaN</td>\n",
       "    </tr>\n",
       "  </tbody>\n",
       "</table>\n",
       "<p>172 rows × 6 columns</p>\n",
       "</div>"
      ],
      "text/plain": [
       "    dx_v1 dx_v2 dx_v3 dx_change  change  mydxchange\n",
       "3     NaN   NaN   Dem       NaN   False         NaN\n",
       "6     NaN   Dem    NC       NaN   False         NaN\n",
       "9     NaN    NC   Dem       NaN   False         NaN\n",
       "19    NaN    NC    NC       NaN   False         NaN\n",
       "30    NaN   Dem   Dem       NaN   False         NaN\n",
       "..    ...   ...   ...       ...     ...         ...\n",
       "866   Dem   Dem   NaN       NaN   False         NaN\n",
       "883   NaN   Dem   Dem       NaN   False         NaN\n",
       "888   Dem   Dem   NaN       NaN   False         NaN\n",
       "890   MCI   Dem   NaN       NaN   False         NaN\n",
       "896   MCI   Dem   NaN       NaN   False         NaN\n",
       "\n",
       "[172 rows x 6 columns]"
      ]
     },
     "execution_count": 108,
     "metadata": {},
     "output_type": "execute_result"
    }
   ],
   "source": [
    "# only indices where dx_change is NaN\n",
    "indices_na = df_dx[df_dx['dx_change'].isna()].index\n",
    "df_dx.iloc[indices_na]"
   ]
  },
  {
   "cell_type": "code",
   "execution_count": 124,
   "metadata": {},
   "outputs": [
    {
     "data": {
      "text/plain": [
       "False    888\n",
       "True      12\n",
       "Name: count, dtype: int64"
      ]
     },
     "execution_count": 124,
     "metadata": {},
     "output_type": "execute_result"
    }
   ],
   "source": [
    "(df_dx['dx_v1'].isna() & df_dx['dx_v2'].isna() & df_dx['dx_v3'].isna()).value_counts()"
   ]
  },
  {
   "cell_type": "code",
   "execution_count": 128,
   "metadata": {},
   "outputs": [],
   "source": [
    "# indices where dx_v1 and dx_v2 are NaN or dx_v2 and dx_v3 are NaN or dx_v1 and dx_v3 are NaN\n",
    "df_dx['at_least_two_nans'] = ((df_dx['dx_v1'].isna() & df_dx['dx_v2'].isna()) | (df_dx['dx_v2'].isna() & df_dx['dx_v3'].isna()) | (df_dx['dx_v1'].isna() & df_dx['dx_v3'].isna()))"
   ]
  },
  {
   "cell_type": "code",
   "execution_count": 130,
   "metadata": {},
   "outputs": [],
   "source": [
    "# indexes where at least two of the dx are NaN\n",
    "indices_at_least_two_nans = df_dx[df_dx['at_least_two_nans']].index"
   ]
  },
  {
   "cell_type": "code",
   "execution_count": 131,
   "metadata": {},
   "outputs": [
    {
     "data": {
      "text/plain": [
       "Index([  3,  40,  76,  99, 101, 126, 179, 190, 194, 227, 240, 254, 255, 265,\n",
       "       269, 364, 375, 439, 484, 496, 508, 524, 615, 707, 715, 742, 782, 834],\n",
       "      dtype='int64')"
      ]
     },
     "execution_count": 131,
     "metadata": {},
     "output_type": "execute_result"
    }
   ],
   "source": [
    "indices_at_least_two_nans"
   ]
  },
  {
   "cell_type": "code",
   "execution_count": 132,
   "metadata": {},
   "outputs": [],
   "source": [
    "# store df_dx\n",
    "# df_dx.to_csv('clean_tables/1_separate_visits_/df_dx', index=False)"
   ]
  },
  {
   "cell_type": "code",
   "execution_count": 134,
   "metadata": {},
   "outputs": [
    {
     "data": {
      "text/html": [
       "<div>\n",
       "<style scoped>\n",
       "    .dataframe tbody tr th:only-of-type {\n",
       "        vertical-align: middle;\n",
       "    }\n",
       "\n",
       "    .dataframe tbody tr th {\n",
       "        vertical-align: top;\n",
       "    }\n",
       "\n",
       "    .dataframe thead th {\n",
       "        text-align: right;\n",
       "    }\n",
       "</style>\n",
       "<table border=\"1\" class=\"dataframe\">\n",
       "  <thead>\n",
       "    <tr style=\"text-align: right;\">\n",
       "      <th></th>\n",
       "      <th>dx_v1</th>\n",
       "      <th>dx_v2</th>\n",
       "      <th>dx_v3</th>\n",
       "      <th>dx_change</th>\n",
       "      <th>change</th>\n",
       "      <th>mydxchange</th>\n",
       "      <th>dx_change_final</th>\n",
       "      <th>at_least_two_nans</th>\n",
       "    </tr>\n",
       "  </thead>\n",
       "  <tbody>\n",
       "    <tr>\n",
       "      <th>0</th>\n",
       "      <td>Dem</td>\n",
       "      <td>Dem</td>\n",
       "      <td>Dem</td>\n",
       "      <td>Stable: Dementia</td>\n",
       "      <td>False</td>\n",
       "      <td>False</td>\n",
       "      <td>False</td>\n",
       "      <td>False</td>\n",
       "    </tr>\n",
       "    <tr>\n",
       "      <th>1</th>\n",
       "      <td>MCI</td>\n",
       "      <td>Dem</td>\n",
       "      <td>NC</td>\n",
       "      <td>Reversion: MCI to NC</td>\n",
       "      <td>False</td>\n",
       "      <td>False</td>\n",
       "      <td>False</td>\n",
       "      <td>False</td>\n",
       "    </tr>\n",
       "    <tr>\n",
       "      <th>2</th>\n",
       "      <td>Dem</td>\n",
       "      <td>NC</td>\n",
       "      <td>Dem</td>\n",
       "      <td>Stable: Dementia</td>\n",
       "      <td>False</td>\n",
       "      <td>False</td>\n",
       "      <td>False</td>\n",
       "      <td>False</td>\n",
       "    </tr>\n",
       "    <tr>\n",
       "      <th>3</th>\n",
       "      <td>NaN</td>\n",
       "      <td>NaN</td>\n",
       "      <td>Dem</td>\n",
       "      <td>NaN</td>\n",
       "      <td>False</td>\n",
       "      <td>False</td>\n",
       "      <td>False</td>\n",
       "      <td>True</td>\n",
       "    </tr>\n",
       "    <tr>\n",
       "      <th>4</th>\n",
       "      <td>Dem</td>\n",
       "      <td>NC</td>\n",
       "      <td>Dem</td>\n",
       "      <td>Stable: Dementia</td>\n",
       "      <td>False</td>\n",
       "      <td>False</td>\n",
       "      <td>False</td>\n",
       "      <td>False</td>\n",
       "    </tr>\n",
       "    <tr>\n",
       "      <th>...</th>\n",
       "      <td>...</td>\n",
       "      <td>...</td>\n",
       "      <td>...</td>\n",
       "      <td>...</td>\n",
       "      <td>...</td>\n",
       "      <td>...</td>\n",
       "      <td>...</td>\n",
       "      <td>...</td>\n",
       "    </tr>\n",
       "    <tr>\n",
       "      <th>895</th>\n",
       "      <td>NC</td>\n",
       "      <td>MCI</td>\n",
       "      <td>Dem</td>\n",
       "      <td>Conversion: NC to Dementia</td>\n",
       "      <td>True</td>\n",
       "      <td>False</td>\n",
       "      <td>True</td>\n",
       "      <td>False</td>\n",
       "    </tr>\n",
       "    <tr>\n",
       "      <th>896</th>\n",
       "      <td>MCI</td>\n",
       "      <td>Dem</td>\n",
       "      <td>NaN</td>\n",
       "      <td>NaN</td>\n",
       "      <td>False</td>\n",
       "      <td>True</td>\n",
       "      <td>True</td>\n",
       "      <td>False</td>\n",
       "    </tr>\n",
       "    <tr>\n",
       "      <th>897</th>\n",
       "      <td>Dem</td>\n",
       "      <td>MCI</td>\n",
       "      <td>MCI</td>\n",
       "      <td>Reversion: Dementia to MCI</td>\n",
       "      <td>False</td>\n",
       "      <td>False</td>\n",
       "      <td>False</td>\n",
       "      <td>False</td>\n",
       "    </tr>\n",
       "    <tr>\n",
       "      <th>898</th>\n",
       "      <td>Dem</td>\n",
       "      <td>Dem</td>\n",
       "      <td>NC</td>\n",
       "      <td>Reversion: Dementia to NC</td>\n",
       "      <td>False</td>\n",
       "      <td>False</td>\n",
       "      <td>False</td>\n",
       "      <td>False</td>\n",
       "    </tr>\n",
       "    <tr>\n",
       "      <th>899</th>\n",
       "      <td>MCI</td>\n",
       "      <td>Dem</td>\n",
       "      <td>NC</td>\n",
       "      <td>Reversion: MCI to NC</td>\n",
       "      <td>False</td>\n",
       "      <td>False</td>\n",
       "      <td>False</td>\n",
       "      <td>False</td>\n",
       "    </tr>\n",
       "  </tbody>\n",
       "</table>\n",
       "<p>900 rows × 8 columns</p>\n",
       "</div>"
      ],
      "text/plain": [
       "    dx_v1 dx_v2 dx_v3                   dx_change  change  mydxchange  \\\n",
       "0     Dem   Dem   Dem            Stable: Dementia   False       False   \n",
       "1     MCI   Dem    NC        Reversion: MCI to NC   False       False   \n",
       "2     Dem    NC   Dem            Stable: Dementia   False       False   \n",
       "3     NaN   NaN   Dem                         NaN   False       False   \n",
       "4     Dem    NC   Dem            Stable: Dementia   False       False   \n",
       "..    ...   ...   ...                         ...     ...         ...   \n",
       "895    NC   MCI   Dem  Conversion: NC to Dementia    True       False   \n",
       "896   MCI   Dem   NaN                         NaN   False        True   \n",
       "897   Dem   MCI   MCI  Reversion: Dementia to MCI   False       False   \n",
       "898   Dem   Dem    NC   Reversion: Dementia to NC   False       False   \n",
       "899   MCI   Dem    NC        Reversion: MCI to NC   False       False   \n",
       "\n",
       "     dx_change_final  at_least_two_nans  \n",
       "0              False              False  \n",
       "1              False              False  \n",
       "2              False              False  \n",
       "3              False               True  \n",
       "4              False              False  \n",
       "..               ...                ...  \n",
       "895             True              False  \n",
       "896             True              False  \n",
       "897            False              False  \n",
       "898            False              False  \n",
       "899            False              False  \n",
       "\n",
       "[900 rows x 8 columns]"
      ]
     },
     "execution_count": 134,
     "metadata": {},
     "output_type": "execute_result"
    }
   ],
   "source": [
    "df_dx"
   ]
  },
  {
   "cell_type": "code",
   "execution_count": null,
   "metadata": {},
   "outputs": [],
   "source": []
  }
 ],
 "metadata": {
  "kernelspec": {
   "display_name": "ml_alzheimer",
   "language": "python",
   "name": "python3"
  },
  "language_info": {
   "codemirror_mode": {
    "name": "ipython",
    "version": 3
   },
   "file_extension": ".py",
   "mimetype": "text/x-python",
   "name": "python",
   "nbconvert_exporter": "python",
   "pygments_lexer": "ipython3",
   "version": "3.8.17"
  },
  "orig_nbformat": 4
 },
 "nbformat": 4,
 "nbformat_minor": 2
}
