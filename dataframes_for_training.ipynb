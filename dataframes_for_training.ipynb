{
 "cells": [
  {
   "cell_type": "code",
   "execution_count": 1,
   "metadata": {},
   "outputs": [],
   "source": [
    "import pandas as pd\n",
    "import numpy as np\n",
    "import matplotlib.pyplot as plt\n",
    "import seaborn as sns"
   ]
  },
  {
   "cell_type": "code",
   "execution_count": 97,
   "metadata": {},
   "outputs": [],
   "source": [
    "df_v1 = pd.read_csv('clean_tables/df_v1_no_na')\n",
    "df_v2 = pd.read_csv('clean_tables/df_v2_no_na')\n",
    "df_v3 = pd.read_csv('clean_tables/df_v3_no_na')"
   ]
  },
  {
   "cell_type": "code",
   "execution_count": 98,
   "metadata": {},
   "outputs": [],
   "source": [
    "df_continuous_dx = df_v1[['sex', 'age_years', 'years_education', 'APOE4', 'family_dementia_history', 'ptau_result', 'ttau_result', 'abeta42_result','mmse_total','gds_total','cdr_sob','LHVL', 'LHVR', 'LHV', 'LWMV','DX']]"
   ]
  },
  {
   "cell_type": "code",
   "execution_count": 99,
   "metadata": {},
   "outputs": [],
   "source": [
    "df_continuous_AMYL = df_v1[['sex', 'age_years', 'years_education', 'APOE4', 'family_dementia_history', 'ptau_result', 'ttau_result','mmse_total','gds_total','DX','cdr_sob','LHVL', 'LHVR', 'LHV', 'LWMV', 'AMYL']]"
   ]
  },
  {
   "cell_type": "code",
   "execution_count": 100,
   "metadata": {},
   "outputs": [],
   "source": [
    "df_categorical_dx = df_v1[['sex', 'age_years', 'years_education', 'APOE4',\n",
    "       'family_dementia_history', 'AMYL', 'TAUO', 'NEUROD',\n",
    "       'mmse_total', 'Depression','cdr_sob', 'LHVL', 'LHVR', 'LHV', 'VASCULAR','DX']]"
   ]
  },
  {
   "cell_type": "code",
   "execution_count": 101,
   "metadata": {},
   "outputs": [],
   "source": [
    "df_categorical_AMYL = df_v1[['sex', 'age_years', 'years_education', 'APOE4',\n",
    "       'family_dementia_history', 'TAUO', 'NEUROD',\n",
    "       'mmse_total', 'Depression','cdr_sob', 'DX', 'LHVL', 'LHVR', 'LHV', 'VASCULAR','AMYL']]"
   ]
  },
  {
   "cell_type": "code",
   "execution_count": 3,
   "metadata": {},
   "outputs": [],
   "source": [
    "df_dx = pd.read_csv('clean_tables/df_dx')"
   ]
  },
  {
   "cell_type": "code",
   "execution_count": 4,
   "metadata": {},
   "outputs": [
    {
     "data": {
      "text/html": [
       "<div>\n",
       "<style scoped>\n",
       "    .dataframe tbody tr th:only-of-type {\n",
       "        vertical-align: middle;\n",
       "    }\n",
       "\n",
       "    .dataframe tbody tr th {\n",
       "        vertical-align: top;\n",
       "    }\n",
       "\n",
       "    .dataframe thead th {\n",
       "        text-align: right;\n",
       "    }\n",
       "</style>\n",
       "<table border=\"1\" class=\"dataframe\">\n",
       "  <thead>\n",
       "    <tr style=\"text-align: right;\">\n",
       "      <th></th>\n",
       "      <th>dx_v1</th>\n",
       "      <th>dx_v2</th>\n",
       "      <th>dx_v3</th>\n",
       "      <th>dx_change</th>\n",
       "      <th>change</th>\n",
       "      <th>mydxchange</th>\n",
       "      <th>dx_change_final</th>\n",
       "      <th>at_least_two_nans</th>\n",
       "    </tr>\n",
       "  </thead>\n",
       "  <tbody>\n",
       "    <tr>\n",
       "      <th>0</th>\n",
       "      <td>Dem</td>\n",
       "      <td>Dem</td>\n",
       "      <td>Dem</td>\n",
       "      <td>Stable: Dementia</td>\n",
       "      <td>False</td>\n",
       "      <td>False</td>\n",
       "      <td>False</td>\n",
       "      <td>False</td>\n",
       "    </tr>\n",
       "    <tr>\n",
       "      <th>1</th>\n",
       "      <td>MCI</td>\n",
       "      <td>Dem</td>\n",
       "      <td>NC</td>\n",
       "      <td>Reversion: MCI to NC</td>\n",
       "      <td>False</td>\n",
       "      <td>False</td>\n",
       "      <td>False</td>\n",
       "      <td>False</td>\n",
       "    </tr>\n",
       "    <tr>\n",
       "      <th>2</th>\n",
       "      <td>Dem</td>\n",
       "      <td>NC</td>\n",
       "      <td>Dem</td>\n",
       "      <td>Stable: Dementia</td>\n",
       "      <td>False</td>\n",
       "      <td>False</td>\n",
       "      <td>False</td>\n",
       "      <td>False</td>\n",
       "    </tr>\n",
       "    <tr>\n",
       "      <th>3</th>\n",
       "      <td>NaN</td>\n",
       "      <td>NaN</td>\n",
       "      <td>Dem</td>\n",
       "      <td>NaN</td>\n",
       "      <td>False</td>\n",
       "      <td>False</td>\n",
       "      <td>False</td>\n",
       "      <td>True</td>\n",
       "    </tr>\n",
       "    <tr>\n",
       "      <th>4</th>\n",
       "      <td>Dem</td>\n",
       "      <td>NC</td>\n",
       "      <td>Dem</td>\n",
       "      <td>Stable: Dementia</td>\n",
       "      <td>False</td>\n",
       "      <td>False</td>\n",
       "      <td>False</td>\n",
       "      <td>False</td>\n",
       "    </tr>\n",
       "    <tr>\n",
       "      <th>...</th>\n",
       "      <td>...</td>\n",
       "      <td>...</td>\n",
       "      <td>...</td>\n",
       "      <td>...</td>\n",
       "      <td>...</td>\n",
       "      <td>...</td>\n",
       "      <td>...</td>\n",
       "      <td>...</td>\n",
       "    </tr>\n",
       "    <tr>\n",
       "      <th>895</th>\n",
       "      <td>NC</td>\n",
       "      <td>MCI</td>\n",
       "      <td>Dem</td>\n",
       "      <td>Conversion: NC to Dementia</td>\n",
       "      <td>True</td>\n",
       "      <td>False</td>\n",
       "      <td>True</td>\n",
       "      <td>False</td>\n",
       "    </tr>\n",
       "    <tr>\n",
       "      <th>896</th>\n",
       "      <td>MCI</td>\n",
       "      <td>Dem</td>\n",
       "      <td>NaN</td>\n",
       "      <td>NaN</td>\n",
       "      <td>False</td>\n",
       "      <td>True</td>\n",
       "      <td>True</td>\n",
       "      <td>False</td>\n",
       "    </tr>\n",
       "    <tr>\n",
       "      <th>897</th>\n",
       "      <td>Dem</td>\n",
       "      <td>MCI</td>\n",
       "      <td>MCI</td>\n",
       "      <td>Reversion: Dementia to MCI</td>\n",
       "      <td>False</td>\n",
       "      <td>False</td>\n",
       "      <td>False</td>\n",
       "      <td>False</td>\n",
       "    </tr>\n",
       "    <tr>\n",
       "      <th>898</th>\n",
       "      <td>Dem</td>\n",
       "      <td>Dem</td>\n",
       "      <td>NC</td>\n",
       "      <td>Reversion: Dementia to NC</td>\n",
       "      <td>False</td>\n",
       "      <td>False</td>\n",
       "      <td>False</td>\n",
       "      <td>False</td>\n",
       "    </tr>\n",
       "    <tr>\n",
       "      <th>899</th>\n",
       "      <td>MCI</td>\n",
       "      <td>Dem</td>\n",
       "      <td>NC</td>\n",
       "      <td>Reversion: MCI to NC</td>\n",
       "      <td>False</td>\n",
       "      <td>False</td>\n",
       "      <td>False</td>\n",
       "      <td>False</td>\n",
       "    </tr>\n",
       "  </tbody>\n",
       "</table>\n",
       "<p>900 rows × 8 columns</p>\n",
       "</div>"
      ],
      "text/plain": [
       "    dx_v1 dx_v2 dx_v3                   dx_change  change  mydxchange  \\\n",
       "0     Dem   Dem   Dem            Stable: Dementia   False       False   \n",
       "1     MCI   Dem    NC        Reversion: MCI to NC   False       False   \n",
       "2     Dem    NC   Dem            Stable: Dementia   False       False   \n",
       "3     NaN   NaN   Dem                         NaN   False       False   \n",
       "4     Dem    NC   Dem            Stable: Dementia   False       False   \n",
       "..    ...   ...   ...                         ...     ...         ...   \n",
       "895    NC   MCI   Dem  Conversion: NC to Dementia    True       False   \n",
       "896   MCI   Dem   NaN                         NaN   False        True   \n",
       "897   Dem   MCI   MCI  Reversion: Dementia to MCI   False       False   \n",
       "898   Dem   Dem    NC   Reversion: Dementia to NC   False       False   \n",
       "899   MCI   Dem    NC        Reversion: MCI to NC   False       False   \n",
       "\n",
       "     dx_change_final  at_least_two_nans  \n",
       "0              False              False  \n",
       "1              False              False  \n",
       "2              False              False  \n",
       "3              False               True  \n",
       "4              False              False  \n",
       "..               ...                ...  \n",
       "895             True              False  \n",
       "896             True              False  \n",
       "897            False              False  \n",
       "898            False              False  \n",
       "899            False              False  \n",
       "\n",
       "[900 rows x 8 columns]"
      ]
     },
     "execution_count": 4,
     "metadata": {},
     "output_type": "execute_result"
    }
   ],
   "source": [
    "df_dx"
   ]
  },
  {
   "attachments": {},
   "cell_type": "markdown",
   "metadata": {},
   "source": [
    "We have to remove some indices in dx change"
   ]
  },
  {
   "cell_type": "code",
   "execution_count": 102,
   "metadata": {},
   "outputs": [
    {
     "data": {
      "text/plain": [
       "Index([  3,  40,  76,  99, 101, 126, 179, 190, 194, 227, 240, 254, 255, 265,\n",
       "       269, 364, 375, 439, 484, 496, 508, 524, 615, 707, 715, 742, 782, 834],\n",
       "      dtype='int64')"
      ]
     },
     "execution_count": 102,
     "metadata": {},
     "output_type": "execute_result"
    }
   ],
   "source": [
    "indices_to_remove = df_dx[df_dx['at_least_two_nans']].index\n",
    "indices_to_remove"
   ]
  },
  {
   "cell_type": "code",
   "execution_count": 103,
   "metadata": {},
   "outputs": [],
   "source": [
    "df_continuous_dx_change = df_v1[['sex', 'age_years', 'years_education', 'APOE4',\n",
    "       'family_dementia_history', 'AMYL', 'TAUO', 'NEUROD',\n",
    "       'mmse_total', 'Depression','cdr_sob', 'LHVL', 'LHVR', 'LHV', 'VASCULAR']]"
   ]
  },
  {
   "cell_type": "code",
   "execution_count": 104,
   "metadata": {},
   "outputs": [],
   "source": [
    "df_categorical_dx_change = df_v1[['sex', 'age_years', 'years_education', 'APOE4',\n",
    "       'family_dementia_history', 'AMYL', 'TAUO', 'NEUROD',\n",
    "       'mmse_total', 'Depression','cdr_sob', 'LHVL', 'LHVR', 'LHV', 'VASCULAR']]"
   ]
  },
  {
   "cell_type": "code",
   "execution_count": 105,
   "metadata": {},
   "outputs": [
    {
     "name": "stderr",
     "output_type": "stream",
     "text": [
      "C:\\Users\\anaso\\AppData\\Local\\Temp\\ipykernel_24004\\881178915.py:1: SettingWithCopyWarning: \n",
      "A value is trying to be set on a copy of a slice from a DataFrame.\n",
      "Try using .loc[row_indexer,col_indexer] = value instead\n",
      "\n",
      "See the caveats in the documentation: https://pandas.pydata.org/pandas-docs/stable/user_guide/indexing.html#returning-a-view-versus-a-copy\n",
      "  df_continuous_dx_change['dx_change'] = df_dx['dx_change_final']\n",
      "C:\\Users\\anaso\\AppData\\Local\\Temp\\ipykernel_24004\\881178915.py:2: SettingWithCopyWarning: \n",
      "A value is trying to be set on a copy of a slice from a DataFrame.\n",
      "Try using .loc[row_indexer,col_indexer] = value instead\n",
      "\n",
      "See the caveats in the documentation: https://pandas.pydata.org/pandas-docs/stable/user_guide/indexing.html#returning-a-view-versus-a-copy\n",
      "  df_categorical_dx_change['dx_change'] = df_dx['dx_change_final']\n"
     ]
    }
   ],
   "source": [
    "df_continuous_dx_change['dx_change'] = df_dx['dx_change_final']\n",
    "df_categorical_dx_change['dx_change'] = df_dx['dx_change_final']"
   ]
  },
  {
   "cell_type": "code",
   "execution_count": 106,
   "metadata": {},
   "outputs": [
    {
     "data": {
      "text/plain": [
       "(900, 16)"
      ]
     },
     "execution_count": 106,
     "metadata": {},
     "output_type": "execute_result"
    }
   ],
   "source": [
    "df_continuous_dx_change.shape"
   ]
  },
  {
   "cell_type": "code",
   "execution_count": 107,
   "metadata": {},
   "outputs": [],
   "source": [
    "assert df_continuous_dx_change.shape[0] == 900\n",
    "df_continuous_dx_change = df_continuous_dx_change.drop(indices_to_remove)\n",
    "df_categorical_dx_change = df_categorical_dx_change.drop(indices_to_remove)"
   ]
  },
  {
   "attachments": {},
   "cell_type": "markdown",
   "metadata": {},
   "source": [
    "## Store all dataframes"
   ]
  },
  {
   "cell_type": "code",
   "execution_count": 108,
   "metadata": {},
   "outputs": [],
   "source": [
    "df_continuous_dx.to_csv('clean_tables/ready_to_train/df_continuous_dx')\n",
    "df_categorical_dx.to_csv('clean_tables/ready_to_train/df_categorical_dx')\n",
    "df_continuous_AMYL.to_csv('clean_tables/ready_to_train/df_continuous_AMYL')\n",
    "df_categorical_AMYL.to_csv('clean_tables/ready_to_train/df_categorical_AMYL')\n",
    "df_continuous_dx_change.to_csv('clean_tables/ready_to_train/df_continuous_dx_change')\n",
    "df_categorical_dx_change.to_csv('clean_tables/ready_to_train/df_categorical_dx_change')"
   ]
  },
  {
   "attachments": {},
   "cell_type": "markdown",
   "metadata": {},
   "source": [
    "# DX prediction - preparing dataset"
   ]
  },
  {
   "cell_type": "code",
   "execution_count": 190,
   "metadata": {},
   "outputs": [],
   "source": [
    "df_continuous_dx=pd.read_csv('clean_tables/ready_to_train/df_continuous_dx')\n",
    "df_categorical_dx=pd.read_csv('clean_tables/ready_to_train/df_categorical_dx')"
   ]
  },
  {
   "cell_type": "code",
   "execution_count": 191,
   "metadata": {},
   "outputs": [
    {
     "data": {
      "text/plain": [
       "Unnamed: 0                  0\n",
       "sex                         0\n",
       "age_years                   0\n",
       "years_education             0\n",
       "APOE4                      94\n",
       "family_dementia_history     0\n",
       "ptau_result                 0\n",
       "ttau_result                 0\n",
       "abeta42_result              0\n",
       "mmse_total                 82\n",
       "gds_total                  87\n",
       "cdr_sob                    87\n",
       "LHVL                        0\n",
       "LHVR                        0\n",
       "LHV                         0\n",
       "LWMV                        0\n",
       "DX                         87\n",
       "dtype: int64"
      ]
     },
     "execution_count": 191,
     "metadata": {},
     "output_type": "execute_result"
    }
   ],
   "source": [
    "df_continuous_dx.isnull().sum()"
   ]
  },
  {
   "cell_type": "code",
   "execution_count": 192,
   "metadata": {},
   "outputs": [],
   "source": [
    "# remove nas final column\n",
    "df_continuous_dx = df_continuous_dx.dropna(axis=0, subset=['DX'], inplace=False)\n",
    "df_categorical_dx = df_categorical_dx.dropna(axis=0, subset=['DX'], inplace=False)"
   ]
  },
  {
   "cell_type": "code",
   "execution_count": 193,
   "metadata": {},
   "outputs": [
    {
     "data": {
      "text/plain": [
       "Unnamed: 0                  0\n",
       "sex                         0\n",
       "age_years                   0\n",
       "years_education             0\n",
       "APOE4                      84\n",
       "family_dementia_history     0\n",
       "AMYL                        0\n",
       "TAUO                        0\n",
       "NEUROD                      0\n",
       "mmse_total                 81\n",
       "Depression                  0\n",
       "cdr_sob                     0\n",
       "LHVL                        0\n",
       "LHVR                        0\n",
       "LHV                         0\n",
       "VASCULAR                    0\n",
       "DX                          0\n",
       "dtype: int64"
      ]
     },
     "execution_count": 193,
     "metadata": {},
     "output_type": "execute_result"
    }
   ],
   "source": [
    "df_categorical_dx.isnull().sum()"
   ]
  },
  {
   "cell_type": "code",
   "execution_count": 194,
   "metadata": {},
   "outputs": [
    {
     "data": {
      "text/html": [
       "<div>\n",
       "<style scoped>\n",
       "    .dataframe tbody tr th:only-of-type {\n",
       "        vertical-align: middle;\n",
       "    }\n",
       "\n",
       "    .dataframe tbody tr th {\n",
       "        vertical-align: top;\n",
       "    }\n",
       "\n",
       "    .dataframe thead th {\n",
       "        text-align: right;\n",
       "    }\n",
       "</style>\n",
       "<table border=\"1\" class=\"dataframe\">\n",
       "  <thead>\n",
       "    <tr style=\"text-align: right;\">\n",
       "      <th></th>\n",
       "      <th>Unnamed: 0</th>\n",
       "      <th>sex</th>\n",
       "      <th>age_years</th>\n",
       "      <th>years_education</th>\n",
       "      <th>APOE4</th>\n",
       "      <th>family_dementia_history</th>\n",
       "      <th>ptau_result</th>\n",
       "      <th>ttau_result</th>\n",
       "      <th>abeta42_result</th>\n",
       "      <th>mmse_total</th>\n",
       "      <th>gds_total</th>\n",
       "      <th>cdr_sob</th>\n",
       "      <th>LHVL</th>\n",
       "      <th>LHVR</th>\n",
       "      <th>LHV</th>\n",
       "      <th>LWMV</th>\n",
       "      <th>DX</th>\n",
       "    </tr>\n",
       "  </thead>\n",
       "  <tbody>\n",
       "    <tr>\n",
       "      <th>0</th>\n",
       "      <td>0</td>\n",
       "      <td>f</td>\n",
       "      <td>51</td>\n",
       "      <td>11</td>\n",
       "      <td>0.0</td>\n",
       "      <td>Yes</td>\n",
       "      <td>16.3</td>\n",
       "      <td>331.0</td>\n",
       "      <td>1363.0</td>\n",
       "      <td>16.0</td>\n",
       "      <td>9.0</td>\n",
       "      <td>16.5</td>\n",
       "      <td>-1.701</td>\n",
       "      <td>-0.521</td>\n",
       "      <td>-2.221</td>\n",
       "      <td>-0.723</td>\n",
       "      <td>Dem</td>\n",
       "    </tr>\n",
       "    <tr>\n",
       "      <th>1</th>\n",
       "      <td>1</td>\n",
       "      <td>m</td>\n",
       "      <td>76</td>\n",
       "      <td>10</td>\n",
       "      <td>2.0</td>\n",
       "      <td>Yes</td>\n",
       "      <td>22.9</td>\n",
       "      <td>223.0</td>\n",
       "      <td>1700.0</td>\n",
       "      <td>14.0</td>\n",
       "      <td>14.0</td>\n",
       "      <td>1.5</td>\n",
       "      <td>0.254</td>\n",
       "      <td>0.025</td>\n",
       "      <td>0.279</td>\n",
       "      <td>0.000</td>\n",
       "      <td>MCI</td>\n",
       "    </tr>\n",
       "    <tr>\n",
       "      <th>2</th>\n",
       "      <td>2</td>\n",
       "      <td>f</td>\n",
       "      <td>61</td>\n",
       "      <td>14</td>\n",
       "      <td>0.0</td>\n",
       "      <td>Yes</td>\n",
       "      <td>19.8</td>\n",
       "      <td>202.0</td>\n",
       "      <td>1406.0</td>\n",
       "      <td>15.0</td>\n",
       "      <td>NaN</td>\n",
       "      <td>5.5</td>\n",
       "      <td>-0.642</td>\n",
       "      <td>-0.657</td>\n",
       "      <td>-1.299</td>\n",
       "      <td>0.210</td>\n",
       "      <td>Dem</td>\n",
       "    </tr>\n",
       "    <tr>\n",
       "      <th>4</th>\n",
       "      <td>4</td>\n",
       "      <td>m</td>\n",
       "      <td>56</td>\n",
       "      <td>19</td>\n",
       "      <td>2.0</td>\n",
       "      <td>Yes</td>\n",
       "      <td>8.0</td>\n",
       "      <td>170.0</td>\n",
       "      <td>1094.0</td>\n",
       "      <td>20.0</td>\n",
       "      <td>14.0</td>\n",
       "      <td>10.5</td>\n",
       "      <td>-0.909</td>\n",
       "      <td>-0.139</td>\n",
       "      <td>-1.048</td>\n",
       "      <td>-0.827</td>\n",
       "      <td>Dem</td>\n",
       "    </tr>\n",
       "    <tr>\n",
       "      <th>5</th>\n",
       "      <td>5</td>\n",
       "      <td>f</td>\n",
       "      <td>80</td>\n",
       "      <td>19</td>\n",
       "      <td>2.0</td>\n",
       "      <td>Yes</td>\n",
       "      <td>41.4</td>\n",
       "      <td>231.0</td>\n",
       "      <td>1329.0</td>\n",
       "      <td>17.0</td>\n",
       "      <td>17.0</td>\n",
       "      <td>0.5</td>\n",
       "      <td>-0.025</td>\n",
       "      <td>-0.679</td>\n",
       "      <td>-0.703</td>\n",
       "      <td>0.379</td>\n",
       "      <td>MCI</td>\n",
       "    </tr>\n",
       "    <tr>\n",
       "      <th>...</th>\n",
       "      <td>...</td>\n",
       "      <td>...</td>\n",
       "      <td>...</td>\n",
       "      <td>...</td>\n",
       "      <td>...</td>\n",
       "      <td>...</td>\n",
       "      <td>...</td>\n",
       "      <td>...</td>\n",
       "      <td>...</td>\n",
       "      <td>...</td>\n",
       "      <td>...</td>\n",
       "      <td>...</td>\n",
       "      <td>...</td>\n",
       "      <td>...</td>\n",
       "      <td>...</td>\n",
       "      <td>...</td>\n",
       "      <td>...</td>\n",
       "    </tr>\n",
       "    <tr>\n",
       "      <th>895</th>\n",
       "      <td>895</td>\n",
       "      <td>un</td>\n",
       "      <td>60</td>\n",
       "      <td>14</td>\n",
       "      <td>NaN</td>\n",
       "      <td>Yes</td>\n",
       "      <td>29.6</td>\n",
       "      <td>273.0</td>\n",
       "      <td>1348.0</td>\n",
       "      <td>18.0</td>\n",
       "      <td>16.0</td>\n",
       "      <td>0.0</td>\n",
       "      <td>0.416</td>\n",
       "      <td>-1.619</td>\n",
       "      <td>-1.203</td>\n",
       "      <td>-1.037</td>\n",
       "      <td>NC</td>\n",
       "    </tr>\n",
       "    <tr>\n",
       "      <th>896</th>\n",
       "      <td>896</td>\n",
       "      <td>m</td>\n",
       "      <td>89</td>\n",
       "      <td>12</td>\n",
       "      <td>NaN</td>\n",
       "      <td>Yes</td>\n",
       "      <td>37.9</td>\n",
       "      <td>268.0</td>\n",
       "      <td>1009.0</td>\n",
       "      <td>20.0</td>\n",
       "      <td>12.0</td>\n",
       "      <td>0.5</td>\n",
       "      <td>-0.740</td>\n",
       "      <td>-2.162</td>\n",
       "      <td>-2.901</td>\n",
       "      <td>-1.727</td>\n",
       "      <td>MCI</td>\n",
       "    </tr>\n",
       "    <tr>\n",
       "      <th>897</th>\n",
       "      <td>897</td>\n",
       "      <td>m</td>\n",
       "      <td>81</td>\n",
       "      <td>13</td>\n",
       "      <td>1.0</td>\n",
       "      <td>Yes</td>\n",
       "      <td>21.7</td>\n",
       "      <td>382.0</td>\n",
       "      <td>1700.0</td>\n",
       "      <td>15.0</td>\n",
       "      <td>22.0</td>\n",
       "      <td>11.5</td>\n",
       "      <td>0.338</td>\n",
       "      <td>1.311</td>\n",
       "      <td>1.649</td>\n",
       "      <td>-1.433</td>\n",
       "      <td>Dem</td>\n",
       "    </tr>\n",
       "    <tr>\n",
       "      <th>898</th>\n",
       "      <td>898</td>\n",
       "      <td>m</td>\n",
       "      <td>70</td>\n",
       "      <td>16</td>\n",
       "      <td>1.0</td>\n",
       "      <td>Yes</td>\n",
       "      <td>26.3</td>\n",
       "      <td>301.0</td>\n",
       "      <td>755.0</td>\n",
       "      <td>13.0</td>\n",
       "      <td>20.0</td>\n",
       "      <td>16.5</td>\n",
       "      <td>0.464</td>\n",
       "      <td>-0.094</td>\n",
       "      <td>0.370</td>\n",
       "      <td>1.524</td>\n",
       "      <td>Dem</td>\n",
       "    </tr>\n",
       "    <tr>\n",
       "      <th>899</th>\n",
       "      <td>899</td>\n",
       "      <td>un</td>\n",
       "      <td>57</td>\n",
       "      <td>14</td>\n",
       "      <td>2.0</td>\n",
       "      <td>No</td>\n",
       "      <td>18.5</td>\n",
       "      <td>234.0</td>\n",
       "      <td>994.0</td>\n",
       "      <td>12.0</td>\n",
       "      <td>12.0</td>\n",
       "      <td>2.5</td>\n",
       "      <td>0.761</td>\n",
       "      <td>-2.687</td>\n",
       "      <td>-1.925</td>\n",
       "      <td>1.280</td>\n",
       "      <td>MCI</td>\n",
       "    </tr>\n",
       "  </tbody>\n",
       "</table>\n",
       "<p>813 rows × 17 columns</p>\n",
       "</div>"
      ],
      "text/plain": [
       "     Unnamed: 0 sex  age_years  years_education  APOE4  \\\n",
       "0             0   f         51               11    0.0   \n",
       "1             1   m         76               10    2.0   \n",
       "2             2   f         61               14    0.0   \n",
       "4             4   m         56               19    2.0   \n",
       "5             5   f         80               19    2.0   \n",
       "..          ...  ..        ...              ...    ...   \n",
       "895         895  un         60               14    NaN   \n",
       "896         896   m         89               12    NaN   \n",
       "897         897   m         81               13    1.0   \n",
       "898         898   m         70               16    1.0   \n",
       "899         899  un         57               14    2.0   \n",
       "\n",
       "    family_dementia_history  ptau_result  ttau_result  abeta42_result  \\\n",
       "0                       Yes         16.3        331.0          1363.0   \n",
       "1                       Yes         22.9        223.0          1700.0   \n",
       "2                       Yes         19.8        202.0          1406.0   \n",
       "4                       Yes          8.0        170.0          1094.0   \n",
       "5                       Yes         41.4        231.0          1329.0   \n",
       "..                      ...          ...          ...             ...   \n",
       "895                     Yes         29.6        273.0          1348.0   \n",
       "896                     Yes         37.9        268.0          1009.0   \n",
       "897                     Yes         21.7        382.0          1700.0   \n",
       "898                     Yes         26.3        301.0           755.0   \n",
       "899                      No         18.5        234.0           994.0   \n",
       "\n",
       "     mmse_total  gds_total  cdr_sob   LHVL   LHVR    LHV   LWMV   DX  \n",
       "0          16.0        9.0     16.5 -1.701 -0.521 -2.221 -0.723  Dem  \n",
       "1          14.0       14.0      1.5  0.254  0.025  0.279  0.000  MCI  \n",
       "2          15.0        NaN      5.5 -0.642 -0.657 -1.299  0.210  Dem  \n",
       "4          20.0       14.0     10.5 -0.909 -0.139 -1.048 -0.827  Dem  \n",
       "5          17.0       17.0      0.5 -0.025 -0.679 -0.703  0.379  MCI  \n",
       "..          ...        ...      ...    ...    ...    ...    ...  ...  \n",
       "895        18.0       16.0      0.0  0.416 -1.619 -1.203 -1.037   NC  \n",
       "896        20.0       12.0      0.5 -0.740 -2.162 -2.901 -1.727  MCI  \n",
       "897        15.0       22.0     11.5  0.338  1.311  1.649 -1.433  Dem  \n",
       "898        13.0       20.0     16.5  0.464 -0.094  0.370  1.524  Dem  \n",
       "899        12.0       12.0      2.5  0.761 -2.687 -1.925  1.280  MCI  \n",
       "\n",
       "[813 rows x 17 columns]"
      ]
     },
     "execution_count": 194,
     "metadata": {},
     "output_type": "execute_result"
    }
   ],
   "source": [
    "df_continuous_dx"
   ]
  },
  {
   "cell_type": "code",
   "execution_count": 195,
   "metadata": {},
   "outputs": [
    {
     "data": {
      "text/plain": [
       "Index(['Unnamed: 0', 'sex', 'age_years', 'years_education', 'APOE4',\n",
       "       'family_dementia_history', 'ptau_result', 'ttau_result',\n",
       "       'abeta42_result', 'mmse_total', 'gds_total', 'cdr_sob', 'LHVL', 'LHVR',\n",
       "       'LHV', 'LWMV', 'DX'],\n",
       "      dtype='object')"
      ]
     },
     "execution_count": 195,
     "metadata": {},
     "output_type": "execute_result"
    }
   ],
   "source": [
    "df_continuous_dx.columns"
   ]
  },
  {
   "cell_type": "code",
   "execution_count": 196,
   "metadata": {},
   "outputs": [],
   "source": [
    "# find correlation between two columns in a dataframe\n",
    "correlation_matrix = df_continuous_dx[['age_years','years_education', 'ptau_result', 'ttau_result',\n",
    "       'abeta42_result', 'mmse_total', 'gds_total', 'cdr_sob', 'LHVL', 'LHVR',\n",
    "       'LHV', 'LWMV']].corr()"
   ]
  },
  {
   "cell_type": "code",
   "execution_count": 197,
   "metadata": {},
   "outputs": [
    {
     "data": {
      "image/png": "[encoded data removed]",
      "text/plain": [
       "<Figure size 1000x1000 with 2 Axes>"
      ]
     },
     "metadata": {},
     "output_type": "display_data"
    }
   ],
   "source": [
    "plt.figure(figsize=(10,10))\n",
    "sns.heatmap(correlation_matrix, annot=True, cmap='Blues')\n",
    "plt.title('Correlation matrix')\n",
    "plt.show()"
   ]
  },
  {
   "attachments": {},
   "cell_type": "markdown",
   "metadata": {},
   "source": [
    "We see that LHVL, LHVR are highly correlated with LHV, so we don't use that one"
   ]
  },
  {
   "cell_type": "code",
   "execution_count": 198,
   "metadata": {},
   "outputs": [],
   "source": [
    "df_continuous_dx = df_continuous_dx.drop(columns=['LHV'])\n",
    "df_categorical_dx = df_categorical_dx.drop(columns=['LHV'])"
   ]
  },
  {
   "cell_type": "code",
   "execution_count": 199,
   "metadata": {},
   "outputs": [
    {
     "data": {
      "text/plain": [
       "Unnamed: 0                  0\n",
       "sex                         0\n",
       "age_years                   0\n",
       "years_education             0\n",
       "APOE4                      84\n",
       "family_dementia_history     0\n",
       "ptau_result                 0\n",
       "ttau_result                 0\n",
       "abeta42_result              0\n",
       "mmse_total                 81\n",
       "gds_total                  81\n",
       "cdr_sob                     0\n",
       "LHVL                        0\n",
       "LHVR                        0\n",
       "LWMV                        0\n",
       "DX                          0\n",
       "dtype: int64"
      ]
     },
     "execution_count": 199,
     "metadata": {},
     "output_type": "execute_result"
    }
   ],
   "source": [
    "df_continuous_dx.isnull().sum()"
   ]
  },
  {
   "cell_type": "code",
   "execution_count": 200,
   "metadata": {},
   "outputs": [
    {
     "data": {
      "text/plain": [
       "<Axes: >"
      ]
     },
     "execution_count": 200,
     "metadata": {},
     "output_type": "execute_result"
    },
    {
     "data": {
      "image/png": "[encoded data removed]",
      "text/plain": [
       "<Figure size 640x480 with 1 Axes>"
      ]
     },
     "metadata": {},
     "output_type": "display_data"
    }
   ],
   "source": [
    "df_continuous_dx['mmse_total'].hist(bins=25)"
   ]
  },
  {
   "cell_type": "code",
   "execution_count": 201,
   "metadata": {},
   "outputs": [
    {
     "data": {
      "text/plain": [
       "count    732.000000\n",
       "mean      14.972678\n",
       "std        2.767175\n",
       "min        6.000000\n",
       "25%       13.000000\n",
       "50%       15.000000\n",
       "75%       17.000000\n",
       "max       24.000000\n",
       "Name: mmse_total, dtype: float64"
      ]
     },
     "execution_count": 201,
     "metadata": {},
     "output_type": "execute_result"
    }
   ],
   "source": [
    "df_continuous_dx['mmse_total'].describe()"
   ]
  },
  {
   "cell_type": "code",
   "execution_count": 202,
   "metadata": {},
   "outputs": [],
   "source": [
    "# put nan values in mmse to mean\n",
    "df_continuous_dx['mmse_total'] = df_continuous_dx['mmse_total'].fillna(df_continuous_dx['mmse_total'].mean())\n",
    "df_categorical_dx['mmse_total'] = df_categorical_dx['mmse_total'].fillna(df_categorical_dx['mmse_total'].mean())"
   ]
  },
  {
   "cell_type": "code",
   "execution_count": 203,
   "metadata": {},
   "outputs": [
    {
     "data": {
      "text/plain": [
       "<Axes: >"
      ]
     },
     "execution_count": 203,
     "metadata": {},
     "output_type": "execute_result"
    },
    {
     "data": {
      "image/png": "[encoded data removed]",
      "text/plain": [
       "<Figure size 640x480 with 1 Axes>"
      ]
     },
     "metadata": {},
     "output_type": "display_data"
    }
   ],
   "source": [
    "df_continuous_dx['gds_total'].hist(bins=100)"
   ]
  },
  {
   "cell_type": "code",
   "execution_count": 204,
   "metadata": {},
   "outputs": [
    {
     "data": {
      "text/plain": [
       "count    732.000000\n",
       "mean      14.913934\n",
       "std        2.807450\n",
       "min        7.000000\n",
       "25%       13.000000\n",
       "50%       15.000000\n",
       "75%       17.000000\n",
       "max       23.000000\n",
       "Name: gds_total, dtype: float64"
      ]
     },
     "execution_count": 204,
     "metadata": {},
     "output_type": "execute_result"
    }
   ],
   "source": [
    "df_continuous_dx['gds_total'].describe()"
   ]
  },
  {
   "cell_type": "code",
   "execution_count": 205,
   "metadata": {},
   "outputs": [],
   "source": [
    "# fill nan values in gds with mean\n",
    "df_continuous_dx['gds_total'] = df_continuous_dx['gds_total'].fillna(df_continuous_dx['gds_total'].mean())"
   ]
  },
  {
   "cell_type": "code",
   "execution_count": 206,
   "metadata": {},
   "outputs": [
    {
     "data": {
      "text/plain": [
       "Unnamed: 0                  0\n",
       "sex                         0\n",
       "age_years                   0\n",
       "years_education             0\n",
       "APOE4                      84\n",
       "family_dementia_history     0\n",
       "ptau_result                 0\n",
       "ttau_result                 0\n",
       "abeta42_result              0\n",
       "mmse_total                  0\n",
       "gds_total                   0\n",
       "cdr_sob                     0\n",
       "LHVL                        0\n",
       "LHVR                        0\n",
       "LWMV                        0\n",
       "DX                          0\n",
       "dtype: int64"
      ]
     },
     "execution_count": 206,
     "metadata": {},
     "output_type": "execute_result"
    }
   ],
   "source": [
    "df_continuous_dx.isnull().sum()"
   ]
  },
  {
   "attachments": {},
   "cell_type": "markdown",
   "metadata": {},
   "source": [
    "And now: how do we deal with the missing values in APOE4? Do we remove the rows, the column or just replace the missing values with the most frequent category"
   ]
  },
  {
   "cell_type": "code",
   "execution_count": 207,
   "metadata": {},
   "outputs": [
    {
     "data": {
      "text/plain": [
       "APOE4\n",
       "0.0    358\n",
       "1.0    226\n",
       "2.0    145\n",
       "Name: count, dtype: int64"
      ]
     },
     "execution_count": 207,
     "metadata": {},
     "output_type": "execute_result"
    }
   ],
   "source": [
    "df_continuous_dx['APOE4'].value_counts()"
   ]
  },
  {
   "cell_type": "code",
   "execution_count": 208,
   "metadata": {},
   "outputs": [
    {
     "data": {
      "text/plain": [
       "<Axes: >"
      ]
     },
     "execution_count": 208,
     "metadata": {},
     "output_type": "execute_result"
    },
    {
     "data": {
      "image/png": "[encoded data removed]",
      "text/plain": [
       "<Figure size 640x480 with 1 Axes>"
      ]
     },
     "metadata": {},
     "output_type": "display_data"
    }
   ],
   "source": [
    "df_continuous_dx['APOE4'].hist(bins=3)"
   ]
  },
  {
   "cell_type": "code",
   "execution_count": 209,
   "metadata": {},
   "outputs": [],
   "source": [
    "df_continuous_dx = df_continuous_dx.dropna(axis=0, subset=['APOE4'], inplace=False)\n",
    "df_categorical_dx = df_categorical_dx.dropna(axis=0, subset=['APOE4'], inplace=False)"
   ]
  },
  {
   "cell_type": "code",
   "execution_count": 176,
   "metadata": {},
   "outputs": [],
   "source": [
    "# df_continuous_dx['APOE4'] = df_continuous_dx['APOE4'].fillna(0.0)\n",
    "# df_categorical_dx['APOE4'] = df_categorical_dx['APOE4'].fillna(0.0)"
   ]
  },
  {
   "cell_type": "code",
   "execution_count": 210,
   "metadata": {},
   "outputs": [
    {
     "data": {
      "text/plain": [
       "Unnamed: 0                 0\n",
       "sex                        0\n",
       "age_years                  0\n",
       "years_education            0\n",
       "APOE4                      0\n",
       "family_dementia_history    0\n",
       "ptau_result                0\n",
       "ttau_result                0\n",
       "abeta42_result             0\n",
       "mmse_total                 0\n",
       "gds_total                  0\n",
       "cdr_sob                    0\n",
       "LHVL                       0\n",
       "LHVR                       0\n",
       "LWMV                       0\n",
       "DX                         0\n",
       "dtype: int64"
      ]
     },
     "execution_count": 210,
     "metadata": {},
     "output_type": "execute_result"
    }
   ],
   "source": [
    "df_continuous_dx.isnull().sum()"
   ]
  },
  {
   "cell_type": "code",
   "execution_count": 211,
   "metadata": {},
   "outputs": [
    {
     "data": {
      "text/plain": [
       "(729, 16)"
      ]
     },
     "execution_count": 211,
     "metadata": {},
     "output_type": "execute_result"
    }
   ],
   "source": [
    "df_continuous_dx.shape"
   ]
  },
  {
   "cell_type": "code",
   "execution_count": 179,
   "metadata": {},
   "outputs": [
    {
     "data": {
      "text/plain": [
       "Unnamed: 0                   int64\n",
       "sex                         object\n",
       "age_years                    int64\n",
       "years_education              int64\n",
       "APOE4                      float64\n",
       "family_dementia_history     object\n",
       "AMYL                       float64\n",
       "TAUO                       float64\n",
       "NEUROD                     float64\n",
       "mmse_total                 float64\n",
       "Depression                    bool\n",
       "cdr_sob                    float64\n",
       "LHVL                       float64\n",
       "LHVR                       float64\n",
       "VASCULAR                   float64\n",
       "DX                          object\n",
       "dtype: object"
      ]
     },
     "execution_count": 179,
     "metadata": {},
     "output_type": "execute_result"
    }
   ],
   "source": [
    "df_categorical_dx.dtypes"
   ]
  },
  {
   "cell_type": "code",
   "execution_count": 212,
   "metadata": {},
   "outputs": [],
   "source": [
    "# save\n",
    "df_continuous_dx.to_csv('clean_tables/before_normalization/df_continuous_dx')\n",
    "df_categorical_dx.to_csv('clean_tables/before_normalization/df_categorical_dx')"
   ]
  },
  {
   "attachments": {},
   "cell_type": "markdown",
   "metadata": {},
   "source": [
    "# AMYL prediction - preparing dataset"
   ]
  },
  {
   "cell_type": "code",
   "execution_count": 219,
   "metadata": {},
   "outputs": [],
   "source": [
    "df_continuous_AMYL = pd.read_csv('clean_tables/ready_to_train/df_continuous_AMYL')\n",
    "df_categorical_AMYL = pd.read_csv('clean_tables/ready_to_train/df_categorical_AMYL')"
   ]
  },
  {
   "cell_type": "code",
   "execution_count": 220,
   "metadata": {},
   "outputs": [
    {
     "data": {
      "text/plain": [
       "Unnamed: 0                  0\n",
       "sex                         0\n",
       "age_years                   0\n",
       "years_education             0\n",
       "APOE4                      94\n",
       "family_dementia_history     0\n",
       "ptau_result                 0\n",
       "ttau_result                 0\n",
       "mmse_total                 82\n",
       "gds_total                  87\n",
       "DX                         87\n",
       "cdr_sob                    87\n",
       "LHVL                        0\n",
       "LHVR                        0\n",
       "LHV                         0\n",
       "LWMV                        0\n",
       "AMYL                        0\n",
       "dtype: int64"
      ]
     },
     "execution_count": 220,
     "metadata": {},
     "output_type": "execute_result"
    }
   ],
   "source": [
    "df_continuous_AMYL.isnull().sum()"
   ]
  },
  {
   "cell_type": "code",
   "execution_count": 221,
   "metadata": {},
   "outputs": [
    {
     "data": {
      "text/plain": [
       "(900, 17)"
      ]
     },
     "execution_count": 221,
     "metadata": {},
     "output_type": "execute_result"
    }
   ],
   "source": [
    "df_continuous_AMYL.shape"
   ]
  },
  {
   "cell_type": "code",
   "execution_count": 222,
   "metadata": {},
   "outputs": [
    {
     "data": {
      "text/plain": [
       "cdr_sob\n",
       "0.0     138\n",
       "1.5      51\n",
       "3.5      48\n",
       "0.5      46\n",
       "4.5      44\n",
       "11.5     44\n",
       "14.5     43\n",
       "2.5      42\n",
       "5.5      41\n",
       "16.5     40\n",
       "8.5      36\n",
       "12.5     35\n",
       "9.5      33\n",
       "10.5     33\n",
       "6.5      31\n",
       "17.5     30\n",
       "15.5     28\n",
       "13.5     26\n",
       "7.5      24\n",
       "Name: count, dtype: int64"
      ]
     },
     "execution_count": 222,
     "metadata": {},
     "output_type": "execute_result"
    }
   ],
   "source": [
    "df_continuous_AMYL['cdr_sob'].value_counts()"
   ]
  },
  {
   "cell_type": "code",
   "execution_count": 223,
   "metadata": {},
   "outputs": [],
   "source": [
    "df_continuous_AMYL = df_continuous_AMYL.dropna(axis=0, subset=['APOE4'], inplace=False)"
   ]
  },
  {
   "cell_type": "code",
   "execution_count": 224,
   "metadata": {},
   "outputs": [
    {
     "data": {
      "text/plain": [
       "Unnamed: 0                  0\n",
       "sex                         0\n",
       "age_years                   0\n",
       "years_education             0\n",
       "APOE4                       0\n",
       "family_dementia_history     0\n",
       "ptau_result                 0\n",
       "ttau_result                 0\n",
       "mmse_total                 76\n",
       "gds_total                  81\n",
       "DX                         77\n",
       "cdr_sob                    77\n",
       "LHVL                        0\n",
       "LHVR                        0\n",
       "LHV                         0\n",
       "LWMV                        0\n",
       "AMYL                        0\n",
       "dtype: int64"
      ]
     },
     "execution_count": 224,
     "metadata": {},
     "output_type": "execute_result"
    }
   ],
   "source": [
    "df_continuous_AMYL.isnull().sum()"
   ]
  },
  {
   "cell_type": "code",
   "execution_count": 225,
   "metadata": {},
   "outputs": [],
   "source": [
    "df_continuous_AMYL = df_continuous_AMYL.dropna(axis=0, subset=['DX'], inplace=False)"
   ]
  },
  {
   "cell_type": "code",
   "execution_count": 226,
   "metadata": {},
   "outputs": [
    {
     "data": {
      "text/plain": [
       "Unnamed: 0                  0\n",
       "sex                         0\n",
       "age_years                   0\n",
       "years_education             0\n",
       "APOE4                       0\n",
       "family_dementia_history     0\n",
       "ptau_result                 0\n",
       "ttau_result                 0\n",
       "mmse_total                 75\n",
       "gds_total                  76\n",
       "DX                          0\n",
       "cdr_sob                     0\n",
       "LHVL                        0\n",
       "LHVR                        0\n",
       "LHV                         0\n",
       "LWMV                        0\n",
       "AMYL                        0\n",
       "dtype: int64"
      ]
     },
     "execution_count": 226,
     "metadata": {},
     "output_type": "execute_result"
    }
   ],
   "source": [
    "df_continuous_AMYL.isnull().sum()"
   ]
  },
  {
   "cell_type": "code",
   "execution_count": 227,
   "metadata": {},
   "outputs": [
    {
     "data": {
      "text/plain": [
       "<Axes: >"
      ]
     },
     "execution_count": 227,
     "metadata": {},
     "output_type": "execute_result"
    },
    {
     "data": {
      "image/png": "[encoded data removed]",
      "text/plain": [
       "<Figure size 640x480 with 1 Axes>"
      ]
     },
     "metadata": {},
     "output_type": "display_data"
    }
   ],
   "source": [
    "df_continuous_AMYL['mmse_total'].hist(bins=25)"
   ]
  },
  {
   "cell_type": "code",
   "execution_count": 229,
   "metadata": {},
   "outputs": [],
   "source": [
    "df_continuous_AMYL['mmse_total'] = df_continuous_AMYL['mmse_total'].fillna(df_continuous_AMYL['mmse_total'].mean())\n",
    "df_continuous_AMYL['gds_total'] = df_continuous_AMYL['gds_total'].fillna(df_continuous_AMYL['gds_total'].mean())"
   ]
  },
  {
   "cell_type": "code",
   "execution_count": 230,
   "metadata": {},
   "outputs": [
    {
     "data": {
      "text/plain": [
       "Unnamed: 0                 0\n",
       "sex                        0\n",
       "age_years                  0\n",
       "years_education            0\n",
       "APOE4                      0\n",
       "family_dementia_history    0\n",
       "ptau_result                0\n",
       "ttau_result                0\n",
       "mmse_total                 0\n",
       "gds_total                  0\n",
       "DX                         0\n",
       "cdr_sob                    0\n",
       "LHVL                       0\n",
       "LHVR                       0\n",
       "LHV                        0\n",
       "LWMV                       0\n",
       "AMYL                       0\n",
       "dtype: int64"
      ]
     },
     "execution_count": 230,
     "metadata": {},
     "output_type": "execute_result"
    }
   ],
   "source": [
    "df_continuous_AMYL.isnull().sum()"
   ]
  },
  {
   "cell_type": "code",
   "execution_count": 231,
   "metadata": {},
   "outputs": [
    {
     "data": {
      "text/plain": [
       "(729, 17)"
      ]
     },
     "execution_count": 231,
     "metadata": {},
     "output_type": "execute_result"
    }
   ],
   "source": [
    "df_continuous_AMYL.shape"
   ]
  },
  {
   "cell_type": "code",
   "execution_count": 233,
   "metadata": {},
   "outputs": [
    {
     "data": {
      "text/plain": [
       "Unnamed: 0                  0\n",
       "sex                         0\n",
       "age_years                   0\n",
       "years_education             0\n",
       "APOE4                      94\n",
       "family_dementia_history     0\n",
       "TAUO                        0\n",
       "NEUROD                      0\n",
       "mmse_total                 82\n",
       "Depression                  0\n",
       "cdr_sob                    87\n",
       "DX                         87\n",
       "LHVL                        0\n",
       "LHVR                        0\n",
       "LHV                         0\n",
       "VASCULAR                    0\n",
       "AMYL                        0\n",
       "dtype: int64"
      ]
     },
     "execution_count": 233,
     "metadata": {},
     "output_type": "execute_result"
    }
   ],
   "source": [
    "df_categorical_AMYL.isnull().sum()"
   ]
  },
  {
   "cell_type": "code",
   "execution_count": 234,
   "metadata": {},
   "outputs": [],
   "source": [
    "df_categorical_AMYL = df_categorical_AMYL.dropna(axis=0, subset=['APOE4'], inplace=False)"
   ]
  },
  {
   "cell_type": "code",
   "execution_count": 235,
   "metadata": {},
   "outputs": [
    {
     "data": {
      "text/plain": [
       "Unnamed: 0                  0\n",
       "sex                         0\n",
       "age_years                   0\n",
       "years_education             0\n",
       "APOE4                       0\n",
       "family_dementia_history     0\n",
       "TAUO                        0\n",
       "NEUROD                      0\n",
       "mmse_total                 76\n",
       "Depression                  0\n",
       "cdr_sob                    77\n",
       "DX                         77\n",
       "LHVL                        0\n",
       "LHVR                        0\n",
       "LHV                         0\n",
       "VASCULAR                    0\n",
       "AMYL                        0\n",
       "dtype: int64"
      ]
     },
     "execution_count": 235,
     "metadata": {},
     "output_type": "execute_result"
    }
   ],
   "source": [
    "df_categorical_AMYL.isnull().sum()"
   ]
  },
  {
   "cell_type": "code",
   "execution_count": 236,
   "metadata": {},
   "outputs": [],
   "source": [
    "df_categorical_AMYL = df_categorical_AMYL.dropna(axis=0, subset=['DX'], inplace=False)    "
   ]
  },
  {
   "cell_type": "code",
   "execution_count": 238,
   "metadata": {},
   "outputs": [
    {
     "data": {
      "text/plain": [
       "Unnamed: 0                  0\n",
       "sex                         0\n",
       "age_years                   0\n",
       "years_education             0\n",
       "APOE4                       0\n",
       "family_dementia_history     0\n",
       "TAUO                        0\n",
       "NEUROD                      0\n",
       "mmse_total                 75\n",
       "Depression                  0\n",
       "cdr_sob                     0\n",
       "DX                          0\n",
       "LHVL                        0\n",
       "LHVR                        0\n",
       "LHV                         0\n",
       "VASCULAR                    0\n",
       "AMYL                        0\n",
       "dtype: int64"
      ]
     },
     "execution_count": 238,
     "metadata": {},
     "output_type": "execute_result"
    }
   ],
   "source": [
    "df_categorical_AMYL.isnull().sum() "
   ]
  },
  {
   "cell_type": "code",
   "execution_count": 240,
   "metadata": {},
   "outputs": [
    {
     "data": {
      "text/plain": [
       "<Axes: >"
      ]
     },
     "execution_count": 240,
     "metadata": {},
     "output_type": "execute_result"
    },
    {
     "data": {
      "image/png": "[encoded data removed]",
      "text/plain": [
       "<Figure size 640x480 with 1 Axes>"
      ]
     },
     "metadata": {},
     "output_type": "display_data"
    }
   ],
   "source": [
    "df_categorical_AMYL['mmse_total'].hist(bins=25)"
   ]
  },
  {
   "cell_type": "code",
   "execution_count": 241,
   "metadata": {},
   "outputs": [],
   "source": [
    "df_categorical_AMYL['mmse_total'] = df_categorical_AMYL['mmse_total'].fillna(df_categorical_AMYL['mmse_total'].mean())"
   ]
  },
  {
   "cell_type": "code",
   "execution_count": 243,
   "metadata": {},
   "outputs": [
    {
     "data": {
      "text/plain": [
       "Unnamed: 0                 0\n",
       "sex                        0\n",
       "age_years                  0\n",
       "years_education            0\n",
       "APOE4                      0\n",
       "family_dementia_history    0\n",
       "TAUO                       0\n",
       "NEUROD                     0\n",
       "mmse_total                 0\n",
       "Depression                 0\n",
       "cdr_sob                    0\n",
       "DX                         0\n",
       "LHVL                       0\n",
       "LHVR                       0\n",
       "LHV                        0\n",
       "VASCULAR                   0\n",
       "AMYL                       0\n",
       "dtype: int64"
      ]
     },
     "execution_count": 243,
     "metadata": {},
     "output_type": "execute_result"
    }
   ],
   "source": [
    "df_categorical_AMYL.isnull().sum()"
   ]
  },
  {
   "cell_type": "code",
   "execution_count": 244,
   "metadata": {},
   "outputs": [],
   "source": [
    "# store \n",
    "df_continuous_AMYL.to_csv('clean_tables/before_normalization/df_continuous_AMYL')\n",
    "df_categorical_AMYL.to_csv('clean_tables/before_normalization/df_categorical_AMYL')"
   ]
  },
  {
   "attachments": {},
   "cell_type": "markdown",
   "metadata": {},
   "source": [
    "# DX_CHANGE prediction - preparing dataset"
   ]
  },
  {
   "cell_type": "code",
   "execution_count": 245,
   "metadata": {},
   "outputs": [],
   "source": [
    "df_continuous_dx_change = pd.read_csv('clean_tables/ready_to_train/df_continuous_dx_change')\n",
    "df_categorical_dx_change = pd.read_csv('clean_tables/ready_to_train/df_categorical_dx_change')"
   ]
  },
  {
   "cell_type": "code",
   "execution_count": 246,
   "metadata": {},
   "outputs": [
    {
     "data": {
      "text/plain": [
       "Unnamed: 0                  0\n",
       "sex                         0\n",
       "age_years                   0\n",
       "years_education             0\n",
       "APOE4                      90\n",
       "family_dementia_history     0\n",
       "AMYL                        0\n",
       "TAUO                        0\n",
       "NEUROD                      0\n",
       "mmse_total                 81\n",
       "Depression                  0\n",
       "cdr_sob                    68\n",
       "LHVL                        0\n",
       "LHVR                        0\n",
       "LHV                         0\n",
       "VASCULAR                    0\n",
       "dx_change                   0\n",
       "dtype: int64"
      ]
     },
     "execution_count": 246,
     "metadata": {},
     "output_type": "execute_result"
    }
   ],
   "source": [
    "df_continuous_dx_change.isnull().sum()"
   ]
  },
  {
   "cell_type": "code",
   "execution_count": 247,
   "metadata": {},
   "outputs": [],
   "source": [
    "df_continuous_dx_change = df_continuous_dx_change.dropna(axis=0, subset=['APOE4'], inplace=False)\n",
    "df_categorical_dx_change = df_categorical_dx_change.dropna(axis=0, subset=['APOE4'], inplace=False)"
   ]
  },
  {
   "cell_type": "code",
   "execution_count": 249,
   "metadata": {},
   "outputs": [
    {
     "data": {
      "text/plain": [
       "Unnamed: 0                  0\n",
       "sex                         0\n",
       "age_years                   0\n",
       "years_education             0\n",
       "APOE4                       0\n",
       "family_dementia_history     0\n",
       "AMYL                        0\n",
       "TAUO                        0\n",
       "NEUROD                      0\n",
       "mmse_total                 75\n",
       "Depression                  0\n",
       "cdr_sob                    61\n",
       "LHVL                        0\n",
       "LHVR                        0\n",
       "LHV                         0\n",
       "VASCULAR                    0\n",
       "dx_change                   0\n",
       "dtype: int64"
      ]
     },
     "execution_count": 249,
     "metadata": {},
     "output_type": "execute_result"
    }
   ],
   "source": [
    "df_continuous_dx_change.isnull().sum()"
   ]
  },
  {
   "cell_type": "code",
   "execution_count": 250,
   "metadata": {},
   "outputs": [
    {
     "data": {
      "text/plain": [
       "<Axes: >"
      ]
     },
     "execution_count": 250,
     "metadata": {},
     "output_type": "execute_result"
    },
    {
     "data": {
      "image/png": "[encoded data removed]",
      "text/plain": [
       "<Figure size 640x480 with 1 Axes>"
      ]
     },
     "metadata": {},
     "output_type": "display_data"
    }
   ],
   "source": [
    "df_continuous_dx_change['mmse_total'].hist(bins=25)"
   ]
  },
  {
   "cell_type": "code",
   "execution_count": 251,
   "metadata": {},
   "outputs": [],
   "source": [
    "df_continuous_dx_change['mmse_total'] = df_continuous_dx_change['mmse_total'].fillna(df_continuous_dx_change['mmse_total'].mean())\n",
    "df_categorical_dx_change['mmse_total'] = df_categorical_dx_change['mmse_total'].fillna(df_categorical_dx_change['mmse_total'].mean())"
   ]
  },
  {
   "cell_type": "code",
   "execution_count": 253,
   "metadata": {},
   "outputs": [
    {
     "data": {
      "text/plain": [
       "Unnamed: 0                  0\n",
       "sex                         0\n",
       "age_years                   0\n",
       "years_education             0\n",
       "APOE4                       0\n",
       "family_dementia_history     0\n",
       "AMYL                        0\n",
       "TAUO                        0\n",
       "NEUROD                      0\n",
       "mmse_total                  0\n",
       "Depression                  0\n",
       "cdr_sob                    61\n",
       "LHVL                        0\n",
       "LHVR                        0\n",
       "LHV                         0\n",
       "VASCULAR                    0\n",
       "dx_change                   0\n",
       "dtype: int64"
      ]
     },
     "execution_count": 253,
     "metadata": {},
     "output_type": "execute_result"
    }
   ],
   "source": [
    "df_continuous_dx_change.isnull().sum()"
   ]
  },
  {
   "cell_type": "code",
   "execution_count": 256,
   "metadata": {},
   "outputs": [],
   "source": [
    "df_continuous_dx_change = df_continuous_dx_change.dropna(axis=0, subset=['cdr_sob'], inplace=False)\n",
    "df_categorical_dx_change = df_categorical_dx_change.dropna(axis=0, subset=['cdr_sob'], inplace=False)"
   ]
  },
  {
   "cell_type": "code",
   "execution_count": 257,
   "metadata": {},
   "outputs": [
    {
     "data": {
      "text/plain": [
       "Unnamed: 0                 0\n",
       "sex                        0\n",
       "age_years                  0\n",
       "years_education            0\n",
       "APOE4                      0\n",
       "family_dementia_history    0\n",
       "AMYL                       0\n",
       "TAUO                       0\n",
       "NEUROD                     0\n",
       "mmse_total                 0\n",
       "Depression                 0\n",
       "cdr_sob                    0\n",
       "LHVL                       0\n",
       "LHVR                       0\n",
       "LHV                        0\n",
       "VASCULAR                   0\n",
       "dx_change                  0\n",
       "dtype: int64"
      ]
     },
     "execution_count": 257,
     "metadata": {},
     "output_type": "execute_result"
    }
   ],
   "source": [
    "df_continuous_dx_change.isnull().sum()"
   ]
  },
  {
   "cell_type": "code",
   "execution_count": 258,
   "metadata": {},
   "outputs": [],
   "source": [
    "# store\n",
    "df_continuous_dx_change.to_csv('clean_tables/before_normalization/df_continuous_dx_change')\n",
    "df_categorical_dx_change.to_csv('clean_tables/before_normalization/df_categorical_dx_change')"
   ]
  }
 ],
 "metadata": {
  "kernelspec": {
   "display_name": "ml_alzheimer",
   "language": "python",
   "name": "python3"
  },
  "language_info": {
   "codemirror_mode": {
    "name": "ipython",
    "version": 3
   },
   "file_extension": ".py",
   "mimetype": "text/x-python",
   "name": "python",
   "nbconvert_exporter": "python",
   "pygments_lexer": "ipython3",
   "version": "3.8.17"
  },
  "orig_nbformat": 4
 },
 "nbformat": 4,
 "nbformat_minor": 2
}
