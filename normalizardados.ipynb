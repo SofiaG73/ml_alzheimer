{
 "cells": [
  {
   "cell_type": "code",
   "execution_count": 43,
   "metadata": {},
   "outputs": [],
   "source": [
    "import pandas as pd\n",
    "import numpy as np\n",
    "import matplotlib.pyplot as plt\n",
    "import seaborn as sns\n",
    "from sklearn.preprocessing import MinMaxScaler, StandardScaler\n",
    "from sklearn.model_selection import train_test_split\n",
    "from sklearn.preprocessing import LabelEncoder\n",
    "from sklearn.neural_network import MLPClassifier\n",
    "from sklearn.ensemble import RandomForestClassifier\n",
    "from sklearn.naive_bayes import GaussianNB\n",
    "from sklearn.metrics import accuracy_score, classification_report, confusion_matrix, ConfusionMatrixDisplay"
   ]
  },
  {
   "cell_type": "code",
   "execution_count": 24,
   "metadata": {},
   "outputs": [],
   "source": [
    "data = pd.read_csv('clean_tables/before_normalization/df_continuous_dx')"
   ]
  },
  {
   "cell_type": "code",
   "execution_count": 25,
   "metadata": {},
   "outputs": [
    {
     "data": {
      "text/plain": [
       "Index(['Unnamed: 0.1', 'Unnamed: 0', 'sex', 'age_years', 'years_education',\n",
       "       'APOE4', 'family_dementia_history', 'ptau_result', 'ttau_result',\n",
       "       'abeta42_result', 'mmse_total', 'gds_total', 'cdr_sob', 'LHVL', 'LHVR',\n",
       "       'LWMV', 'DX'],\n",
       "      dtype='object')"
      ]
     },
     "execution_count": 25,
     "metadata": {},
     "output_type": "execute_result"
    }
   ],
   "source": [
    "data.columns"
   ]
  },
  {
   "cell_type": "code",
   "execution_count": 26,
   "metadata": {},
   "outputs": [],
   "source": [
    "# Encode categorical variables\n",
    "label_encoder = LabelEncoder()\n",
    "data['sex'] = label_encoder.fit_transform(data['sex'])\n",
    "data['APOE4'] = label_encoder.fit_transform(data['APOE4'])\n",
    "data['family_dementia_history'] = label_encoder.fit_transform(data['family_dementia_history'])\n",
    "data['DX'] = label_encoder.fit_transform(data['DX'])"
   ]
  },
  {
   "cell_type": "code",
   "execution_count": 27,
   "metadata": {},
   "outputs": [],
   "source": [
    "# minmax normalization\n",
    "scaler = StandardScaler()\n",
    "data[['age_years', 'years_education', 'APOE4', 'ptau_result', 'ttau_result', 'abeta42_result', 'mmse_total', 'gds_total', 'cdr_sob', 'LHVL', 'LHVR']] = scaler.fit_transform(data[['age_years', 'years_education', 'APOE4', 'ptau_result', 'ttau_result', 'abeta42_result', 'mmse_total', 'gds_total', 'cdr_sob', 'LHVL', 'LHVR']])"
   ]
  },
  {
   "cell_type": "code",
   "execution_count": 29,
   "metadata": {},
   "outputs": [
    {
     "data": {
      "text/html": [
       "<div>\n",
       "<style scoped>\n",
       "    .dataframe tbody tr th:only-of-type {\n",
       "        vertical-align: middle;\n",
       "    }\n",
       "\n",
       "    .dataframe tbody tr th {\n",
       "        vertical-align: top;\n",
       "    }\n",
       "\n",
       "    .dataframe thead th {\n",
       "        text-align: right;\n",
       "    }\n",
       "</style>\n",
       "<table border=\"1\" class=\"dataframe\">\n",
       "  <thead>\n",
       "    <tr style=\"text-align: right;\">\n",
       "      <th></th>\n",
       "      <th>Unnamed: 0.1</th>\n",
       "      <th>Unnamed: 0</th>\n",
       "      <th>sex</th>\n",
       "      <th>age_years</th>\n",
       "      <th>years_education</th>\n",
       "      <th>APOE4</th>\n",
       "      <th>family_dementia_history</th>\n",
       "      <th>ptau_result</th>\n",
       "      <th>ttau_result</th>\n",
       "      <th>abeta42_result</th>\n",
       "      <th>mmse_total</th>\n",
       "      <th>gds_total</th>\n",
       "      <th>cdr_sob</th>\n",
       "      <th>LHVL</th>\n",
       "      <th>LHVR</th>\n",
       "      <th>LWMV</th>\n",
       "      <th>DX</th>\n",
       "    </tr>\n",
       "  </thead>\n",
       "  <tbody>\n",
       "    <tr>\n",
       "      <th>0</th>\n",
       "      <td>0</td>\n",
       "      <td>0</td>\n",
       "      <td>0</td>\n",
       "      <td>-1.562360</td>\n",
       "      <td>-1.277816</td>\n",
       "      <td>-0.910295</td>\n",
       "      <td>1</td>\n",
       "      <td>-0.439296</td>\n",
       "      <td>1.477295</td>\n",
       "      <td>0.576246</td>\n",
       "      <td>0.383019</td>\n",
       "      <td>-2.222585</td>\n",
       "      <td>1.646639</td>\n",
       "      <td>-1.694589</td>\n",
       "      <td>-0.516950</td>\n",
       "      <td>-0.723</td>\n",
       "      <td>0</td>\n",
       "    </tr>\n",
       "    <tr>\n",
       "      <th>1</th>\n",
       "      <td>1</td>\n",
       "      <td>1</td>\n",
       "      <td>1</td>\n",
       "      <td>0.540129</td>\n",
       "      <td>-1.591885</td>\n",
       "      <td>1.661818</td>\n",
       "      <td>1</td>\n",
       "      <td>0.285095</td>\n",
       "      <td>0.234091</td>\n",
       "      <td>1.499567</td>\n",
       "      <td>-0.376715</td>\n",
       "      <td>-0.335247</td>\n",
       "      <td>-0.950692</td>\n",
       "      <td>0.273834</td>\n",
       "      <td>0.015974</td>\n",
       "      <td>0.000</td>\n",
       "      <td>1</td>\n",
       "    </tr>\n",
       "    <tr>\n",
       "      <th>2</th>\n",
       "      <td>2</td>\n",
       "      <td>2</td>\n",
       "      <td>0</td>\n",
       "      <td>-0.721364</td>\n",
       "      <td>-0.335610</td>\n",
       "      <td>-0.910295</td>\n",
       "      <td>1</td>\n",
       "      <td>-0.055149</td>\n",
       "      <td>-0.007643</td>\n",
       "      <td>0.694059</td>\n",
       "      <td>0.003152</td>\n",
       "      <td>0.009734</td>\n",
       "      <td>-0.258070</td>\n",
       "      <td>-0.628317</td>\n",
       "      <td>-0.649693</td>\n",
       "      <td>0.210</td>\n",
       "      <td>0</td>\n",
       "    </tr>\n",
       "    <tr>\n",
       "      <th>3</th>\n",
       "      <td>4</td>\n",
       "      <td>4</td>\n",
       "      <td>1</td>\n",
       "      <td>-1.141862</td>\n",
       "      <td>1.234734</td>\n",
       "      <td>1.661818</td>\n",
       "      <td>1</td>\n",
       "      <td>-1.350274</td>\n",
       "      <td>-0.375999</td>\n",
       "      <td>-0.160766</td>\n",
       "      <td>1.902488</td>\n",
       "      <td>-0.335247</td>\n",
       "      <td>0.607707</td>\n",
       "      <td>-0.897151</td>\n",
       "      <td>-0.144098</td>\n",
       "      <td>-0.827</td>\n",
       "      <td>0</td>\n",
       "    </tr>\n",
       "    <tr>\n",
       "      <th>4</th>\n",
       "      <td>5</td>\n",
       "      <td>5</td>\n",
       "      <td>0</td>\n",
       "      <td>0.876527</td>\n",
       "      <td>1.234734</td>\n",
       "      <td>1.661818</td>\n",
       "      <td>1</td>\n",
       "      <td>2.315587</td>\n",
       "      <td>0.326181</td>\n",
       "      <td>0.483092</td>\n",
       "      <td>0.762887</td>\n",
       "      <td>0.797156</td>\n",
       "      <td>-1.123848</td>\n",
       "      <td>-0.007081</td>\n",
       "      <td>-0.671166</td>\n",
       "      <td>0.379</td>\n",
       "      <td>1</td>\n",
       "    </tr>\n",
       "    <tr>\n",
       "      <th>...</th>\n",
       "      <td>...</td>\n",
       "      <td>...</td>\n",
       "      <td>...</td>\n",
       "      <td>...</td>\n",
       "      <td>...</td>\n",
       "      <td>...</td>\n",
       "      <td>...</td>\n",
       "      <td>...</td>\n",
       "      <td>...</td>\n",
       "      <td>...</td>\n",
       "      <td>...</td>\n",
       "      <td>...</td>\n",
       "      <td>...</td>\n",
       "      <td>...</td>\n",
       "      <td>...</td>\n",
       "      <td>...</td>\n",
       "      <td>...</td>\n",
       "    </tr>\n",
       "    <tr>\n",
       "      <th>724</th>\n",
       "      <td>893</td>\n",
       "      <td>893</td>\n",
       "      <td>1</td>\n",
       "      <td>1.128826</td>\n",
       "      <td>-1.277816</td>\n",
       "      <td>-0.910295</td>\n",
       "      <td>1</td>\n",
       "      <td>-0.538077</td>\n",
       "      <td>-1.412002</td>\n",
       "      <td>1.222845</td>\n",
       "      <td>-0.756582</td>\n",
       "      <td>0.009734</td>\n",
       "      <td>0.954018</td>\n",
       "      <td>-0.436006</td>\n",
       "      <td>-0.140194</td>\n",
       "      <td>1.246</td>\n",
       "      <td>0</td>\n",
       "    </tr>\n",
       "    <tr>\n",
       "      <th>725</th>\n",
       "      <td>894</td>\n",
       "      <td>894</td>\n",
       "      <td>0</td>\n",
       "      <td>0.287830</td>\n",
       "      <td>0.920665</td>\n",
       "      <td>-0.910295</td>\n",
       "      <td>1</td>\n",
       "      <td>0.361925</td>\n",
       "      <td>1.051383</td>\n",
       "      <td>0.195411</td>\n",
       "      <td>-1.516317</td>\n",
       "      <td>0.419689</td>\n",
       "      <td>0.261396</td>\n",
       "      <td>1.352188</td>\n",
       "      <td>0.657240</td>\n",
       "      <td>0.554</td>\n",
       "      <td>0</td>\n",
       "    </tr>\n",
       "    <tr>\n",
       "      <th>726</th>\n",
       "      <td>897</td>\n",
       "      <td>897</td>\n",
       "      <td>1</td>\n",
       "      <td>0.960627</td>\n",
       "      <td>-0.649679</td>\n",
       "      <td>0.375761</td>\n",
       "      <td>1</td>\n",
       "      <td>0.153388</td>\n",
       "      <td>2.064363</td>\n",
       "      <td>1.499567</td>\n",
       "      <td>0.003152</td>\n",
       "      <td>2.684494</td>\n",
       "      <td>0.780862</td>\n",
       "      <td>0.358411</td>\n",
       "      <td>1.271177</td>\n",
       "      <td>-1.433</td>\n",
       "      <td>0</td>\n",
       "    </tr>\n",
       "    <tr>\n",
       "      <th>727</th>\n",
       "      <td>898</td>\n",
       "      <td>898</td>\n",
       "      <td>1</td>\n",
       "      <td>0.035532</td>\n",
       "      <td>0.292528</td>\n",
       "      <td>0.375761</td>\n",
       "      <td>1</td>\n",
       "      <td>0.658267</td>\n",
       "      <td>1.131961</td>\n",
       "      <td>-1.089567</td>\n",
       "      <td>-0.756582</td>\n",
       "      <td>1.929559</td>\n",
       "      <td>1.646639</td>\n",
       "      <td>0.485276</td>\n",
       "      <td>-0.100176</td>\n",
       "      <td>1.524</td>\n",
       "      <td>0</td>\n",
       "    </tr>\n",
       "    <tr>\n",
       "      <th>728</th>\n",
       "      <td>899</td>\n",
       "      <td>899</td>\n",
       "      <td>3</td>\n",
       "      <td>-1.057762</td>\n",
       "      <td>-0.335610</td>\n",
       "      <td>1.661818</td>\n",
       "      <td>0</td>\n",
       "      <td>-0.197832</td>\n",
       "      <td>0.360714</td>\n",
       "      <td>-0.434749</td>\n",
       "      <td>-1.136450</td>\n",
       "      <td>-1.090182</td>\n",
       "      <td>-0.777537</td>\n",
       "      <td>0.784315</td>\n",
       "      <td>-2.631078</td>\n",
       "      <td>1.280</td>\n",
       "      <td>1</td>\n",
       "    </tr>\n",
       "  </tbody>\n",
       "</table>\n",
       "<p>729 rows × 17 columns</p>\n",
       "</div>"
      ],
      "text/plain": [
       "     Unnamed: 0.1  Unnamed: 0  sex  age_years  years_education     APOE4  \\\n",
       "0               0           0    0  -1.562360        -1.277816 -0.910295   \n",
       "1               1           1    1   0.540129        -1.591885  1.661818   \n",
       "2               2           2    0  -0.721364        -0.335610 -0.910295   \n",
       "3               4           4    1  -1.141862         1.234734  1.661818   \n",
       "4               5           5    0   0.876527         1.234734  1.661818   \n",
       "..            ...         ...  ...        ...              ...       ...   \n",
       "724           893         893    1   1.128826        -1.277816 -0.910295   \n",
       "725           894         894    0   0.287830         0.920665 -0.910295   \n",
       "726           897         897    1   0.960627        -0.649679  0.375761   \n",
       "727           898         898    1   0.035532         0.292528  0.375761   \n",
       "728           899         899    3  -1.057762        -0.335610  1.661818   \n",
       "\n",
       "     family_dementia_history  ptau_result  ttau_result  abeta42_result  \\\n",
       "0                          1    -0.439296     1.477295        0.576246   \n",
       "1                          1     0.285095     0.234091        1.499567   \n",
       "2                          1    -0.055149    -0.007643        0.694059   \n",
       "3                          1    -1.350274    -0.375999       -0.160766   \n",
       "4                          1     2.315587     0.326181        0.483092   \n",
       "..                       ...          ...          ...             ...   \n",
       "724                        1    -0.538077    -1.412002        1.222845   \n",
       "725                        1     0.361925     1.051383        0.195411   \n",
       "726                        1     0.153388     2.064363        1.499567   \n",
       "727                        1     0.658267     1.131961       -1.089567   \n",
       "728                        0    -0.197832     0.360714       -0.434749   \n",
       "\n",
       "     mmse_total  gds_total   cdr_sob      LHVL      LHVR   LWMV  DX  \n",
       "0      0.383019  -2.222585  1.646639 -1.694589 -0.516950 -0.723   0  \n",
       "1     -0.376715  -0.335247 -0.950692  0.273834  0.015974  0.000   1  \n",
       "2      0.003152   0.009734 -0.258070 -0.628317 -0.649693  0.210   0  \n",
       "3      1.902488  -0.335247  0.607707 -0.897151 -0.144098 -0.827   0  \n",
       "4      0.762887   0.797156 -1.123848 -0.007081 -0.671166  0.379   1  \n",
       "..          ...        ...       ...       ...       ...    ...  ..  \n",
       "724   -0.756582   0.009734  0.954018 -0.436006 -0.140194  1.246   0  \n",
       "725   -1.516317   0.419689  0.261396  1.352188  0.657240  0.554   0  \n",
       "726    0.003152   2.684494  0.780862  0.358411  1.271177 -1.433   0  \n",
       "727   -0.756582   1.929559  1.646639  0.485276 -0.100176  1.524   0  \n",
       "728   -1.136450  -1.090182 -0.777537  0.784315 -2.631078  1.280   1  \n",
       "\n",
       "[729 rows x 17 columns]"
      ]
     },
     "execution_count": 29,
     "metadata": {},
     "output_type": "execute_result"
    }
   ],
   "source": [
    "data"
   ]
  },
  {
   "cell_type": "code",
   "execution_count": 51,
   "metadata": {},
   "outputs": [],
   "source": [
    "# Select features and target variable\n",
    "X = data[['sex', 'age_years', 'years_education',\n",
    "       'APOE4', 'family_dementia_history', 'ptau_result', 'ttau_result',\n",
    "       'abeta42_result', 'mmse_total', 'gds_total', 'cdr_sob', 'LHVL', 'LHVR',\n",
    "       'LWMV']]\n",
    "y = data['DX']\n",
    "\n",
    "# Split data into training and testing sets\n",
    "X_train, X_test, y_train, y_test = train_test_split(X, y, test_size=0.2, random_state=73)"
   ]
  },
  {
   "cell_type": "code",
   "execution_count": 46,
   "metadata": {},
   "outputs": [
    {
     "data": {
      "text/plain": [
       "(583, 14)"
      ]
     },
     "execution_count": 46,
     "metadata": {},
     "output_type": "execute_result"
    }
   ],
   "source": [
    "X_train.shape"
   ]
  },
  {
   "cell_type": "code",
   "execution_count": 47,
   "metadata": {},
   "outputs": [
    {
     "data": {
      "text/plain": [
       "(146, 14)"
      ]
     },
     "execution_count": 47,
     "metadata": {},
     "output_type": "execute_result"
    }
   ],
   "source": [
    "X_test.shape"
   ]
  },
  {
   "cell_type": "code",
   "execution_count": 48,
   "metadata": {},
   "outputs": [
    {
     "data": {
      "text/plain": [
       "(583,)"
      ]
     },
     "execution_count": 48,
     "metadata": {},
     "output_type": "execute_result"
    }
   ],
   "source": [
    "y_train.shape"
   ]
  },
  {
   "cell_type": "code",
   "execution_count": 50,
   "metadata": {},
   "outputs": [
    {
     "data": {
      "text/plain": [
       "(146,)"
      ]
     },
     "execution_count": 50,
     "metadata": {},
     "output_type": "execute_result"
    }
   ],
   "source": [
    "y_test.shape"
   ]
  },
  {
   "cell_type": "code",
   "execution_count": 52,
   "metadata": {},
   "outputs": [
    {
     "name": "stdout",
     "output_type": "stream",
     "text": [
      "Accuracy: 1.0\n",
      "Confusion Matrix:\n",
      " [[88  0  0]\n",
      " [ 0 36  0]\n",
      " [ 0  0 22]]\n",
      "Classification Report:\n",
      "               precision    recall  f1-score   support\n",
      "\n",
      "           0       1.00      1.00      1.00        88\n",
      "           1       1.00      1.00      1.00        36\n",
      "           2       1.00      1.00      1.00        22\n",
      "\n",
      "    accuracy                           1.00       146\n",
      "   macro avg       1.00      1.00      1.00       146\n",
      "weighted avg       1.00      1.00      1.00       146\n",
      "\n"
     ]
    },
    {
     "data": {
      "image/png": "[encoded data removed]",
      "text/plain": [
       "<Figure size 640x480 with 2 Axes>"
      ]
     },
     "metadata": {},
     "output_type": "display_data"
    }
   ],
   "source": [
    "# Random Forest as an example\n",
    "model = RandomForestClassifier(n_estimators=100, random_state=42, max_depth=6)\n",
    "\n",
    "# Train the model\n",
    "model.fit(X_train, y_train)\n",
    "\n",
    "# Predict the target variable on the test set\n",
    "y_pred = model.predict(X_test)\n",
    "\n",
    "# Model Evaluation\n",
    "accuracy = accuracy_score(y_test, y_pred)\n",
    "confusion = confusion_matrix(y_test, y_pred)\n",
    "classification_rep = classification_report(y_test, y_pred)\n",
    "\n",
    "cm_display =ConfusionMatrixDisplay(confusion_matrix=confusion, display_labels=model.classes_)\n",
    "cm_display.plot(values_format='d')\n",
    "print(f'Accuracy: {accuracy}')\n",
    "print('Confusion Matrix:\\n', confusion)\n",
    "print('Classification Report:\\n', classification_rep)"
   ]
  },
  {
   "cell_type": "code",
   "execution_count": 53,
   "metadata": {},
   "outputs": [
    {
     "name": "stdout",
     "output_type": "stream",
     "text": [
      "Accuracy: 1.0\n",
      "Confusion Matrix:\n",
      " [[88  0  0]\n",
      " [ 0 36  0]\n",
      " [ 0  0 22]]\n",
      "Classification Report:\n",
      "               precision    recall  f1-score   support\n",
      "\n",
      "           0       1.00      1.00      1.00        88\n",
      "           1       1.00      1.00      1.00        36\n",
      "           2       1.00      1.00      1.00        22\n",
      "\n",
      "    accuracy                           1.00       146\n",
      "   macro avg       1.00      1.00      1.00       146\n",
      "weighted avg       1.00      1.00      1.00       146\n",
      "\n"
     ]
    },
    {
     "data": {
      "image/png": "[encoded data removed]",
      "text/plain": [
       "<Figure size 640x480 with 2 Axes>"
      ]
     },
     "metadata": {},
     "output_type": "display_data"
    }
   ],
   "source": [
    "# Naive_bayes as an example\n",
    "model_nb = GaussianNB()\n",
    "\n",
    "# Train the model\n",
    "model_nb.fit(X_train, y_train)\n",
    "\n",
    "# Predict the target variable on the test set\n",
    "y_pred = model.predict(X_test)\n",
    "\n",
    "# Model Evaluation\n",
    "accuracy = accuracy_score(y_test, y_pred)\n",
    "confusion = confusion_matrix(y_test, y_pred)\n",
    "classification_rep = classification_report(y_test, y_pred)\n",
    "\n",
    "cm_display =ConfusionMatrixDisplay(confusion_matrix=confusion, display_labels=model.classes_)\n",
    "cm_display.plot(values_format='d')\n",
    "print(f'Accuracy: {accuracy}')\n",
    "print('Confusion Matrix:\\n', confusion)\n",
    "print('Classification Report:\\n', classification_rep)"
   ]
  },
  {
   "cell_type": "code",
   "execution_count": 54,
   "metadata": {},
   "outputs": [
    {
     "name": "stdout",
     "output_type": "stream",
     "text": [
      "Accuracy: 1.0\n",
      "Confusion Matrix:\n",
      " [[88  0  0]\n",
      " [ 0 36  0]\n",
      " [ 0  0 22]]\n",
      "Classification Report:\n",
      "               precision    recall  f1-score   support\n",
      "\n",
      "           0       1.00      1.00      1.00        88\n",
      "           1       1.00      1.00      1.00        36\n",
      "           2       1.00      1.00      1.00        22\n",
      "\n",
      "    accuracy                           1.00       146\n",
      "   macro avg       1.00      1.00      1.00       146\n",
      "weighted avg       1.00      1.00      1.00       146\n",
      "\n"
     ]
    },
    {
     "data": {
      "image/png": "[encoded data removed]",
      "text/plain": [
       "<Figure size 640x480 with 2 Axes>"
      ]
     },
     "metadata": {},
     "output_type": "display_data"
    }
   ],
   "source": [
    "# MLP\n",
    "model_mlp = MLPClassifier(hidden_layer_sizes=(100, 100, 100), max_iter=1000)\n",
    "\n",
    "# Train the model\n",
    "model_mlp.fit(X_train, y_train)\n",
    "\n",
    "# Predict the target variable on the test set\n",
    "y_pred = model.predict(X_test)\n",
    "\n",
    "# Model Evaluation\n",
    "accuracy = accuracy_score(y_test, y_pred)\n",
    "confusion = confusion_matrix(y_test, y_pred)\n",
    "classification_rep = classification_report(y_test, y_pred)\n",
    "\n",
    "cm_display =ConfusionMatrixDisplay(confusion_matrix=confusion, display_labels=model.classes_)\n",
    "cm_display.plot(values_format='d')\n",
    "print(f'Accuracy: {accuracy}')\n",
    "print('Confusion Matrix:\\n', confusion)\n",
    "print('Classification Report:\\n', classification_rep)"
   ]
  },
  {
   "cell_type": "code",
   "execution_count": null,
   "metadata": {},
   "outputs": [],
   "source": []
  }
 ],
 "metadata": {
  "kernelspec": {
   "display_name": "ml_alzheimer",
   "language": "python",
   "name": "python3"
  },
  "language_info": {
   "codemirror_mode": {
    "name": "ipython",
    "version": 3
   },
   "file_extension": ".py",
   "mimetype": "text/x-python",
   "name": "python",
   "nbconvert_exporter": "python",
   "pygments_lexer": "ipython3",
   "version": "3.8.17"
  },
  "orig_nbformat": 4
 },
 "nbformat": 4,
 "nbformat_minor": 2
}
