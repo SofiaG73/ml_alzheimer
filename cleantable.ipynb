{
 "cells": [
  {
   "cell_type": "code",
   "execution_count": 46,
   "metadata": {},
   "outputs": [],
   "source": [
    "import pandas as pd\n",
    "import numpy as np\n",
    "import matplotlib.pyplot as plt\n",
    "import seaborn as sns"
   ]
  },
  {
   "cell_type": "code",
   "execution_count": 47,
   "metadata": {},
   "outputs": [],
   "source": [
    "df = pd.read_csv(\"ml_alzheimer/dataset_CB23.csv\")"
   ]
  },
  {
   "cell_type": "code",
   "execution_count": 48,
   "metadata": {},
   "outputs": [
    {
     "data": {
      "text/html": [
       "<div>\n",
       "<style scoped>\n",
       "    .dataframe tbody tr th:only-of-type {\n",
       "        vertical-align: middle;\n",
       "    }\n",
       "\n",
       "    .dataframe tbody tr th {\n",
       "        vertical-align: top;\n",
       "    }\n",
       "\n",
       "    .dataframe thead th {\n",
       "        text-align: right;\n",
       "    }\n",
       "</style>\n",
       "<table border=\"1\" class=\"dataframe\">\n",
       "  <thead>\n",
       "    <tr style=\"text-align: right;\">\n",
       "      <th></th>\n",
       "      <th>sex</th>\n",
       "      <th>visit</th>\n",
       "      <th>apoe_result</th>\n",
       "      <th>family_dementia_history</th>\n",
       "      <th>ATN</th>\n",
       "      <th>np_date</th>\n",
       "      <th>DX</th>\n",
       "      <th>DXCHANGE</th>\n",
       "    </tr>\n",
       "  </thead>\n",
       "  <tbody>\n",
       "    <tr>\n",
       "      <th>0</th>\n",
       "      <td>f</td>\n",
       "      <td>V1</td>\n",
       "      <td>e3/e3</td>\n",
       "      <td>Yes</td>\n",
       "      <td>A-T-N+</td>\n",
       "      <td>06/02/2017</td>\n",
       "      <td>Dem</td>\n",
       "      <td>Stable: Dementia</td>\n",
       "    </tr>\n",
       "    <tr>\n",
       "      <th>1</th>\n",
       "      <td>m</td>\n",
       "      <td>V1</td>\n",
       "      <td>e4/e4</td>\n",
       "      <td>Yes</td>\n",
       "      <td>A-T-N-</td>\n",
       "      <td>09/02/2017</td>\n",
       "      <td>MCI</td>\n",
       "      <td>Reversion: MCI to NC</td>\n",
       "    </tr>\n",
       "    <tr>\n",
       "      <th>2</th>\n",
       "      <td>f</td>\n",
       "      <td>V1</td>\n",
       "      <td>e3/e3</td>\n",
       "      <td>Yes</td>\n",
       "      <td>A-T-N-</td>\n",
       "      <td>08/15/2017</td>\n",
       "      <td>Dem</td>\n",
       "      <td>Stable: Dementia</td>\n",
       "    </tr>\n",
       "    <tr>\n",
       "      <th>3</th>\n",
       "      <td>f</td>\n",
       "      <td>V1</td>\n",
       "      <td>e2/e4</td>\n",
       "      <td>Yes</td>\n",
       "      <td>A-T-N-</td>\n",
       "      <td>08/08/2017</td>\n",
       "      <td>NaN</td>\n",
       "      <td>NaN</td>\n",
       "    </tr>\n",
       "    <tr>\n",
       "      <th>4</th>\n",
       "      <td>f</td>\n",
       "      <td>V1</td>\n",
       "      <td>e3/e4</td>\n",
       "      <td>Yes</td>\n",
       "      <td>NaN</td>\n",
       "      <td>06/19/2017</td>\n",
       "      <td>Dem</td>\n",
       "      <td>Stable: Dementia</td>\n",
       "    </tr>\n",
       "    <tr>\n",
       "      <th>...</th>\n",
       "      <td>...</td>\n",
       "      <td>...</td>\n",
       "      <td>...</td>\n",
       "      <td>...</td>\n",
       "      <td>...</td>\n",
       "      <td>...</td>\n",
       "      <td>...</td>\n",
       "      <td>...</td>\n",
       "    </tr>\n",
       "    <tr>\n",
       "      <th>2995</th>\n",
       "      <td>m</td>\n",
       "      <td>V3</td>\n",
       "      <td>NaN</td>\n",
       "      <td>Yes</td>\n",
       "      <td>NaN</td>\n",
       "      <td>01/22/2021</td>\n",
       "      <td>NaN</td>\n",
       "      <td>NaN</td>\n",
       "    </tr>\n",
       "    <tr>\n",
       "      <th>2996</th>\n",
       "      <td>m</td>\n",
       "      <td>V3</td>\n",
       "      <td>e3/e4</td>\n",
       "      <td>Yes</td>\n",
       "      <td>NaN</td>\n",
       "      <td>12/23/2022</td>\n",
       "      <td>MCI</td>\n",
       "      <td>NaN</td>\n",
       "    </tr>\n",
       "    <tr>\n",
       "      <th>2997</th>\n",
       "      <td>m</td>\n",
       "      <td>V3</td>\n",
       "      <td>e3/e4</td>\n",
       "      <td>Yes</td>\n",
       "      <td>NaN</td>\n",
       "      <td>NaN</td>\n",
       "      <td>Dem</td>\n",
       "      <td>NaN</td>\n",
       "    </tr>\n",
       "    <tr>\n",
       "      <th>2998</th>\n",
       "      <td>m</td>\n",
       "      <td>V3</td>\n",
       "      <td>e3/e4</td>\n",
       "      <td>Yes</td>\n",
       "      <td>NaN</td>\n",
       "      <td>06/23/2023</td>\n",
       "      <td>NC</td>\n",
       "      <td>NaN</td>\n",
       "    </tr>\n",
       "    <tr>\n",
       "      <th>2999</th>\n",
       "      <td>un</td>\n",
       "      <td>V3</td>\n",
       "      <td>e4/e4</td>\n",
       "      <td>No</td>\n",
       "      <td>NaN</td>\n",
       "      <td>06/14/2023</td>\n",
       "      <td>NC</td>\n",
       "      <td>NaN</td>\n",
       "    </tr>\n",
       "  </tbody>\n",
       "</table>\n",
       "<p>3000 rows × 8 columns</p>\n",
       "</div>"
      ],
      "text/plain": [
       "     sex visit apoe_result family_dementia_history     ATN     np_date   DX  \\\n",
       "0      f    V1       e3/e3                     Yes  A-T-N+  06/02/2017  Dem   \n",
       "1      m    V1       e4/e4                     Yes  A-T-N-  09/02/2017  MCI   \n",
       "2      f    V1       e3/e3                     Yes  A-T-N-  08/15/2017  Dem   \n",
       "3      f    V1       e2/e4                     Yes  A-T-N-  08/08/2017  NaN   \n",
       "4      f    V1       e3/e4                     Yes     NaN  06/19/2017  Dem   \n",
       "...   ..   ...         ...                     ...     ...         ...  ...   \n",
       "2995   m    V3         NaN                     Yes     NaN  01/22/2021  NaN   \n",
       "2996   m    V3       e3/e4                     Yes     NaN  12/23/2022  MCI   \n",
       "2997   m    V3       e3/e4                     Yes     NaN         NaN  Dem   \n",
       "2998   m    V3       e3/e4                     Yes     NaN  06/23/2023   NC   \n",
       "2999  un    V3       e4/e4                      No     NaN  06/14/2023   NC   \n",
       "\n",
       "                  DXCHANGE  \n",
       "0         Stable: Dementia  \n",
       "1     Reversion: MCI to NC  \n",
       "2         Stable: Dementia  \n",
       "3                      NaN  \n",
       "4         Stable: Dementia  \n",
       "...                    ...  \n",
       "2995                   NaN  \n",
       "2996                   NaN  \n",
       "2997                   NaN  \n",
       "2998                   NaN  \n",
       "2999                   NaN  \n",
       "\n",
       "[3000 rows x 8 columns]"
      ]
     },
     "execution_count": 48,
     "metadata": {},
     "output_type": "execute_result"
    }
   ],
   "source": [
    "df.select_dtypes(include=['object'])"
   ]
  },
  {
   "cell_type": "code",
   "execution_count": 49,
   "metadata": {},
   "outputs": [],
   "source": [
    "df[\"sex\"] = df[\"sex\"].astype('category')\n",
    "df[\"visit\"] = df[\"visit\"].astype('category')\n",
    "df[\"apoe_result\"] = df[\"apoe_result\"].astype('category')\n",
    "df[\"family_dementia_history\"] = df[\"family_dementia_history\"].astype(\"category\")\n",
    "df[\"ATN\"] = df[\"ATN\"].astype(\"category\")\n",
    "df[\"np_date\"] = pd.to_datetime(df[\"np_date\"])\n",
    "df[\"DX\"] = df[\"DX\"].astype('category')\n",
    "df[\"DXCHANGE\"] = df[\"DXCHANGE\"].astype('category')\n"
   ]
  },
  {
   "cell_type": "code",
   "execution_count": 50,
   "metadata": {},
   "outputs": [],
   "source": [
    "df[\"Depression\"] = df[\"Depression\"].astype('bool')\n",
    "df[\"APOE4\"] = df[\"APOE4\"].astype('category')"
   ]
  },
  {
   "cell_type": "code",
   "execution_count": 51,
   "metadata": {},
   "outputs": [
    {
     "name": "stderr",
     "output_type": "stream",
     "text": [
      "C:\\Users\\anaso\\AppData\\Local\\Temp\\ipykernel_14496\\2291764590.py:3: SettingWithCopyWarning: \n",
      "A value is trying to be set on a copy of a slice from a DataFrame\n",
      "\n",
      "See the caveats in the documentation: https://pandas.pydata.org/pandas-docs/stable/user_guide/indexing.html#returning-a-view-versus-a-copy\n",
      "  df_v1.drop(columns=[\"visit\"], inplace=True)\n",
      "C:\\Users\\anaso\\AppData\\Local\\Temp\\ipykernel_14496\\2291764590.py:8: SettingWithCopyWarning: \n",
      "A value is trying to be set on a copy of a slice from a DataFrame\n",
      "\n",
      "See the caveats in the documentation: https://pandas.pydata.org/pandas-docs/stable/user_guide/indexing.html#returning-a-view-versus-a-copy\n",
      "  df_v2.drop(columns=[\"visit\"], inplace=True)\n",
      "C:\\Users\\anaso\\AppData\\Local\\Temp\\ipykernel_14496\\2291764590.py:14: SettingWithCopyWarning: \n",
      "A value is trying to be set on a copy of a slice from a DataFrame\n",
      "\n",
      "See the caveats in the documentation: https://pandas.pydata.org/pandas-docs/stable/user_guide/indexing.html#returning-a-view-versus-a-copy\n",
      "  df_v3.drop(columns=[\"visit\"], inplace=True)\n"
     ]
    }
   ],
   "source": [
    "df_v1 = df[df[\"visit\"]==\"V1\"]\n",
    "df_v1.set_index('patient_id', inplace=True)\n",
    "df_v1.drop(columns=[\"visit\"], inplace=True)\n",
    "\n",
    "# v2\n",
    "df_v2 = df[df[\"visit\"]==\"V2\"]\n",
    "df_v2.set_index('patient_id', inplace=True)\n",
    "df_v2.drop(columns=[\"visit\"], inplace=True)\n",
    "df_v2 = df_v2.dropna(axis=1, how='all')\n",
    "\n",
    "# v3\n",
    "df_v3 = df[df[\"visit\"]==\"V3\"]\n",
    "df_v3.set_index('patient_id', inplace=True)\n",
    "df_v3.drop(columns=[\"visit\"], inplace=True)\n",
    "df_v3 = df_v3.dropna(axis=1, how='all')"
   ]
  },
  {
   "cell_type": "code",
   "execution_count": 52,
   "metadata": {},
   "outputs": [],
   "source": [
    "df_v1.to_csv(\"ml_alzheimer/clean_tables/df_v1\", index = False)\n",
    "df_v2.to_csv(\"ml_alzheimer/clean_tables/df_v2\", index = False)\n",
    "df_v3.to_csv(\"ml_alzheimer/clean_tables/df_v3\", index = False)"
   ]
  },
  {
   "attachments": {},
   "cell_type": "markdown",
   "metadata": {},
   "source": [
    "## new tables"
   ]
  },
  {
   "cell_type": "code",
   "execution_count": 59,
   "metadata": {},
   "outputs": [],
   "source": [
    "visit2 = pd.read_csv(\"ml_alzheimer/clean_tables/df_v2\")"
   ]
  },
  {
   "cell_type": "code",
   "execution_count": 54,
   "metadata": {},
   "outputs": [
    {
     "data": {
      "text/plain": [
       "array([[<Axes: title={'center': 'age_years'}>,\n",
       "        <Axes: title={'center': 'years_education'}>,\n",
       "        <Axes: title={'center': 'APOE4'}>],\n",
       "       [<Axes: title={'center': 'MONTHS'}>,\n",
       "        <Axes: title={'center': 'mmse_total'}>,\n",
       "        <Axes: title={'center': 'gds_total'}>],\n",
       "       [<Axes: title={'center': 'cdr_global'}>,\n",
       "        <Axes: title={'center': 'cdr_sob'}>, <Axes: >]], dtype=object)"
      ]
     },
     "execution_count": 54,
     "metadata": {},
     "output_type": "execute_result"
    },
    {
     "data": {
      "image/png": "[encoded data removed]",
      "text/plain": [
       "<Figure size 2000x2000 with 9 Axes>"
      ]
     },
     "metadata": {},
     "output_type": "display_data"
    }
   ],
   "source": [
    "visit2.hist(bins=20, figsize=(20,20), color='b')"
   ]
  },
  {
   "cell_type": "code",
   "execution_count": 60,
   "metadata": {},
   "outputs": [
    {
     "data": {
      "text/html": [
       "<div>\n",
       "<style scoped>\n",
       "    .dataframe tbody tr th:only-of-type {\n",
       "        vertical-align: middle;\n",
       "    }\n",
       "\n",
       "    .dataframe tbody tr th {\n",
       "        vertical-align: top;\n",
       "    }\n",
       "\n",
       "    .dataframe thead th {\n",
       "        text-align: right;\n",
       "    }\n",
       "</style>\n",
       "<table border=\"1\" class=\"dataframe\">\n",
       "  <thead>\n",
       "    <tr style=\"text-align: right;\">\n",
       "      <th></th>\n",
       "      <th>age_years</th>\n",
       "      <th>years_education</th>\n",
       "      <th>APOE4</th>\n",
       "      <th>MONTHS</th>\n",
       "      <th>mmse_total</th>\n",
       "      <th>gds_total</th>\n",
       "      <th>cdr_global</th>\n",
       "      <th>cdr_sob</th>\n",
       "    </tr>\n",
       "  </thead>\n",
       "  <tbody>\n",
       "    <tr>\n",
       "      <th>count</th>\n",
       "      <td>1000.000000</td>\n",
       "      <td>1000.000000</td>\n",
       "      <td>897.000000</td>\n",
       "      <td>815.000000</td>\n",
       "      <td>904.000000</td>\n",
       "      <td>910.000000</td>\n",
       "      <td>910.000000</td>\n",
       "      <td>910.000000</td>\n",
       "    </tr>\n",
       "    <tr>\n",
       "      <th>mean</th>\n",
       "      <td>70.767000</td>\n",
       "      <td>15.160000</td>\n",
       "      <td>0.701226</td>\n",
       "      <td>17.450307</td>\n",
       "      <td>14.920354</td>\n",
       "      <td>14.964835</td>\n",
       "      <td>1.327473</td>\n",
       "      <td>6.976374</td>\n",
       "    </tr>\n",
       "    <tr>\n",
       "      <th>std</th>\n",
       "      <td>11.829821</td>\n",
       "      <td>3.199474</td>\n",
       "      <td>0.780574</td>\n",
       "      <td>7.513603</td>\n",
       "      <td>2.744624</td>\n",
       "      <td>2.569790</td>\n",
       "      <td>1.095753</td>\n",
       "      <td>5.850798</td>\n",
       "    </tr>\n",
       "    <tr>\n",
       "      <th>min</th>\n",
       "      <td>50.000000</td>\n",
       "      <td>10.000000</td>\n",
       "      <td>0.000000</td>\n",
       "      <td>0.000000</td>\n",
       "      <td>5.000000</td>\n",
       "      <td>6.000000</td>\n",
       "      <td>0.000000</td>\n",
       "      <td>0.000000</td>\n",
       "    </tr>\n",
       "    <tr>\n",
       "      <th>25%</th>\n",
       "      <td>61.000000</td>\n",
       "      <td>12.000000</td>\n",
       "      <td>0.000000</td>\n",
       "      <td>12.000000</td>\n",
       "      <td>13.000000</td>\n",
       "      <td>13.000000</td>\n",
       "      <td>0.500000</td>\n",
       "      <td>0.500000</td>\n",
       "    </tr>\n",
       "    <tr>\n",
       "      <th>50%</th>\n",
       "      <td>71.000000</td>\n",
       "      <td>15.000000</td>\n",
       "      <td>1.000000</td>\n",
       "      <td>17.000000</td>\n",
       "      <td>15.000000</td>\n",
       "      <td>15.000000</td>\n",
       "      <td>1.000000</td>\n",
       "      <td>6.500000</td>\n",
       "    </tr>\n",
       "    <tr>\n",
       "      <th>75%</th>\n",
       "      <td>81.000000</td>\n",
       "      <td>18.000000</td>\n",
       "      <td>1.000000</td>\n",
       "      <td>24.000000</td>\n",
       "      <td>17.000000</td>\n",
       "      <td>17.000000</td>\n",
       "      <td>2.000000</td>\n",
       "      <td>12.500000</td>\n",
       "    </tr>\n",
       "    <tr>\n",
       "      <th>max</th>\n",
       "      <td>92.000000</td>\n",
       "      <td>20.000000</td>\n",
       "      <td>2.000000</td>\n",
       "      <td>35.000000</td>\n",
       "      <td>23.000000</td>\n",
       "      <td>24.000000</td>\n",
       "      <td>3.000000</td>\n",
       "      <td>17.500000</td>\n",
       "    </tr>\n",
       "  </tbody>\n",
       "</table>\n",
       "</div>"
      ],
      "text/plain": [
       "         age_years  years_education       APOE4      MONTHS  mmse_total  \\\n",
       "count  1000.000000      1000.000000  897.000000  815.000000  904.000000   \n",
       "mean     70.767000        15.160000    0.701226   17.450307   14.920354   \n",
       "std      11.829821         3.199474    0.780574    7.513603    2.744624   \n",
       "min      50.000000        10.000000    0.000000    0.000000    5.000000   \n",
       "25%      61.000000        12.000000    0.000000   12.000000   13.000000   \n",
       "50%      71.000000        15.000000    1.000000   17.000000   15.000000   \n",
       "75%      81.000000        18.000000    1.000000   24.000000   17.000000   \n",
       "max      92.000000        20.000000    2.000000   35.000000   23.000000   \n",
       "\n",
       "        gds_total  cdr_global     cdr_sob  \n",
       "count  910.000000  910.000000  910.000000  \n",
       "mean    14.964835    1.327473    6.976374  \n",
       "std      2.569790    1.095753    5.850798  \n",
       "min      6.000000    0.000000    0.000000  \n",
       "25%     13.000000    0.500000    0.500000  \n",
       "50%     15.000000    1.000000    6.500000  \n",
       "75%     17.000000    2.000000   12.500000  \n",
       "max     24.000000    3.000000   17.500000  "
      ]
     },
     "execution_count": 60,
     "metadata": {},
     "output_type": "execute_result"
    }
   ],
   "source": [
    "visit2.describe()"
   ]
  },
  {
   "cell_type": "code",
   "execution_count": 61,
   "metadata": {},
   "outputs": [
    {
     "data": {
      "text/plain": [
       "ATN\n",
       "A-T-N-    562\n",
       "A-T-N+    240\n",
       "A+T-N-     61\n",
       "A-T+N-     25\n",
       "A-T+N+     10\n",
       "A+T+N+      1\n",
       "A+T+N-      1\n",
       "Name: count, dtype: int64"
      ]
     },
     "execution_count": 61,
     "metadata": {},
     "output_type": "execute_result"
    }
   ],
   "source": [
    "df_v1[\"ATN\"].value_counts()"
   ]
  },
  {
   "attachments": {},
   "cell_type": "markdown",
   "metadata": {},
   "source": [
    "TO DO \n",
    "- separar o marcador ATN em 3 colunas onde por bools.\n",
    "- A stands for abeta42\n",
    "- T stands for ptau result\n",
    "- N Ttau result"
   ]
  },
  {
   "cell_type": "code",
   "execution_count": 65,
   "metadata": {},
   "outputs": [
    {
     "data": {
      "text/plain": [
       "Index(['sex', 'age_years', 'years_education', 'APOE4', 'apoe_result',\n",
       "       'family_dementia_history', 'ptau_result', 'ttau_result',\n",
       "       'abeta42_result', 'AMYL', 'TAUO', 'NEUROD', 'ATN', 'MONTHS',\n",
       "       'mmse_total', 'np_date', 'gds_total', 'Depression', 'cdr_global', 'DX',\n",
       "       'cdr_sob', 'LHVL', 'LHVR', 'LHV', 'LWMV', 'VASCULAR', 'DXCHANGE'],\n",
       "      dtype='object')"
      ]
     },
     "execution_count": 65,
     "metadata": {},
     "output_type": "execute_result"
    }
   ],
   "source": [
    "df_v1.columns"
   ]
  },
  {
   "cell_type": "code",
   "execution_count": 68,
   "metadata": {},
   "outputs": [
    {
     "data": {
      "text/html": [
       "<div>\n",
       "<style scoped>\n",
       "    .dataframe tbody tr th:only-of-type {\n",
       "        vertical-align: middle;\n",
       "    }\n",
       "\n",
       "    .dataframe tbody tr th {\n",
       "        vertical-align: top;\n",
       "    }\n",
       "\n",
       "    .dataframe thead th {\n",
       "        text-align: right;\n",
       "    }\n",
       "</style>\n",
       "<table border=\"1\" class=\"dataframe\">\n",
       "  <thead>\n",
       "    <tr style=\"text-align: right;\">\n",
       "      <th></th>\n",
       "      <th>abeta42_result</th>\n",
       "      <th>ptau_result</th>\n",
       "      <th>ttau_result</th>\n",
       "      <th>TAUO</th>\n",
       "      <th>ATN</th>\n",
       "    </tr>\n",
       "    <tr>\n",
       "      <th>patient_id</th>\n",
       "      <th></th>\n",
       "      <th></th>\n",
       "      <th></th>\n",
       "      <th></th>\n",
       "      <th></th>\n",
       "    </tr>\n",
       "  </thead>\n",
       "  <tbody>\n",
       "    <tr>\n",
       "      <th>1</th>\n",
       "      <td>1363.0</td>\n",
       "      <td>16.3</td>\n",
       "      <td>331.0</td>\n",
       "      <td>0.0</td>\n",
       "      <td>A-T-N+</td>\n",
       "    </tr>\n",
       "    <tr>\n",
       "      <th>2</th>\n",
       "      <td>1700.0</td>\n",
       "      <td>22.9</td>\n",
       "      <td>223.0</td>\n",
       "      <td>0.0</td>\n",
       "      <td>A-T-N-</td>\n",
       "    </tr>\n",
       "    <tr>\n",
       "      <th>3</th>\n",
       "      <td>1406.0</td>\n",
       "      <td>19.8</td>\n",
       "      <td>202.0</td>\n",
       "      <td>0.0</td>\n",
       "      <td>A-T-N-</td>\n",
       "    </tr>\n",
       "    <tr>\n",
       "      <th>4</th>\n",
       "      <td>1150.0</td>\n",
       "      <td>22.1</td>\n",
       "      <td>80.0</td>\n",
       "      <td>0.0</td>\n",
       "      <td>A-T-N-</td>\n",
       "    </tr>\n",
       "    <tr>\n",
       "      <th>5</th>\n",
       "      <td>NaN</td>\n",
       "      <td>NaN</td>\n",
       "      <td>NaN</td>\n",
       "      <td>NaN</td>\n",
       "      <td>NaN</td>\n",
       "    </tr>\n",
       "    <tr>\n",
       "      <th>...</th>\n",
       "      <td>...</td>\n",
       "      <td>...</td>\n",
       "      <td>...</td>\n",
       "      <td>...</td>\n",
       "      <td>...</td>\n",
       "    </tr>\n",
       "    <tr>\n",
       "      <th>996</th>\n",
       "      <td>1009.0</td>\n",
       "      <td>37.9</td>\n",
       "      <td>268.0</td>\n",
       "      <td>1.0</td>\n",
       "      <td>A-T+N+</td>\n",
       "    </tr>\n",
       "    <tr>\n",
       "      <th>997</th>\n",
       "      <td>1700.0</td>\n",
       "      <td>21.7</td>\n",
       "      <td>382.0</td>\n",
       "      <td>0.0</td>\n",
       "      <td>A-T-N+</td>\n",
       "    </tr>\n",
       "    <tr>\n",
       "      <th>998</th>\n",
       "      <td>NaN</td>\n",
       "      <td>NaN</td>\n",
       "      <td>NaN</td>\n",
       "      <td>NaN</td>\n",
       "      <td>NaN</td>\n",
       "    </tr>\n",
       "    <tr>\n",
       "      <th>999</th>\n",
       "      <td>755.0</td>\n",
       "      <td>26.3</td>\n",
       "      <td>301.0</td>\n",
       "      <td>0.0</td>\n",
       "      <td>A-T-N+</td>\n",
       "    </tr>\n",
       "    <tr>\n",
       "      <th>1000</th>\n",
       "      <td>994.0</td>\n",
       "      <td>18.5</td>\n",
       "      <td>234.0</td>\n",
       "      <td>0.0</td>\n",
       "      <td>A-T-N-</td>\n",
       "    </tr>\n",
       "  </tbody>\n",
       "</table>\n",
       "<p>1000 rows × 5 columns</p>\n",
       "</div>"
      ],
      "text/plain": [
       "            abeta42_result  ptau_result  ttau_result  TAUO     ATN\n",
       "patient_id                                                        \n",
       "1                   1363.0         16.3        331.0   0.0  A-T-N+\n",
       "2                   1700.0         22.9        223.0   0.0  A-T-N-\n",
       "3                   1406.0         19.8        202.0   0.0  A-T-N-\n",
       "4                   1150.0         22.1         80.0   0.0  A-T-N-\n",
       "5                      NaN          NaN          NaN   NaN     NaN\n",
       "...                    ...          ...          ...   ...     ...\n",
       "996                 1009.0         37.9        268.0   1.0  A-T+N+\n",
       "997                 1700.0         21.7        382.0   0.0  A-T-N+\n",
       "998                    NaN          NaN          NaN   NaN     NaN\n",
       "999                  755.0         26.3        301.0   0.0  A-T-N+\n",
       "1000                 994.0         18.5        234.0   0.0  A-T-N-\n",
       "\n",
       "[1000 rows x 5 columns]"
      ]
     },
     "execution_count": 68,
     "metadata": {},
     "output_type": "execute_result"
    }
   ],
   "source": [
    "# select tauo and ptauo columns\n",
    "df_v1[[\"abeta42_result\",\"ptau_result\", \"ttau_result\",\"TAUO\", \"ATN\"]]"
   ]
  },
  {
   "cell_type": "code",
   "execution_count": 121,
   "metadata": {},
   "outputs": [
    {
     "name": "stderr",
     "output_type": "stream",
     "text": [
      "C:\\Users\\anaso\\AppData\\Local\\Temp\\ipykernel_14496\\1270908955.py:2: SettingWithCopyWarning: \n",
      "A value is trying to be set on a copy of a slice from a DataFrame.\n",
      "Try using .loc[row_indexer,col_indexer] = value instead\n",
      "\n",
      "See the caveats in the documentation: https://pandas.pydata.org/pandas-docs/stable/user_guide/indexing.html#returning-a-view-versus-a-copy\n",
      "  df_v1[\"A\"] = df_v1[\"ATN\"].str[1].replace({'-': False, '+': True}).astype('bool')\n",
      "C:\\Users\\anaso\\AppData\\Local\\Temp\\ipykernel_14496\\1270908955.py:3: SettingWithCopyWarning: \n",
      "A value is trying to be set on a copy of a slice from a DataFrame.\n",
      "Try using .loc[row_indexer,col_indexer] = value instead\n",
      "\n",
      "See the caveats in the documentation: https://pandas.pydata.org/pandas-docs/stable/user_guide/indexing.html#returning-a-view-versus-a-copy\n",
      "  df_v1[\"T\"] = df_v1[\"ATN\"].str[3].replace({'-': False, '+': True}).astype('bool')\n",
      "C:\\Users\\anaso\\AppData\\Local\\Temp\\ipykernel_14496\\1270908955.py:4: SettingWithCopyWarning: \n",
      "A value is trying to be set on a copy of a slice from a DataFrame.\n",
      "Try using .loc[row_indexer,col_indexer] = value instead\n",
      "\n",
      "See the caveats in the documentation: https://pandas.pydata.org/pandas-docs/stable/user_guide/indexing.html#returning-a-view-versus-a-copy\n",
      "  df_v1[\"N\"] = df_v1[\"ATN\"].str[5].replace({'-': False, '+': True}).astype('bool')\n"
     ]
    }
   ],
   "source": [
    "# separate ATN column in 3 columns with bools\n",
    "df_v1[\"A\"] = df_v1[\"ATN\"].str[1].replace({'-': False, '+': True}).astype('bool')\n",
    "df_v1[\"T\"] = df_v1[\"ATN\"].str[3].replace({'-': False, '+': True}).astype('bool')\n",
    "df_v1[\"N\"] = df_v1[\"ATN\"].str[5].replace({'-': False, '+': True}).astype('bool')"
   ]
  },
  {
   "cell_type": "code",
   "execution_count": 125,
   "metadata": {},
   "outputs": [
    {
     "data": {
      "text/plain": [
       "True     900\n",
       "False    100\n",
       "Name: count, dtype: int64"
      ]
     },
     "execution_count": 125,
     "metadata": {},
     "output_type": "execute_result"
    }
   ],
   "source": [
    "((df_v1[\"abeta42_result\"] < 580) == df_v1[\"A\"]).value_counts()"
   ]
  },
  {
   "cell_type": "code",
   "execution_count": 126,
   "metadata": {},
   "outputs": [
    {
     "data": {
      "text/plain": [
       "True     900\n",
       "False    100\n",
       "Name: count, dtype: int64"
      ]
     },
     "execution_count": 126,
     "metadata": {},
     "output_type": "execute_result"
    }
   ],
   "source": [
    "((df_v1[\"ptau_result\"] > 37 ) == df_v1[\"T\"]).value_counts()"
   ]
  },
  {
   "cell_type": "code",
   "execution_count": 127,
   "metadata": {},
   "outputs": [
    {
     "data": {
      "text/plain": [
       "True     878\n",
       "False    122\n",
       "Name: count, dtype: int64"
      ]
     },
     "execution_count": 127,
     "metadata": {},
     "output_type": "execute_result"
    }
   ],
   "source": [
    "((df_v1[\"ttau_result\"] > 250) == df_v1[\"N\"]).value_counts()"
   ]
  },
  {
   "cell_type": "code",
   "execution_count": 134,
   "metadata": {},
   "outputs": [
    {
     "data": {
      "text/plain": [
       "Index([  5,  17,  37,  41,  59,  67,  80,  84,  86,  87,  90,  91,  98,  99,\n",
       "       113, 121, 136, 138, 140, 154, 192, 222, 242, 244, 270, 295, 314, 316,\n",
       "       319, 339, 365, 379, 386, 387, 389, 390, 402, 406, 411, 413, 420, 439,\n",
       "       440, 454, 466, 469, 470, 471, 477, 479, 497, 508, 519, 534, 537, 540,\n",
       "       546, 551, 576, 599, 600, 628, 630, 635, 636, 644, 648, 652, 666, 682,\n",
       "       698, 706, 710, 721, 728, 735, 781, 787, 802, 817, 826, 840, 846, 849,\n",
       "       852, 869, 870, 880, 884, 905, 911, 936, 939, 950, 953, 956, 972, 986,\n",
       "       989, 998],\n",
       "      dtype='int64', name='patient_id')"
      ]
     },
     "execution_count": 134,
     "metadata": {},
     "output_type": "execute_result"
    }
   ],
   "source": [
    "df_bla = df_v1[[\"abeta42_result\",\"ptau_result\", \"ttau_result\", \"ATN\"]]\n",
    "indices_na = df_bla[df_bla.isna().all(axis=1)].index\n",
    "indices_na"
   ]
  },
  {
   "cell_type": "code",
   "execution_count": 142,
   "metadata": {},
   "outputs": [],
   "source": [
    "df_v1 = df_v1.drop(indices_na, inplace=False)\n",
    "df_v2 = df_v2.drop(indices_na, inplace=False)\n",
    "df_v3 = df_v3.drop(indices_na, inplace=False)"
   ]
  },
  {
   "cell_type": "code",
   "execution_count": 124,
   "metadata": {},
   "outputs": [
    {
     "data": {
      "text/html": [
       "<div>\n",
       "<style scoped>\n",
       "    .dataframe tbody tr th:only-of-type {\n",
       "        vertical-align: middle;\n",
       "    }\n",
       "\n",
       "    .dataframe tbody tr th {\n",
       "        vertical-align: top;\n",
       "    }\n",
       "\n",
       "    .dataframe thead th {\n",
       "        text-align: right;\n",
       "    }\n",
       "</style>\n",
       "<table border=\"1\" class=\"dataframe\">\n",
       "  <thead>\n",
       "    <tr style=\"text-align: right;\">\n",
       "      <th></th>\n",
       "      <th>ATN</th>\n",
       "      <th>A</th>\n",
       "      <th>T</th>\n",
       "      <th>N</th>\n",
       "      <th>abeta42_result</th>\n",
       "      <th>ptau_result</th>\n",
       "      <th>ttau_result</th>\n",
       "    </tr>\n",
       "    <tr>\n",
       "      <th>patient_id</th>\n",
       "      <th></th>\n",
       "      <th></th>\n",
       "      <th></th>\n",
       "      <th></th>\n",
       "      <th></th>\n",
       "      <th></th>\n",
       "      <th></th>\n",
       "    </tr>\n",
       "  </thead>\n",
       "  <tbody>\n",
       "    <tr>\n",
       "      <th>1</th>\n",
       "      <td>A-T-N+</td>\n",
       "      <td>False</td>\n",
       "      <td>False</td>\n",
       "      <td>True</td>\n",
       "      <td>1363.0</td>\n",
       "      <td>16.3</td>\n",
       "      <td>331.0</td>\n",
       "    </tr>\n",
       "    <tr>\n",
       "      <th>2</th>\n",
       "      <td>A-T-N-</td>\n",
       "      <td>False</td>\n",
       "      <td>False</td>\n",
       "      <td>False</td>\n",
       "      <td>1700.0</td>\n",
       "      <td>22.9</td>\n",
       "      <td>223.0</td>\n",
       "    </tr>\n",
       "    <tr>\n",
       "      <th>3</th>\n",
       "      <td>A-T-N-</td>\n",
       "      <td>False</td>\n",
       "      <td>False</td>\n",
       "      <td>False</td>\n",
       "      <td>1406.0</td>\n",
       "      <td>19.8</td>\n",
       "      <td>202.0</td>\n",
       "    </tr>\n",
       "    <tr>\n",
       "      <th>4</th>\n",
       "      <td>A-T-N-</td>\n",
       "      <td>False</td>\n",
       "      <td>False</td>\n",
       "      <td>False</td>\n",
       "      <td>1150.0</td>\n",
       "      <td>22.1</td>\n",
       "      <td>80.0</td>\n",
       "    </tr>\n",
       "    <tr>\n",
       "      <th>5</th>\n",
       "      <td>NaN</td>\n",
       "      <td>True</td>\n",
       "      <td>True</td>\n",
       "      <td>True</td>\n",
       "      <td>NaN</td>\n",
       "      <td>NaN</td>\n",
       "      <td>NaN</td>\n",
       "    </tr>\n",
       "    <tr>\n",
       "      <th>...</th>\n",
       "      <td>...</td>\n",
       "      <td>...</td>\n",
       "      <td>...</td>\n",
       "      <td>...</td>\n",
       "      <td>...</td>\n",
       "      <td>...</td>\n",
       "      <td>...</td>\n",
       "    </tr>\n",
       "    <tr>\n",
       "      <th>996</th>\n",
       "      <td>A-T+N+</td>\n",
       "      <td>False</td>\n",
       "      <td>True</td>\n",
       "      <td>True</td>\n",
       "      <td>1009.0</td>\n",
       "      <td>37.9</td>\n",
       "      <td>268.0</td>\n",
       "    </tr>\n",
       "    <tr>\n",
       "      <th>997</th>\n",
       "      <td>A-T-N+</td>\n",
       "      <td>False</td>\n",
       "      <td>False</td>\n",
       "      <td>True</td>\n",
       "      <td>1700.0</td>\n",
       "      <td>21.7</td>\n",
       "      <td>382.0</td>\n",
       "    </tr>\n",
       "    <tr>\n",
       "      <th>998</th>\n",
       "      <td>NaN</td>\n",
       "      <td>True</td>\n",
       "      <td>True</td>\n",
       "      <td>True</td>\n",
       "      <td>NaN</td>\n",
       "      <td>NaN</td>\n",
       "      <td>NaN</td>\n",
       "    </tr>\n",
       "    <tr>\n",
       "      <th>999</th>\n",
       "      <td>A-T-N+</td>\n",
       "      <td>False</td>\n",
       "      <td>False</td>\n",
       "      <td>True</td>\n",
       "      <td>755.0</td>\n",
       "      <td>26.3</td>\n",
       "      <td>301.0</td>\n",
       "    </tr>\n",
       "    <tr>\n",
       "      <th>1000</th>\n",
       "      <td>A-T-N-</td>\n",
       "      <td>False</td>\n",
       "      <td>False</td>\n",
       "      <td>False</td>\n",
       "      <td>994.0</td>\n",
       "      <td>18.5</td>\n",
       "      <td>234.0</td>\n",
       "    </tr>\n",
       "  </tbody>\n",
       "</table>\n",
       "<p>1000 rows × 7 columns</p>\n",
       "</div>"
      ],
      "text/plain": [
       "               ATN      A      T      N  abeta42_result  ptau_result  \\\n",
       "patient_id                                                             \n",
       "1           A-T-N+  False  False   True          1363.0         16.3   \n",
       "2           A-T-N-  False  False  False          1700.0         22.9   \n",
       "3           A-T-N-  False  False  False          1406.0         19.8   \n",
       "4           A-T-N-  False  False  False          1150.0         22.1   \n",
       "5              NaN   True   True   True             NaN          NaN   \n",
       "...            ...    ...    ...    ...             ...          ...   \n",
       "996         A-T+N+  False   True   True          1009.0         37.9   \n",
       "997         A-T-N+  False  False   True          1700.0         21.7   \n",
       "998            NaN   True   True   True             NaN          NaN   \n",
       "999         A-T-N+  False  False   True           755.0         26.3   \n",
       "1000        A-T-N-  False  False  False           994.0         18.5   \n",
       "\n",
       "            ttau_result  \n",
       "patient_id               \n",
       "1                 331.0  \n",
       "2                 223.0  \n",
       "3                 202.0  \n",
       "4                  80.0  \n",
       "5                   NaN  \n",
       "...                 ...  \n",
       "996               268.0  \n",
       "997               382.0  \n",
       "998                 NaN  \n",
       "999               301.0  \n",
       "1000              234.0  \n",
       "\n",
       "[1000 rows x 7 columns]"
      ]
     },
     "execution_count": 124,
     "metadata": {},
     "output_type": "execute_result"
    }
   ],
   "source": [
    "df_v1[[\"ATN\",\"A\", \"T\", \"N\",'abeta42_result','ptau_result', 'ttau_result']]"
   ]
  },
  {
   "cell_type": "code",
   "execution_count": 73,
   "metadata": {},
   "outputs": [
    {
     "data": {
      "text/plain": [
       "VASCULAR\n",
       "1.0    510\n",
       "0.0    490\n",
       "Name: count, dtype: int64"
      ]
     },
     "execution_count": 73,
     "metadata": {},
     "output_type": "execute_result"
    }
   ],
   "source": [
    "df_v1[\"VASCULAR\"].value_counts()"
   ]
  },
  {
   "cell_type": "code",
   "execution_count": 84,
   "metadata": {},
   "outputs": [
    {
     "data": {
      "text/html": [
       "<div>\n",
       "<style scoped>\n",
       "    .dataframe tbody tr th:only-of-type {\n",
       "        vertical-align: middle;\n",
       "    }\n",
       "\n",
       "    .dataframe tbody tr th {\n",
       "        vertical-align: top;\n",
       "    }\n",
       "\n",
       "    .dataframe thead th {\n",
       "        text-align: right;\n",
       "    }\n",
       "</style>\n",
       "<table border=\"1\" class=\"dataframe\">\n",
       "  <thead>\n",
       "    <tr style=\"text-align: right;\">\n",
       "      <th></th>\n",
       "      <th>DXCHANGE</th>\n",
       "      <th>DX</th>\n",
       "      <th>DX</th>\n",
       "      <th>DX</th>\n",
       "    </tr>\n",
       "    <tr>\n",
       "      <th>patient_id</th>\n",
       "      <th></th>\n",
       "      <th></th>\n",
       "      <th></th>\n",
       "      <th></th>\n",
       "    </tr>\n",
       "  </thead>\n",
       "  <tbody>\n",
       "    <tr>\n",
       "      <th>1</th>\n",
       "      <td>Stable: Dementia</td>\n",
       "      <td>Dem</td>\n",
       "      <td>Dem</td>\n",
       "      <td>Dem</td>\n",
       "    </tr>\n",
       "    <tr>\n",
       "      <th>2</th>\n",
       "      <td>Reversion: MCI to NC</td>\n",
       "      <td>MCI</td>\n",
       "      <td>Dem</td>\n",
       "      <td>NC</td>\n",
       "    </tr>\n",
       "    <tr>\n",
       "      <th>3</th>\n",
       "      <td>Stable: Dementia</td>\n",
       "      <td>Dem</td>\n",
       "      <td>NC</td>\n",
       "      <td>Dem</td>\n",
       "    </tr>\n",
       "    <tr>\n",
       "      <th>4</th>\n",
       "      <td>NaN</td>\n",
       "      <td>NaN</td>\n",
       "      <td>NaN</td>\n",
       "      <td>Dem</td>\n",
       "    </tr>\n",
       "    <tr>\n",
       "      <th>5</th>\n",
       "      <td>Stable: Dementia</td>\n",
       "      <td>Dem</td>\n",
       "      <td>NaN</td>\n",
       "      <td>Dem</td>\n",
       "    </tr>\n",
       "    <tr>\n",
       "      <th>...</th>\n",
       "      <td>...</td>\n",
       "      <td>...</td>\n",
       "      <td>...</td>\n",
       "      <td>...</td>\n",
       "    </tr>\n",
       "    <tr>\n",
       "      <th>996</th>\n",
       "      <td>NaN</td>\n",
       "      <td>MCI</td>\n",
       "      <td>Dem</td>\n",
       "      <td>NaN</td>\n",
       "    </tr>\n",
       "    <tr>\n",
       "      <th>997</th>\n",
       "      <td>Reversion: Dementia to MCI</td>\n",
       "      <td>Dem</td>\n",
       "      <td>MCI</td>\n",
       "      <td>MCI</td>\n",
       "    </tr>\n",
       "    <tr>\n",
       "      <th>998</th>\n",
       "      <td>Conversion: MCI to Dementia</td>\n",
       "      <td>MCI</td>\n",
       "      <td>NC</td>\n",
       "      <td>Dem</td>\n",
       "    </tr>\n",
       "    <tr>\n",
       "      <th>999</th>\n",
       "      <td>Reversion: Dementia to NC</td>\n",
       "      <td>Dem</td>\n",
       "      <td>Dem</td>\n",
       "      <td>NC</td>\n",
       "    </tr>\n",
       "    <tr>\n",
       "      <th>1000</th>\n",
       "      <td>Reversion: MCI to NC</td>\n",
       "      <td>MCI</td>\n",
       "      <td>Dem</td>\n",
       "      <td>NC</td>\n",
       "    </tr>\n",
       "  </tbody>\n",
       "</table>\n",
       "<p>1000 rows × 4 columns</p>\n",
       "</div>"
      ],
      "text/plain": [
       "                               DXCHANGE   DX   DX   DX\n",
       "patient_id                                            \n",
       "1                      Stable: Dementia  Dem  Dem  Dem\n",
       "2                  Reversion: MCI to NC  MCI  Dem   NC\n",
       "3                      Stable: Dementia  Dem   NC  Dem\n",
       "4                                   NaN  NaN  NaN  Dem\n",
       "5                      Stable: Dementia  Dem  NaN  Dem\n",
       "...                                 ...  ...  ...  ...\n",
       "996                                 NaN  MCI  Dem  NaN\n",
       "997          Reversion: Dementia to MCI  Dem  MCI  MCI\n",
       "998         Conversion: MCI to Dementia  MCI   NC  Dem\n",
       "999           Reversion: Dementia to NC  Dem  Dem   NC\n",
       "1000               Reversion: MCI to NC  MCI  Dem   NC\n",
       "\n",
       "[1000 rows x 4 columns]"
      ]
     },
     "execution_count": 84,
     "metadata": {},
     "output_type": "execute_result"
    }
   ],
   "source": [
    "pd.concat([df_v1[[\"DXCHANGE\", \"DX\"]], df_v2[\"DX\"], df_v3[\"DX\"]], axis=1)"
   ]
  },
  {
   "cell_type": "code",
   "execution_count": 88,
   "metadata": {},
   "outputs": [],
   "source": [
    "dic = dict()"
   ]
  },
  {
   "cell_type": "code",
   "execution_count": 92,
   "metadata": {},
   "outputs": [],
   "source": [
    "dic[0]=\"NC\"\n",
    "dic[0.5]=\"MCI\"\n",
    "dic[1.0] = \"Dem\"\n",
    "dic[2.0] = \"Dem\"\n",
    "dic[3.0] = \"Dem\""
   ]
  },
  {
   "cell_type": "code",
   "execution_count": 94,
   "metadata": {},
   "outputs": [],
   "source": [
    "df_v3[\"cdr_global_to_DX\"] = df_v3[\"cdr_global\"].map(dic)"
   ]
  },
  {
   "cell_type": "code",
   "execution_count": 103,
   "metadata": {},
   "outputs": [
    {
     "data": {
      "text/plain": [
       "nan"
      ]
     },
     "execution_count": 103,
     "metadata": {},
     "output_type": "execute_result"
    }
   ],
   "source": [
    "df_v3[\"cdr_global_to_DX\"].iloc[995]"
   ]
  },
  {
   "cell_type": "code",
   "execution_count": 105,
   "metadata": {},
   "outputs": [
    {
     "data": {
      "text/plain": [
       "True     896\n",
       "False    104\n",
       "Name: count, dtype: int64"
      ]
     },
     "execution_count": 105,
     "metadata": {},
     "output_type": "execute_result"
    }
   ],
   "source": [
    "# count how many entries are equal in DX and cdr_global_to_DX columns:\n",
    "(df_v3[\"DX\"]==df_v3[\"cdr_global_to_DX\"]).value_counts()"
   ]
  },
  {
   "cell_type": "code",
   "execution_count": 97,
   "metadata": {},
   "outputs": [
    {
     "data": {
      "text/plain": [
       "104"
      ]
     },
     "execution_count": 97,
     "metadata": {},
     "output_type": "execute_result"
    }
   ],
   "source": [
    "df_v3[\"DX\"].isna().sum()"
   ]
  },
  {
   "cell_type": "code",
   "execution_count": 95,
   "metadata": {},
   "outputs": [
    {
     "data": {
      "text/html": [
       "<div>\n",
       "<style scoped>\n",
       "    .dataframe tbody tr th:only-of-type {\n",
       "        vertical-align: middle;\n",
       "    }\n",
       "\n",
       "    .dataframe tbody tr th {\n",
       "        vertical-align: top;\n",
       "    }\n",
       "\n",
       "    .dataframe thead th {\n",
       "        text-align: right;\n",
       "    }\n",
       "</style>\n",
       "<table border=\"1\" class=\"dataframe\">\n",
       "  <thead>\n",
       "    <tr style=\"text-align: right;\">\n",
       "      <th></th>\n",
       "      <th>cdr_global</th>\n",
       "      <th>DX</th>\n",
       "      <th>cdr_global_to_DX</th>\n",
       "    </tr>\n",
       "    <tr>\n",
       "      <th>patient_id</th>\n",
       "      <th></th>\n",
       "      <th></th>\n",
       "      <th></th>\n",
       "    </tr>\n",
       "  </thead>\n",
       "  <tbody>\n",
       "    <tr>\n",
       "      <th>1</th>\n",
       "      <td>3.0</td>\n",
       "      <td>Dem</td>\n",
       "      <td>Dem</td>\n",
       "    </tr>\n",
       "    <tr>\n",
       "      <th>2</th>\n",
       "      <td>0.0</td>\n",
       "      <td>NC</td>\n",
       "      <td>NC</td>\n",
       "    </tr>\n",
       "    <tr>\n",
       "      <th>3</th>\n",
       "      <td>3.0</td>\n",
       "      <td>Dem</td>\n",
       "      <td>Dem</td>\n",
       "    </tr>\n",
       "    <tr>\n",
       "      <th>4</th>\n",
       "      <td>2.0</td>\n",
       "      <td>Dem</td>\n",
       "      <td>Dem</td>\n",
       "    </tr>\n",
       "    <tr>\n",
       "      <th>5</th>\n",
       "      <td>2.0</td>\n",
       "      <td>Dem</td>\n",
       "      <td>Dem</td>\n",
       "    </tr>\n",
       "    <tr>\n",
       "      <th>...</th>\n",
       "      <td>...</td>\n",
       "      <td>...</td>\n",
       "      <td>...</td>\n",
       "    </tr>\n",
       "    <tr>\n",
       "      <th>996</th>\n",
       "      <td>NaN</td>\n",
       "      <td>NaN</td>\n",
       "      <td>NaN</td>\n",
       "    </tr>\n",
       "    <tr>\n",
       "      <th>997</th>\n",
       "      <td>0.5</td>\n",
       "      <td>MCI</td>\n",
       "      <td>MCI</td>\n",
       "    </tr>\n",
       "    <tr>\n",
       "      <th>998</th>\n",
       "      <td>3.0</td>\n",
       "      <td>Dem</td>\n",
       "      <td>Dem</td>\n",
       "    </tr>\n",
       "    <tr>\n",
       "      <th>999</th>\n",
       "      <td>0.0</td>\n",
       "      <td>NC</td>\n",
       "      <td>NC</td>\n",
       "    </tr>\n",
       "    <tr>\n",
       "      <th>1000</th>\n",
       "      <td>0.0</td>\n",
       "      <td>NC</td>\n",
       "      <td>NC</td>\n",
       "    </tr>\n",
       "  </tbody>\n",
       "</table>\n",
       "<p>1000 rows × 3 columns</p>\n",
       "</div>"
      ],
      "text/plain": [
       "            cdr_global   DX cdr_global_to_DX\n",
       "patient_id                                  \n",
       "1                  3.0  Dem              Dem\n",
       "2                  0.0   NC               NC\n",
       "3                  3.0  Dem              Dem\n",
       "4                  2.0  Dem              Dem\n",
       "5                  2.0  Dem              Dem\n",
       "...                ...  ...              ...\n",
       "996                NaN  NaN              NaN\n",
       "997                0.5  MCI              MCI\n",
       "998                3.0  Dem              Dem\n",
       "999                0.0   NC               NC\n",
       "1000               0.0   NC               NC\n",
       "\n",
       "[1000 rows x 3 columns]"
      ]
     },
     "execution_count": 95,
     "metadata": {},
     "output_type": "execute_result"
    }
   ],
   "source": [
    "df_v3[[\"cdr_global\", \"DX\", \"cdr_global_to_DX\"]]"
   ]
  },
  {
   "cell_type": "code",
   "execution_count": 91,
   "metadata": {},
   "outputs": [
    {
     "data": {
      "text/plain": [
       "cdr_global\n",
       "3.0    186\n",
       "1.0    186\n",
       "0.0    183\n",
       "0.5    175\n",
       "2.0    166\n",
       "Name: count, dtype: int64"
      ]
     },
     "execution_count": 91,
     "metadata": {},
     "output_type": "execute_result"
    }
   ],
   "source": [
    "df_v3[\"cdr_global\"].value_counts()"
   ]
  },
  {
   "cell_type": "code",
   "execution_count": 108,
   "metadata": {},
   "outputs": [
    {
     "data": {
      "text/plain": [
       "APOE4\n",
       "0.0    447\n",
       "1.0    271\n",
       "2.0    179\n",
       "Name: count, dtype: int64"
      ]
     },
     "execution_count": 108,
     "metadata": {},
     "output_type": "execute_result"
    }
   ],
   "source": [
    "df_v1[\"APOE4\"].value_counts()"
   ]
  },
  {
   "cell_type": "code",
   "execution_count": 111,
   "metadata": {},
   "outputs": [
    {
     "data": {
      "text/plain": [
       "apoe_result\n",
       "e3/e3    310\n",
       "e3/e4    229\n",
       "e4/e4    179\n",
       "e2/e3     96\n",
       "e2/e4     42\n",
       "e2/e2     41\n",
       "Name: count, dtype: int64"
      ]
     },
     "execution_count": 111,
     "metadata": {},
     "output_type": "execute_result"
    }
   ],
   "source": [
    "df_v1[\"apoe_result\"].value_counts()"
   ]
  },
  {
   "cell_type": "code",
   "execution_count": 175,
   "metadata": {},
   "outputs": [
    {
     "data": {
      "text/html": [
       "<div>\n",
       "<style scoped>\n",
       "    .dataframe tbody tr th:only-of-type {\n",
       "        vertical-align: middle;\n",
       "    }\n",
       "\n",
       "    .dataframe tbody tr th {\n",
       "        vertical-align: top;\n",
       "    }\n",
       "\n",
       "    .dataframe thead th {\n",
       "        text-align: right;\n",
       "    }\n",
       "</style>\n",
       "<table border=\"1\" class=\"dataframe\">\n",
       "  <thead>\n",
       "    <tr style=\"text-align: right;\">\n",
       "      <th></th>\n",
       "      <th>APOE4</th>\n",
       "      <th>MONTHS</th>\n",
       "      <th>mmse_total</th>\n",
       "    </tr>\n",
       "    <tr>\n",
       "      <th>patient_id</th>\n",
       "      <th></th>\n",
       "      <th></th>\n",
       "      <th></th>\n",
       "    </tr>\n",
       "  </thead>\n",
       "  <tbody>\n",
       "    <tr>\n",
       "      <th>1</th>\n",
       "      <td>False</td>\n",
       "      <td>False</td>\n",
       "      <td>False</td>\n",
       "    </tr>\n",
       "    <tr>\n",
       "      <th>2</th>\n",
       "      <td>False</td>\n",
       "      <td>False</td>\n",
       "      <td>False</td>\n",
       "    </tr>\n",
       "    <tr>\n",
       "      <th>3</th>\n",
       "      <td>False</td>\n",
       "      <td>False</td>\n",
       "      <td>False</td>\n",
       "    </tr>\n",
       "    <tr>\n",
       "      <th>4</th>\n",
       "      <td>False</td>\n",
       "      <td>False</td>\n",
       "      <td>False</td>\n",
       "    </tr>\n",
       "    <tr>\n",
       "      <th>6</th>\n",
       "      <td>False</td>\n",
       "      <td>False</td>\n",
       "      <td>False</td>\n",
       "    </tr>\n",
       "    <tr>\n",
       "      <th>...</th>\n",
       "      <td>...</td>\n",
       "      <td>...</td>\n",
       "      <td>...</td>\n",
       "    </tr>\n",
       "    <tr>\n",
       "      <th>995</th>\n",
       "      <td>True</td>\n",
       "      <td>False</td>\n",
       "      <td>False</td>\n",
       "    </tr>\n",
       "    <tr>\n",
       "      <th>996</th>\n",
       "      <td>True</td>\n",
       "      <td>False</td>\n",
       "      <td>False</td>\n",
       "    </tr>\n",
       "    <tr>\n",
       "      <th>997</th>\n",
       "      <td>False</td>\n",
       "      <td>False</td>\n",
       "      <td>False</td>\n",
       "    </tr>\n",
       "    <tr>\n",
       "      <th>999</th>\n",
       "      <td>False</td>\n",
       "      <td>False</td>\n",
       "      <td>False</td>\n",
       "    </tr>\n",
       "    <tr>\n",
       "      <th>1000</th>\n",
       "      <td>False</td>\n",
       "      <td>False</td>\n",
       "      <td>False</td>\n",
       "    </tr>\n",
       "  </tbody>\n",
       "</table>\n",
       "<p>900 rows × 3 columns</p>\n",
       "</div>"
      ],
      "text/plain": [
       "            APOE4  MONTHS  mmse_total\n",
       "patient_id                           \n",
       "1           False   False       False\n",
       "2           False   False       False\n",
       "3           False   False       False\n",
       "4           False   False       False\n",
       "6           False   False       False\n",
       "...           ...     ...         ...\n",
       "995          True   False       False\n",
       "996          True   False       False\n",
       "997         False   False       False\n",
       "999         False   False       False\n",
       "1000        False   False       False\n",
       "\n",
       "[900 rows x 3 columns]"
      ]
     },
     "execution_count": 175,
     "metadata": {},
     "output_type": "execute_result"
    }
   ],
   "source": [
    "# see columns with nan values\n",
    "df_v1[[\"APOE4\", \"MONTHS\", \"mmse_total\"]].isna()"
   ]
  },
  {
   "cell_type": "code",
   "execution_count": 146,
   "metadata": {},
   "outputs": [
    {
     "data": {
      "text/plain": [
       "AMYL\n",
       "0.0    837\n",
       "1.0     63\n",
       "Name: count, dtype: int64"
      ]
     },
     "execution_count": 146,
     "metadata": {},
     "output_type": "execute_result"
    }
   ],
   "source": [
    "df_v1[\"AMYL\"].value_counts()"
   ]
  },
  {
   "cell_type": "code",
   "execution_count": 163,
   "metadata": {},
   "outputs": [
    {
     "data": {
      "text/plain": [
       "AMYL\n",
       "False    755\n",
       "True     145\n",
       "Name: count, dtype: int64"
      ]
     },
     "execution_count": 163,
     "metadata": {},
     "output_type": "execute_result"
    }
   ],
   "source": [
    "df_v1[\"AMYL\"].value_counts()"
   ]
  },
  {
   "cell_type": "code",
   "execution_count": 171,
   "metadata": {},
   "outputs": [
    {
     "data": {
      "image/png": "[encoded data removed]",
      "text/plain": [
       "<Figure size 640x480 with 1 Axes>"
      ]
     },
     "metadata": {},
     "output_type": "display_data"
    }
   ],
   "source": [
    "value_counts = df_v1[\"AMYL\"].astype(\"category\").value_counts()\n",
    "plt.bar(value_counts.index.astype(\"str\"), value_counts.values, color='b', alpha=0.5, width=0.5, align='center')\n",
    "plt.xlabel('Categories')\n",
    "plt.ylabel('Count')\n",
    "plt.title('Histogram of AMYL results')\n",
    "plt.show()"
   ]
  },
  {
   "cell_type": "code",
   "execution_count": 179,
   "metadata": {},
   "outputs": [
    {
     "data": {
      "text/plain": [
       "False    898\n",
       "True       2\n",
       "Name: count, dtype: int64"
      ]
     },
     "execution_count": 179,
     "metadata": {},
     "output_type": "execute_result"
    }
   ],
   "source": [
    "(df_v1[\"A\"] & df_v1[\"T\"]).value_counts()"
   ]
  },
  {
   "cell_type": "code",
   "execution_count": 181,
   "metadata": {},
   "outputs": [
    {
     "data": {
      "text/plain": [
       "Index(['sex', 'age_years', 'years_education', 'APOE4', 'apoe_result',\n",
       "       'family_dementia_history', 'MONTHS', 'mmse_total', 'np_date',\n",
       "       'gds_total', 'Depression', 'cdr_global', 'DX', 'cdr_sob'],\n",
       "      dtype='object')"
      ]
     },
     "execution_count": 181,
     "metadata": {},
     "output_type": "execute_result"
    }
   ],
   "source": [
    "df_v2.columns\n"
   ]
  },
  {
   "cell_type": "code",
   "execution_count": 1,
   "metadata": {},
   "outputs": [
    {
     "ename": "NameError",
     "evalue": "name 'df_v2' is not defined",
     "output_type": "error",
     "traceback": [
      "\u001b[1;31m---------------------------------------------------------------------------\u001b[0m",
      "\u001b[1;31mNameError\u001b[0m                                 Traceback (most recent call last)",
      "Cell \u001b[1;32mIn[1], line 1\u001b[0m\n\u001b[1;32m----> 1\u001b[0m df_v2[\u001b[39m\"\u001b[39m\u001b[39mAPOE4\u001b[39m\u001b[39m\"\u001b[39m, \u001b[39m\"\u001b[39m\u001b[39mapoe_result\u001b[39m\u001b[39m\"\u001b[39m]\n",
      "\u001b[1;31mNameError\u001b[0m: name 'df_v2' is not defined"
     ]
    }
   ],
   "source": [
    "df_v2[\"APOE4\", \"apoe_result\"]"
   ]
  },
  {
   "cell_type": "code",
   "execution_count": null,
   "metadata": {},
   "outputs": [],
   "source": []
  }
 ],
 "metadata": {
  "kernelspec": {
   "display_name": "ml_alzheimer",
   "language": "python",
   "name": "python3"
  },
  "language_info": {
   "codemirror_mode": {
    "name": "ipython",
    "version": 3
   },
   "file_extension": ".py",
   "mimetype": "text/x-python",
   "name": "python",
   "nbconvert_exporter": "python",
   "pygments_lexer": "ipython3",
   "version": "3.8.17"
  },
  "orig_nbformat": 4
 },
 "nbformat": 4,
 "nbformat_minor": 2
}
